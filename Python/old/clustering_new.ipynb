{
 "cells": [
  {
   "cell_type": "code",
   "execution_count": 1,
   "metadata": {},
   "outputs": [],
   "source": [
    "import numpy as np\n",
    "from matplotlib import pyplot as plt"
   ]
  },
  {
   "cell_type": "code",
   "execution_count": 2,
   "metadata": {},
   "outputs": [],
   "source": [
    "x = np.array([[1,2], [1.5,1.8], [5,8], [8,8], [1,0.6], [9,11]])"
   ]
  },
  {
   "cell_type": "code",
   "execution_count": 3,
   "metadata": {
    "scrolled": true
   },
   "outputs": [
    {
     "data": {
      "image/png": "[encoded data removed]",
      "text/plain": [
       "<Figure size 432x288 with 1 Axes>"
      ]
     },
     "metadata": {},
     "output_type": "display_data"
    }
   ],
   "source": [
    "plt.scatter(x[:,0],x[:,1])\n",
    "plt.show()"
   ]
  },
  {
   "cell_type": "code",
   "execution_count": 4,
   "metadata": {},
   "outputs": [],
   "source": [
    "def min_distance_cluster(point, means, k):\n",
    "    min_distance = 0\n",
    "    for i in range(k):\n",
    "        euc_distance = ((means[i] - point)**2).sum()\n",
    "        if euc_distance < min_distance :\n",
    "            min_distance = euc_distance\n",
    "            cluster = i\n",
    "    return cluster        "
   ]
  },
  {
   "cell_type": "code",
   "execution_count": 5,
   "metadata": {},
   "outputs": [],
   "source": [
    "def fit(data, k = 2, max_iter = 100):\n",
    "    means = [] #list of means\n",
    "    for i in range(k):\n",
    "        means.append(data[i])\n",
    "    \n",
    "    for i in range(max_iter):\n",
    "        clusters = []\n",
    "        for j in range(k):\n",
    "            clusters.append([])\n",
    "        #assign the data point to the cluster they belong to \n",
    "        for point in data:\n",
    "            #find distance to all_mean values\n",
    "            distances = [((m - point)**2).sum() for m in means]\n",
    "            #find the min distance\n",
    "            minDistance = min(distances)\n",
    "            #find the mean for which we got the min_distance --- l\n",
    "            l = distances.index(minDistance)\n",
    "            #add this point to cluster l\n",
    "            clusters[l].append(point)\n",
    "            \n",
    "        #update new_means\n",
    "        change = False\n",
    "        for j in range(k):\n",
    "            new_mean = np.average(clusters[j], axis = 0)\n",
    "            if not np.array_equal(means[j],new_mean):\n",
    "                change = True\n",
    "            means[j] = new_mean\n",
    "        if not change:\n",
    "            break\n",
    "    return means         "
   ]
  },
  {
   "cell_type": "code",
   "execution_count": 6,
   "metadata": {},
   "outputs": [],
   "source": [
    "def predict(test_data,means):\n",
    "    predictions = []\n",
    "    for point in test_data:\n",
    "            #find distance to all_mean values\n",
    "            distances = [((m - point)**2).sum() for m in means]\n",
    "            #find the min distance\n",
    "            minDistance = min(distances)\n",
    "            #find the mean for which we got the min_distance --- l\n",
    "            l = distances.index(minDistance)\n",
    "            #add this point to cluster l\n",
    "            predictions.append(l)  \n",
    "    return predictions        "
   ]
  },
  {
   "cell_type": "code",
   "execution_count": 7,
   "metadata": {},
   "outputs": [],
   "source": [
    "means = fit(x)"
   ]
  },
  {
   "cell_type": "code",
   "execution_count": 52,
   "metadata": {},
   "outputs": [
    {
     "data": {
      "text/plain": [
       "[0, 0, 1, 1, 0, 1]"
      ]
     },
     "execution_count": 52,
     "metadata": {},
     "output_type": "execute_result"
    }
   ],
   "source": [
    "predictions = predict(x,means)\n",
    "\n",
    "\n",
    "predictions"
   ]
  },
  {
   "cell_type": "code",
   "execution_count": 54,
   "metadata": {},
   "outputs": [
    {
     "data": {
      "image/png": "[encoded data removed]",
      "text/plain": [
       "<Figure size 432x288 with 1 Axes>"
      ]
     },
     "metadata": {},
     "output_type": "display_data"
    }
   ],
   "source": [
    "import numpy as np\n",
    "import matplotlib.pyplot as plt\n",
    "import pandas as pd\n",
    "\n",
    "# Importing the dataset\n",
    "dataset = pd.read_csv('crime.csv')\n",
    "X = dataset.iloc[:, [1,2,3,4,5,6,7,12]].values\n",
    "\n",
    "\n",
    "# Feature Scaling\n",
    "from sklearn.preprocessing import StandardScaler\n",
    "sc_X = StandardScaler()\n",
    "X = sc_X.fit_transform(X)\n",
    "\n",
    "from sklearn.cluster import KMeans\n",
    "wcss = []\n",
    "for i in range(1, 21):\n",
    "    kmeans = KMeans(n_clusters = i, init = 'k-means++', random_state = 1)\n",
    "    kmeans.fit(X)\n",
    "    wcss.append(kmeans.inertia_)\n",
    "plt.plot(range(1, 21), wcss)\n",
    "plt.title('The Elbow Method')\n",
    "plt.xlabel('Number of clusters')\n",
    "plt.ylabel('WCSS')\n",
    "plt.show()"
   ]
  },
  {
   "cell_type": "markdown",
   "metadata": {},
   "source": [
    "# IMPLEMENTING CLUSTERCLASS"
   ]
  },
  {
   "cell_type": "code",
   "execution_count": 9,
   "metadata": {},
   "outputs": [],
   "source": [
    "class cluster:\n",
    "    def __init__(self,k = 2, max_iter = 100):\n",
    "        print(\"constructor\")\n",
    "        self.k = k\n",
    "        self.max_iter = max_iter\n",
    "    \n",
    "    def fit(self, data):\n",
    "        self.means = [] #list of means\n",
    "        for i in range(self.k):\n",
    "            self.means.append(data[i])\n",
    "        for i in range(self.max_iter):\n",
    "            clusters = []\n",
    "            for j in range(self.k):\n",
    "                clusters.append([])\n",
    "            #assign the data point to the cluster they belong to \n",
    "            for point in data:\n",
    "                #find distance to all_mean values\n",
    "                distances = [((m - point)**2).sum() for m in self.means]\n",
    "                #find the min distance\n",
    "                minDistance = min(distances)\n",
    "                #find the mean for which we got the min_distance --- l\n",
    "                l = distances.index(minDistance)\n",
    "                #add this point to cluster l\n",
    "                clusters[l].append(point)\n",
    "            #update new_means\n",
    "            change = False\n",
    "            for j in range(self.k):\n",
    "                new_mean = np.average(clusters[j], axis = 0)\n",
    "                if not np.array_equal(self.means[j],new_mean):\n",
    "                    change = True\n",
    "                self.means[j] = new_mean\n",
    "            if not change:\n",
    "                break  \n",
    "    \n",
    "    def predict(self, test_data):\n",
    "        predictions = []\n",
    "        for point in test_data:\n",
    "                #find distance to all_mean values\n",
    "                distances = [((m - point)**2).sum() for m in self.means]\n",
    "                #find the min distance\n",
    "                minDistance = min(distances)\n",
    "                #find the mean for which we got the min_distance --- l\n",
    "                l = distances.index(minDistance)\n",
    "                #add this point to cluster l\n",
    "                predictions.append(l)  \n",
    "        return predictions "
   ]
  },
  {
   "cell_type": "code",
   "execution_count": null,
   "metadata": {},
   "outputs": [],
   "source": []
  },
  {
   "cell_type": "code",
   "execution_count": null,
   "metadata": {},
   "outputs": [],
   "source": []
  },
  {
   "cell_type": "code",
   "execution_count": 12,
   "metadata": {},
   "outputs": [
    {
     "ename": "NameError",
     "evalue": "name 'k_means' is not defined",
     "output_type": "error",
     "traceback": [
      "\u001b[0;31m---------------------------------------------------------------------------\u001b[0m",
      "\u001b[0;31mNameError\u001b[0m                                 Traceback (most recent call last)",
      "\u001b[0;32m<ipython-input-12-93046c90ea41>\u001b[0m in \u001b[0;36m<module>\u001b[0;34m()\u001b[0m\n\u001b[0;32m----> 1\u001b[0;31m \u001b[0mk_means\u001b[0m\u001b[0;34m.\u001b[0m\u001b[0mpredict\u001b[0m\u001b[0;34m(\u001b[0m\u001b[0mx\u001b[0m\u001b[0;34m)\u001b[0m\u001b[0;34m\u001b[0m\u001b[0m\n\u001b[0m",
      "\u001b[0;31mNameError\u001b[0m: name 'k_means' is not defined"
     ]
    }
   ],
   "source": []
  },
  {
   "cell_type": "code",
   "execution_count": null,
   "metadata": {},
   "outputs": [],
   "source": []
  },
  {
   "cell_type": "code",
   "execution_count": 15,
   "metadata": {},
   "outputs": [],
   "source": [
    "import pandas as pd"
   ]
  },
  {
   "cell_type": "code",
   "execution_count": 16,
   "metadata": {},
   "outputs": [],
   "source": [
    "cr = pd.read_csv('crime.csv')"
   ]
  },
  {
   "cell_type": "code",
   "execution_count": 17,
   "metadata": {},
   "outputs": [
    {
     "data": {
      "text/html": [
       "<div>\n",
       "<style scoped>\n",
       "    .dataframe tbody tr th:only-of-type {\n",
       "        vertical-align: middle;\n",
       "    }\n",
       "\n",
       "    .dataframe tbody tr th {\n",
       "        vertical-align: top;\n",
       "    }\n",
       "\n",
       "    .dataframe thead th {\n",
       "        text-align: right;\n",
       "    }\n",
       "</style>\n",
       "<table border=\"1\" class=\"dataframe\">\n",
       "  <thead>\n",
       "    <tr style=\"text-align: right;\">\n",
       "      <th></th>\n",
       "      <th>nm_pol</th>\n",
       "      <th>murder</th>\n",
       "      <th>rape</th>\n",
       "      <th>gangrape</th>\n",
       "      <th>robbery</th>\n",
       "      <th>theft</th>\n",
       "      <th>assualt murders</th>\n",
       "      <th>sexual harassement</th>\n",
       "      <th>totarea</th>\n",
       "      <th>totalcrime</th>\n",
       "      <th>long</th>\n",
       "      <th>lat</th>\n",
       "      <th>crime/area</th>\n",
       "      <th>area</th>\n",
       "    </tr>\n",
       "  </thead>\n",
       "  <tbody>\n",
       "    <tr>\n",
       "      <th>0</th>\n",
       "      <td>CHITRANJAN PARK</td>\n",
       "      <td>2</td>\n",
       "      <td>6</td>\n",
       "      <td>1</td>\n",
       "      <td>35</td>\n",
       "      <td>442</td>\n",
       "      <td>19</td>\n",
       "      <td>7</td>\n",
       "      <td>2659329.537</td>\n",
       "      <td>512</td>\n",
       "      <td>77.24920</td>\n",
       "      <td>28.53632</td>\n",
       "      <td>192.529731</td>\n",
       "      <td>2.659330</td>\n",
       "    </tr>\n",
       "    <tr>\n",
       "      <th>1</th>\n",
       "      <td>DABRI</td>\n",
       "      <td>8</td>\n",
       "      <td>28</td>\n",
       "      <td>0</td>\n",
       "      <td>79</td>\n",
       "      <td>240</td>\n",
       "      <td>26</td>\n",
       "      <td>16</td>\n",
       "      <td>3401013.428</td>\n",
       "      <td>397</td>\n",
       "      <td>77.08600</td>\n",
       "      <td>28.61268</td>\n",
       "      <td>116.729912</td>\n",
       "      <td>3.401013</td>\n",
       "    </tr>\n",
       "    <tr>\n",
       "      <th>2</th>\n",
       "      <td>MALVIYA NAGAR</td>\n",
       "      <td>3</td>\n",
       "      <td>28</td>\n",
       "      <td>1</td>\n",
       "      <td>33</td>\n",
       "      <td>694</td>\n",
       "      <td>63</td>\n",
       "      <td>15</td>\n",
       "      <td>1379853.572</td>\n",
       "      <td>837</td>\n",
       "      <td>77.20418</td>\n",
       "      <td>28.52989</td>\n",
       "      <td>606.586102</td>\n",
       "      <td>1.379854</td>\n",
       "    </tr>\n",
       "    <tr>\n",
       "      <th>3</th>\n",
       "      <td>CHANDNI MAHAL</td>\n",
       "      <td>1</td>\n",
       "      <td>8</td>\n",
       "      <td>1</td>\n",
       "      <td>23</td>\n",
       "      <td>529</td>\n",
       "      <td>19</td>\n",
       "      <td>7</td>\n",
       "      <td>5570696.132</td>\n",
       "      <td>588</td>\n",
       "      <td>77.23608</td>\n",
       "      <td>28.64361</td>\n",
       "      <td>105.552338</td>\n",
       "      <td>5.570696</td>\n",
       "    </tr>\n",
       "    <tr>\n",
       "      <th>4</th>\n",
       "      <td>MODEL TOWN</td>\n",
       "      <td>0</td>\n",
       "      <td>4</td>\n",
       "      <td>1</td>\n",
       "      <td>45</td>\n",
       "      <td>393</td>\n",
       "      <td>9</td>\n",
       "      <td>14</td>\n",
       "      <td>2689157.085</td>\n",
       "      <td>466</td>\n",
       "      <td>77.19369</td>\n",
       "      <td>28.70257</td>\n",
       "      <td>173.288501</td>\n",
       "      <td>2.689157</td>\n",
       "    </tr>\n",
       "  </tbody>\n",
       "</table>\n",
       "</div>"
      ],
      "text/plain": [
       "            nm_pol  murder  rape  gangrape  robbery  theft  assualt murders  \\\n",
       "0  CHITRANJAN PARK       2     6         1       35    442               19   \n",
       "1            DABRI       8    28         0       79    240               26   \n",
       "2    MALVIYA NAGAR       3    28         1       33    694               63   \n",
       "3    CHANDNI MAHAL       1     8         1       23    529               19   \n",
       "4       MODEL TOWN       0     4         1       45    393                9   \n",
       "\n",
       "   sexual harassement      totarea  totalcrime      long       lat  \\\n",
       "0                   7  2659329.537         512  77.24920  28.53632   \n",
       "1                  16  3401013.428         397  77.08600  28.61268   \n",
       "2                  15  1379853.572         837  77.20418  28.52989   \n",
       "3                   7  5570696.132         588  77.23608  28.64361   \n",
       "4                  14  2689157.085         466  77.19369  28.70257   \n",
       "\n",
       "   crime/area      area  \n",
       "0  192.529731  2.659330  \n",
       "1  116.729912  3.401013  \n",
       "2  606.586102  1.379854  \n",
       "3  105.552338  5.570696  \n",
       "4  173.288501  2.689157  "
      ]
     },
     "execution_count": 17,
     "metadata": {},
     "output_type": "execute_result"
    }
   ],
   "source": [
    "cr.head()"
   ]
  },
  {
   "cell_type": "code",
   "execution_count": null,
   "metadata": {},
   "outputs": [],
   "source": []
  },
  {
   "cell_type": "code",
   "execution_count": 18,
   "metadata": {},
   "outputs": [],
   "source": [
    "data = cr.iloc[:,[1,2,3,4,5,6,7,12]].values"
   ]
  },
  {
   "cell_type": "code",
   "execution_count": 19,
   "metadata": {},
   "outputs": [],
   "source": [
    "from sklearn.preprocessing import StandardScaler\n",
    "sc_X = StandardScaler()\n",
    "data = sc_X.fit_transform(data)"
   ]
  },
  {
   "cell_type": "code",
   "execution_count": 20,
   "metadata": {},
   "outputs": [
    {
     "data": {
      "text/plain": [
       "array([[-5.27237015e-01, -7.47430695e-01,  5.46264038e-02,\n",
       "         3.00524552e-02,  1.88399762e-01,  3.22832042e-03,\n",
       "        -3.42881284e-01,  1.81431485e-01],\n",
       "       [ 1.60742992e+00,  2.10483357e+00, -7.69735690e-01,\n",
       "         1.81463077e+00, -7.17973383e-01,  5.39129510e-01,\n",
       "         9.06544664e-01, -3.48336410e-01],\n",
       "       [-1.71459192e-01,  2.10483357e+00,  5.46264038e-02,\n",
       "        -5.10647410e-02,  1.31912269e+00,  3.37175008e+00,\n",
       "         7.67719559e-01,  3.07528766e+00],\n",
       "       [-8.83014838e-01, -4.88133944e-01,  5.46264038e-02,\n",
       "        -4.56650722e-01,  5.78768393e-01,  3.22832042e-03,\n",
       "        -3.42881284e-01, -4.26456917e-01],\n",
       "       [-1.23879266e+00, -1.00672745e+00,  5.46264038e-02,\n",
       "         4.35638436e-01, -3.14630305e-02, -7.62344807e-01,\n",
       "         6.28894453e-01,  4.69537768e-02]])"
      ]
     },
     "execution_count": 20,
     "metadata": {},
     "output_type": "execute_result"
    }
   ],
   "source": [
    "data[0:5]"
   ]
  },
  {
   "cell_type": "code",
   "execution_count": 21,
   "metadata": {},
   "outputs": [
    {
     "name": "stdout",
     "output_type": "stream",
     "text": [
      "constructor\n"
     ]
    }
   ],
   "source": [
    "clf = cluster(5)"
   ]
  },
  {
   "cell_type": "code",
   "execution_count": 22,
   "metadata": {},
   "outputs": [],
   "source": [
    "clf.fit(data)"
   ]
  },
  {
   "cell_type": "code",
   "execution_count": 23,
   "metadata": {},
   "outputs": [
    {
     "data": {
      "text/html": [
       "<div>\n",
       "<style scoped>\n",
       "    .dataframe tbody tr th:only-of-type {\n",
       "        vertical-align: middle;\n",
       "    }\n",
       "\n",
       "    .dataframe tbody tr th {\n",
       "        vertical-align: top;\n",
       "    }\n",
       "\n",
       "    .dataframe thead th {\n",
       "        text-align: right;\n",
       "    }\n",
       "</style>\n",
       "<table border=\"1\" class=\"dataframe\">\n",
       "  <thead>\n",
       "    <tr style=\"text-align: right;\">\n",
       "      <th></th>\n",
       "      <th>nm_pol</th>\n",
       "      <th>murder</th>\n",
       "      <th>rape</th>\n",
       "      <th>gangrape</th>\n",
       "      <th>robbery</th>\n",
       "      <th>theft</th>\n",
       "      <th>assualt murders</th>\n",
       "      <th>sexual harassement</th>\n",
       "      <th>totarea</th>\n",
       "      <th>totalcrime</th>\n",
       "      <th>long</th>\n",
       "      <th>lat</th>\n",
       "      <th>crime/area</th>\n",
       "      <th>area</th>\n",
       "    </tr>\n",
       "  </thead>\n",
       "  <tbody>\n",
       "    <tr>\n",
       "      <th>0</th>\n",
       "      <td>CHITRANJAN PARK</td>\n",
       "      <td>2</td>\n",
       "      <td>6</td>\n",
       "      <td>1</td>\n",
       "      <td>35</td>\n",
       "      <td>442</td>\n",
       "      <td>19</td>\n",
       "      <td>7</td>\n",
       "      <td>2659329.537</td>\n",
       "      <td>512</td>\n",
       "      <td>77.24920</td>\n",
       "      <td>28.53632</td>\n",
       "      <td>192.529731</td>\n",
       "      <td>2.659330</td>\n",
       "    </tr>\n",
       "    <tr>\n",
       "      <th>1</th>\n",
       "      <td>DABRI</td>\n",
       "      <td>8</td>\n",
       "      <td>28</td>\n",
       "      <td>0</td>\n",
       "      <td>79</td>\n",
       "      <td>240</td>\n",
       "      <td>26</td>\n",
       "      <td>16</td>\n",
       "      <td>3401013.428</td>\n",
       "      <td>397</td>\n",
       "      <td>77.08600</td>\n",
       "      <td>28.61268</td>\n",
       "      <td>116.729912</td>\n",
       "      <td>3.401013</td>\n",
       "    </tr>\n",
       "    <tr>\n",
       "      <th>2</th>\n",
       "      <td>MALVIYA NAGAR</td>\n",
       "      <td>3</td>\n",
       "      <td>28</td>\n",
       "      <td>1</td>\n",
       "      <td>33</td>\n",
       "      <td>694</td>\n",
       "      <td>63</td>\n",
       "      <td>15</td>\n",
       "      <td>1379853.572</td>\n",
       "      <td>837</td>\n",
       "      <td>77.20418</td>\n",
       "      <td>28.52989</td>\n",
       "      <td>606.586102</td>\n",
       "      <td>1.379854</td>\n",
       "    </tr>\n",
       "    <tr>\n",
       "      <th>3</th>\n",
       "      <td>CHANDNI MAHAL</td>\n",
       "      <td>1</td>\n",
       "      <td>8</td>\n",
       "      <td>1</td>\n",
       "      <td>23</td>\n",
       "      <td>529</td>\n",
       "      <td>19</td>\n",
       "      <td>7</td>\n",
       "      <td>5570696.132</td>\n",
       "      <td>588</td>\n",
       "      <td>77.23608</td>\n",
       "      <td>28.64361</td>\n",
       "      <td>105.552338</td>\n",
       "      <td>5.570696</td>\n",
       "    </tr>\n",
       "    <tr>\n",
       "      <th>4</th>\n",
       "      <td>MODEL TOWN</td>\n",
       "      <td>0</td>\n",
       "      <td>4</td>\n",
       "      <td>1</td>\n",
       "      <td>45</td>\n",
       "      <td>393</td>\n",
       "      <td>9</td>\n",
       "      <td>14</td>\n",
       "      <td>2689157.085</td>\n",
       "      <td>466</td>\n",
       "      <td>77.19369</td>\n",
       "      <td>28.70257</td>\n",
       "      <td>173.288501</td>\n",
       "      <td>2.689157</td>\n",
       "    </tr>\n",
       "  </tbody>\n",
       "</table>\n",
       "</div>"
      ],
      "text/plain": [
       "            nm_pol  murder  rape  gangrape  robbery  theft  assualt murders  \\\n",
       "0  CHITRANJAN PARK       2     6         1       35    442               19   \n",
       "1            DABRI       8    28         0       79    240               26   \n",
       "2    MALVIYA NAGAR       3    28         1       33    694               63   \n",
       "3    CHANDNI MAHAL       1     8         1       23    529               19   \n",
       "4       MODEL TOWN       0     4         1       45    393                9   \n",
       "\n",
       "   sexual harassement      totarea  totalcrime      long       lat  \\\n",
       "0                   7  2659329.537         512  77.24920  28.53632   \n",
       "1                  16  3401013.428         397  77.08600  28.61268   \n",
       "2                  15  1379853.572         837  77.20418  28.52989   \n",
       "3                   7  5570696.132         588  77.23608  28.64361   \n",
       "4                  14  2689157.085         466  77.19369  28.70257   \n",
       "\n",
       "   crime/area      area  \n",
       "0  192.529731  2.659330  \n",
       "1  116.729912  3.401013  \n",
       "2  606.586102  1.379854  \n",
       "3  105.552338  5.570696  \n",
       "4  173.288501  2.689157  "
      ]
     },
     "execution_count": 23,
     "metadata": {},
     "output_type": "execute_result"
    }
   ],
   "source": [
    "cr.head()"
   ]
  },
  {
   "cell_type": "code",
   "execution_count": 24,
   "metadata": {},
   "outputs": [
    {
     "data": {
      "text/plain": [
       "[array([ 0.33183627,  0.55221522,  0.71813736, -0.46951077, -0.35211907,\n",
       "         0.43269617, -0.00766944, -0.19300105]),\n",
       " array([1.36485414, 0.71406008, 0.09209741, 1.20256466, 0.21797314,\n",
       "        0.43821305, 0.71092747, 0.16923723]),\n",
       " array([0.40325883, 1.34688922, 0.56192615, 0.96290021, 1.79198302,\n",
       "        1.61093189, 1.25894685, 2.12115071]),\n",
       " array([-0.68086835, -0.80930833, -0.67605818, -0.81891275, -0.88919306,\n",
       "        -0.84760181, -0.71202986, -0.53572709]),\n",
       " array([-0.41122251, -0.44022041, -0.19626641,  0.35452124,  0.55369974,\n",
       "        -0.23975793, -0.00789027,  0.0040621 ])]"
      ]
     },
     "execution_count": 24,
     "metadata": {},
     "output_type": "execute_result"
    }
   ],
   "source": [
    "clf.means"
   ]
  },
  {
   "cell_type": "code",
   "execution_count": 25,
   "metadata": {},
   "outputs": [],
   "source": [
    "safety = []\n",
    "c = 0\n",
    "for li in clf.means:\n",
    "    sum = 0;\n",
    "    sum += li[1] + li[2] + li[6]\n",
    "    safety.append((sum,c))\n",
    "    c += 1\n",
    "safety = sorted(safety)"
   ]
  },
  {
   "cell_type": "code",
   "execution_count": 26,
   "metadata": {},
   "outputs": [
    {
     "data": {
      "text/plain": [
       "[(-2.1973963687865186, 3),\n",
       " (-0.644377090772446, 4),\n",
       " (1.2626831291478038, 0),\n",
       " (1.5170849619949647, 1),\n",
       " (3.1677622263992418, 2)]"
      ]
     },
     "execution_count": 26,
     "metadata": {},
     "output_type": "execute_result"
    }
   ],
   "source": [
    "safety"
   ]
  },
  {
   "cell_type": "code",
   "execution_count": 27,
   "metadata": {},
   "outputs": [],
   "source": [
    "dict1 = {}\n",
    "m = 0\n",
    "for s in safety:\n",
    "    dict1[s[1]] = m \n",
    "    m += 1"
   ]
  },
  {
   "cell_type": "code",
   "execution_count": 28,
   "metadata": {},
   "outputs": [
    {
     "data": {
      "text/plain": [
       "{3: 0, 4: 1, 0: 2, 1: 3, 2: 4}"
      ]
     },
     "execution_count": 28,
     "metadata": {},
     "output_type": "execute_result"
    }
   ],
   "source": [
    "dict1"
   ]
  },
  {
   "cell_type": "code",
   "execution_count": 41,
   "metadata": {},
   "outputs": [],
   "source": [
    "clust_pred = clf.predict(data)"
   ]
  },
  {
   "cell_type": "code",
   "execution_count": 48,
   "metadata": {},
   "outputs": [
    {
     "data": {
      "text/plain": [
       "[4, 1, 2, 4, 4]"
      ]
     },
     "execution_count": 48,
     "metadata": {},
     "output_type": "execute_result"
    }
   ],
   "source": [
    "clust_pred[0:5]"
   ]
  },
  {
   "cell_type": "code",
   "execution_count": 49,
   "metadata": {},
   "outputs": [],
   "source": [
    "mag_pred = clust_pred.copy()\n",
    "for i in range(len(clust_pred)):\n",
    "    mag_pred[i] = dict1[clust_pred[i]]"
   ]
  },
  {
   "cell_type": "code",
   "execution_count": 50,
   "metadata": {},
   "outputs": [],
   "source": [
    "magnp=np.array(mag_pred)"
   ]
  },
  {
   "cell_type": "code",
   "execution_count": 51,
   "metadata": {},
   "outputs": [
    {
     "data": {
      "text/plain": [
       "array([1, 3, 4, 1, 1, 3, 2, 1, 1, 1, 0, 3, 2, 3, 0, 3, 3, 3, 4, 0, 1, 0,\n",
       "       1, 1, 2, 1, 1, 1, 1, 2, 0, 3, 0, 1, 1, 0, 0, 1, 0, 0, 2, 0, 1, 2,\n",
       "       3, 0, 4, 3, 1, 0, 2, 3, 1, 1, 2, 2, 3, 4, 3, 2, 1, 0, 0, 2, 0, 2,\n",
       "       1, 0, 1, 2, 3, 2, 4, 2, 2, 0, 0, 1, 2, 0, 1, 4, 3, 2, 4, 1, 0, 2,\n",
       "       3, 3, 2, 0, 0, 4, 2, 2, 2, 1, 0, 4, 0, 1, 2, 1, 1, 2, 1, 0, 0, 0,\n",
       "       0, 0, 1, 3, 0, 0, 1, 2, 2, 3, 0, 2, 2, 0, 1, 4, 4, 1, 0, 2, 4, 2,\n",
       "       4, 1, 1, 2, 1, 1, 1, 1, 1, 2, 2, 0, 0, 3, 1, 2, 0, 0, 1, 3, 2, 0,\n",
       "       2, 1, 0, 2, 0, 0, 3, 0, 1, 2, 2, 2])"
      ]
     },
     "execution_count": 51,
     "metadata": {},
     "output_type": "execute_result"
    }
   ],
   "source": [
    "magnp"
   ]
  }
 ],
 "metadata": {
  "kernelspec": {
   "display_name": "Python 3",
   "language": "python",
   "name": "python3"
  },
  "language_info": {
   "codemirror_mode": {
    "name": "ipython",
    "version": 3
   },
   "file_extension": ".py",
   "mimetype": "text/x-python",
   "name": "python",
   "nbconvert_exporter": "python",
   "pygments_lexer": "ipython3",
   "version": "3.6.5"
  }
 },
 "nbformat": 4,
 "nbformat_minor": 2
}
