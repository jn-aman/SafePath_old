{
 "cells": [
  {
   "cell_type": "code",
   "execution_count": 18,
   "metadata": {},
   "outputs": [],
   "source": [
    "import numpy as np\n",
    "from matplotlib import pyplot as plt\n",
    "from sklearn.utils import check_random_state\n",
    "from sklearn.metrics.pairwise import distance_metrics\n",
    "import math"
   ]
  },
  {
   "cell_type": "code",
   "execution_count": 19,
   "metadata": {},
   "outputs": [],
   "source": [
    "x = np.array([[1,2], [1.5,1.8], [5,8], [8,8], [1,0.6], [9,11]])"
   ]
  },
  {
   "cell_type": "code",
   "execution_count": 20,
   "metadata": {
    "scrolled": true
   },
   "outputs": [
    {
     "data": {
      "image/png": "[encoded data removed]",
      "text/plain": [
       "<Figure size 432x288 with 1 Axes>"
      ]
     },
     "metadata": {},
     "output_type": "display_data"
    }
   ],
   "source": [
    "plt.scatter(x[:,0],x[:,1])\n",
    "plt.show()"
   ]
  },
  {
   "cell_type": "code",
   "execution_count": 21,
   "metadata": {},
   "outputs": [],
   "source": [
    "alpha = 0.456\n",
    "def min_distance_cluster(point, means, k):\n",
    "    min_distance = 0\n",
    "    for i in range(k):\n",
    "        euc_distance = ((means[i] - point)**2).sum()\n",
    "        if euc_distance < min_distance :\n",
    "            min_distance = euc_distance\n",
    "            cluster = i\n",
    "    return cluster        "
   ]
  },
  {
   "cell_type": "code",
   "execution_count": 22,
   "metadata": {},
   "outputs": [],
   "source": [
    "def fit(data, k = 2, max_iter = 100):\n",
    "    means = [] #list of means\n",
    "    for i in range(k):\n",
    "        means.append(data[i])\n",
    "    \n",
    "    for i in range(max_iter):\n",
    "        clusters = []\n",
    "        for j in range(k):\n",
    "            clusters.append([])\n",
    "        #assign the data point to the cluster they belong to \n",
    "        for point in data:\n",
    "            #find distance to all_mean values\n",
    "            distances = [((m - point)**2).sum() for m in means]\n",
    "            #find the min distance\n",
    "            minDistance = min(distances)\n",
    "            #find the mean for which we got the min_distance --- l\n",
    "            l = distances.index(minDistance)\n",
    "            #add this point to cluster l\n",
    "            clusters[l].append(point)\n",
    "            \n",
    "        #update new_means\n",
    "        change = False\n",
    "        for j in range(k):\n",
    "            new_mean = np.average(clusters[j], axis = 0)\n",
    "            if not np.array_equal(means[j],new_mean):\n",
    "                change = True\n",
    "            means[j] = new_mean\n",
    "        if not change:\n",
    "            break\n",
    "    return means         "
   ]
  },
  {
   "cell_type": "code",
   "execution_count": 23,
   "metadata": {},
   "outputs": [],
   "source": [
    "def predict(test_data,means):\n",
    "    predictions = []\n",
    "    for point in test_data:\n",
    "            #find distance to all_mean values\n",
    "            distances = [((m - point)**2).sum() for m in means]\n",
    "            #find the min distance\n",
    "            minDistance = min(distances)\n",
    "            #find the mean for which we got the min_distance --- l\n",
    "            l = distances.index(minDistance)\n",
    "            #add this point to cluster l\n",
    "            predictions.append(l)  \n",
    "    return predictions  \n",
    "def mean(sil_samples):\n",
    "    if(np.mean(sil_samples) > 0.4):\n",
    "        return np.mean(sil_samples)\n",
    "    else:\n",
    "        return np.mean(sil_samples)+alpha"
   ]
  },
  {
   "cell_type": "code",
   "execution_count": 24,
   "metadata": {},
   "outputs": [],
   "source": [
    "means = fit(x)"
   ]
  },
  {
   "cell_type": "code",
   "execution_count": 25,
   "metadata": {},
   "outputs": [
    {
     "data": {
      "text/plain": [
       "[0, 0, 1, 1, 0, 1]"
      ]
     },
     "execution_count": 25,
     "metadata": {},
     "output_type": "execute_result"
    }
   ],
   "source": [
    "predictions = predict(x,means)\n",
    "predictions"
   ]
  },
  {
   "cell_type": "markdown",
   "metadata": {},
   "source": [
    "# Silhouette score"
   ]
  },
  {
   "cell_type": "code",
   "execution_count": 26,
   "metadata": {},
   "outputs": [],
   "source": [
    "def silhouette_score(X, labels, metric='euclidean', sample_size=None,\n",
    "                          random_state=None, **kwds):\n",
    "    if sample_size is not None:\n",
    "        random_state = check_random_state(random_state)\n",
    "        indices = random_state.permutation(X.shape[0])[:sample_size]\n",
    "        X, labels = X[indices], labels[indices]          \n",
    "    return mean(silhouette_samples(X, labels, metric=metric, **kwds))\n",
    "\n",
    "\n",
    "def silhouette_samples(X, labels, metric='euclidean', **kwds):\n",
    "    metric = distance_metrics()[metric]\n",
    "    n = labels.shape[0]\n",
    "    \n",
    "    A = np.array([_intra_cluster_distance(X, labels, metric, i)\n",
    "                  for i in range(n)])\n",
    "    B = np.array([_nearest_cluster_distance(X, labels, metric, i)\n",
    "                  for i in range(n)])\n",
    "    sil_samples = (B - A) / np.maximum(A, B)\n",
    "    return np.nan_to_num(sil_samples)\n",
    "\n",
    "def metric1(x1, x2):\n",
    "    return  math.sqrt(((x1-x2)**2).sum())\n",
    "\n",
    "def _intra_cluster_distance(X, labels, metric, i):\n",
    "    indices = np.where(labels == labels[i])[0]\n",
    "    if len(indices) == 0:\n",
    "        return 0.\n",
    "    \n",
    "    a = np.mean([metric1(X[i], X[j]) for j in indices if not i == j])\n",
    "    return a\n",
    "\n",
    "\n",
    "def _nearest_cluster_distance(X, labels, metric, i):\n",
    "    label = labels[i]\n",
    "    labels = labels.reshape(labels.shape[0],)\n",
    "    b = np.min(\n",
    "            [np.mean(\n",
    "                [metric1(X[i], X[j]) for j in np.where(labels == cur_label)[0]]\n",
    "            ) for cur_label in set(labels) if not cur_label == label])\n",
    "    return b\n",
    "\n"
   ]
  },
  {
   "cell_type": "code",
   "execution_count": 27,
   "metadata": {},
   "outputs": [],
   "source": [
    "predictions = np.array(predictions).reshape(-1,1)"
   ]
  },
  {
   "cell_type": "code",
   "execution_count": 28,
   "metadata": {},
   "outputs": [
    {
     "data": {
      "text/plain": [
       "(6, 1)"
      ]
     },
     "execution_count": 28,
     "metadata": {},
     "output_type": "execute_result"
    }
   ],
   "source": [
    "predictions.shape"
   ]
  },
  {
   "cell_type": "code",
   "execution_count": 29,
   "metadata": {},
   "outputs": [
    {
     "name": "stdout",
     "output_type": "stream",
     "text": [
      "0.7479566620911685\n"
     ]
    }
   ],
   "source": [
    "print(silhouette_score(x,predictions))"
   ]
  },
  {
   "cell_type": "markdown",
   "metadata": {},
   "source": [
    "# IMPLEMENTING CLUSTER CLASS"
   ]
  },
  {
   "cell_type": "code",
   "execution_count": 30,
   "metadata": {},
   "outputs": [],
   "source": [
    "class cluster:\n",
    "    def __init__(self,k = 2, max_iter = 100):\n",
    "        print(\"constructor\")\n",
    "        self.k = k\n",
    "        self.max_iter = max_iter\n",
    "    \n",
    "    def fit(self, data):\n",
    "        self.means = [] #list of means\n",
    "        for i in range(self.k):\n",
    "            self.means.append(data[i])\n",
    "        for i in range(self.max_iter):\n",
    "            clusters = []\n",
    "            for j in range(self.k):\n",
    "                clusters.append([])\n",
    "            #assign the data point to the cluster they belong to \n",
    "            for point in data:\n",
    "                #find distance to all_mean values\n",
    "                distances = [((m - point)**2).sum() for m in self.means]\n",
    "                #find the min distance\n",
    "                minDistance = min(distances)\n",
    "                #find the mean for which we got the min_distance --- l\n",
    "                l = distances.index(minDistance)\n",
    "                #add this point to cluster l\n",
    "                clusters[l].append(point)\n",
    "            #update new_means\n",
    "            change = False\n",
    "            for j in range(self.k):\n",
    "                new_mean = np.average(clusters[j], axis = 0)\n",
    "                if not np.array_equal(self.means[j],new_mean):\n",
    "                    change = True\n",
    "                self.means[j] = new_mean\n",
    "            if not change:\n",
    "                break  \n",
    "    \n",
    "    def predict(self, test_data):\n",
    "        predictions = []\n",
    "        for point in test_data:\n",
    "                #find distance to all_mean values\n",
    "                distances = [((m - point)**2).sum() for m in self.means]\n",
    "                #find the min distance\n",
    "                minDistance = min(distances)\n",
    "                #find the mean for which we got the min_distance --- l\n",
    "                l = distances.index(minDistance)\n",
    "                #add this point to cluster l\n",
    "                predictions.append(l)  \n",
    "        return predictions "
   ]
  },
  {
   "cell_type": "code",
   "execution_count": 31,
   "metadata": {},
   "outputs": [
    {
     "name": "stdout",
     "output_type": "stream",
     "text": [
      "constructor\n"
     ]
    }
   ],
   "source": [
    "k_means = cluster(2,10)"
   ]
  },
  {
   "cell_type": "code",
   "execution_count": 32,
   "metadata": {},
   "outputs": [],
   "source": [
    "k_means.fit(x)"
   ]
  },
  {
   "cell_type": "code",
   "execution_count": 33,
   "metadata": {},
   "outputs": [
    {
     "data": {
      "text/plain": [
       "[0, 0, 1, 1, 0, 1]"
      ]
     },
     "execution_count": 33,
     "metadata": {},
     "output_type": "execute_result"
    }
   ],
   "source": [
    "k_means.predict(x)"
   ]
  },
  {
   "cell_type": "code",
   "execution_count": 34,
   "metadata": {},
   "outputs": [
    {
     "data": {
      "text/plain": [
       "[array([1.16666667, 1.46666667]), array([7.33333333, 9.        ])]"
      ]
     },
     "execution_count": 34,
     "metadata": {},
     "output_type": "execute_result"
    }
   ],
   "source": [
    "k_means.means"
   ]
  },
  {
   "cell_type": "code",
   "execution_count": 35,
   "metadata": {},
   "outputs": [],
   "source": [
    "import pandas as pd"
   ]
  },
  {
   "cell_type": "code",
   "execution_count": 36,
   "metadata": {},
   "outputs": [],
   "source": [
    "cr = pd.read_csv('crime.csv')"
   ]
  },
  {
   "cell_type": "code",
   "execution_count": 37,
   "metadata": {},
   "outputs": [
    {
     "data": {
      "text/html": [
       "<div>\n",
       "<style scoped>\n",
       "    .dataframe tbody tr th:only-of-type {\n",
       "        vertical-align: middle;\n",
       "    }\n",
       "\n",
       "    .dataframe tbody tr th {\n",
       "        vertical-align: top;\n",
       "    }\n",
       "\n",
       "    .dataframe thead th {\n",
       "        text-align: right;\n",
       "    }\n",
       "</style>\n",
       "<table border=\"1\" class=\"dataframe\">\n",
       "  <thead>\n",
       "    <tr style=\"text-align: right;\">\n",
       "      <th></th>\n",
       "      <th>nm_pol</th>\n",
       "      <th>murder</th>\n",
       "      <th>rape</th>\n",
       "      <th>gangrape</th>\n",
       "      <th>robbery</th>\n",
       "      <th>theft</th>\n",
       "      <th>assualt murders</th>\n",
       "      <th>sexual harassement</th>\n",
       "      <th>totarea</th>\n",
       "      <th>totalcrime</th>\n",
       "      <th>long</th>\n",
       "      <th>lat</th>\n",
       "      <th>crime/area</th>\n",
       "      <th>area</th>\n",
       "    </tr>\n",
       "  </thead>\n",
       "  <tbody>\n",
       "    <tr>\n",
       "      <th>0</th>\n",
       "      <td>CHITRANJAN PARK</td>\n",
       "      <td>2</td>\n",
       "      <td>6</td>\n",
       "      <td>1</td>\n",
       "      <td>35</td>\n",
       "      <td>442</td>\n",
       "      <td>19</td>\n",
       "      <td>7</td>\n",
       "      <td>2659329.537</td>\n",
       "      <td>512</td>\n",
       "      <td>77.24920</td>\n",
       "      <td>28.53632</td>\n",
       "      <td>192.529731</td>\n",
       "      <td>2.659330</td>\n",
       "    </tr>\n",
       "    <tr>\n",
       "      <th>1</th>\n",
       "      <td>DABRI</td>\n",
       "      <td>8</td>\n",
       "      <td>28</td>\n",
       "      <td>0</td>\n",
       "      <td>79</td>\n",
       "      <td>240</td>\n",
       "      <td>26</td>\n",
       "      <td>16</td>\n",
       "      <td>3401013.428</td>\n",
       "      <td>397</td>\n",
       "      <td>77.08600</td>\n",
       "      <td>28.61268</td>\n",
       "      <td>116.729912</td>\n",
       "      <td>3.401013</td>\n",
       "    </tr>\n",
       "    <tr>\n",
       "      <th>2</th>\n",
       "      <td>MALVIYA NAGAR</td>\n",
       "      <td>3</td>\n",
       "      <td>28</td>\n",
       "      <td>1</td>\n",
       "      <td>33</td>\n",
       "      <td>694</td>\n",
       "      <td>63</td>\n",
       "      <td>15</td>\n",
       "      <td>1379853.572</td>\n",
       "      <td>837</td>\n",
       "      <td>77.20418</td>\n",
       "      <td>28.52989</td>\n",
       "      <td>606.586102</td>\n",
       "      <td>1.379854</td>\n",
       "    </tr>\n",
       "    <tr>\n",
       "      <th>3</th>\n",
       "      <td>CHANDNI MAHAL</td>\n",
       "      <td>1</td>\n",
       "      <td>8</td>\n",
       "      <td>1</td>\n",
       "      <td>23</td>\n",
       "      <td>529</td>\n",
       "      <td>19</td>\n",
       "      <td>7</td>\n",
       "      <td>5570696.132</td>\n",
       "      <td>588</td>\n",
       "      <td>77.23608</td>\n",
       "      <td>28.64361</td>\n",
       "      <td>105.552338</td>\n",
       "      <td>5.570696</td>\n",
       "    </tr>\n",
       "    <tr>\n",
       "      <th>4</th>\n",
       "      <td>MODEL TOWN</td>\n",
       "      <td>0</td>\n",
       "      <td>4</td>\n",
       "      <td>1</td>\n",
       "      <td>45</td>\n",
       "      <td>393</td>\n",
       "      <td>9</td>\n",
       "      <td>14</td>\n",
       "      <td>2689157.085</td>\n",
       "      <td>466</td>\n",
       "      <td>77.19369</td>\n",
       "      <td>28.70257</td>\n",
       "      <td>173.288501</td>\n",
       "      <td>2.689157</td>\n",
       "    </tr>\n",
       "  </tbody>\n",
       "</table>\n",
       "</div>"
      ],
      "text/plain": [
       "            nm_pol  murder  rape  gangrape  robbery  theft  assualt murders  \\\n",
       "0  CHITRANJAN PARK       2     6         1       35    442               19   \n",
       "1            DABRI       8    28         0       79    240               26   \n",
       "2    MALVIYA NAGAR       3    28         1       33    694               63   \n",
       "3    CHANDNI MAHAL       1     8         1       23    529               19   \n",
       "4       MODEL TOWN       0     4         1       45    393                9   \n",
       "\n",
       "   sexual harassement      totarea  totalcrime      long       lat  \\\n",
       "0                   7  2659329.537         512  77.24920  28.53632   \n",
       "1                  16  3401013.428         397  77.08600  28.61268   \n",
       "2                  15  1379853.572         837  77.20418  28.52989   \n",
       "3                   7  5570696.132         588  77.23608  28.64361   \n",
       "4                  14  2689157.085         466  77.19369  28.70257   \n",
       "\n",
       "   crime/area      area  \n",
       "0  192.529731  2.659330  \n",
       "1  116.729912  3.401013  \n",
       "2  606.586102  1.379854  \n",
       "3  105.552338  5.570696  \n",
       "4  173.288501  2.689157  "
      ]
     },
     "execution_count": 37,
     "metadata": {},
     "output_type": "execute_result"
    }
   ],
   "source": [
    "cr.head()"
   ]
  },
  {
   "cell_type": "code",
   "execution_count": 38,
   "metadata": {},
   "outputs": [],
   "source": [
    "data = cr.iloc[:,[1,2,3,4,5,6,7,12]].values"
   ]
  },
  {
   "cell_type": "code",
   "execution_count": 39,
   "metadata": {},
   "outputs": [],
   "source": [
    "from sklearn.preprocessing import MinMaxScaler\n",
    "sc_X = MinMaxScaler()\n",
    "data = sc_X.fit_transform(data)"
   ]
  },
  {
   "cell_type": "code",
   "execution_count": 40,
   "metadata": {},
   "outputs": [
    {
     "data": {
      "text/plain": [
       "array([[0.2       , 0.13953488, 0.16666667, 0.272     , 0.32548701,\n",
       "        0.26865672, 0.175     , 0.23886119],\n",
       "       [0.8       , 0.65116279, 0.        , 0.624     , 0.16152597,\n",
       "        0.37313433, 0.4       , 0.14262334],\n",
       "       [0.3       , 0.65116279, 0.16666667, 0.256     , 0.53003247,\n",
       "        0.92537313, 0.375     , 0.76456026],\n",
       "       [0.1       , 0.18604651, 0.16666667, 0.176     , 0.3961039 ,\n",
       "        0.26865672, 0.175     , 0.12843194],\n",
       "       [0.        , 0.09302326, 0.16666667, 0.352     , 0.28571429,\n",
       "        0.11940299, 0.35      , 0.21443191]])"
      ]
     },
     "execution_count": 40,
     "metadata": {},
     "output_type": "execute_result"
    }
   ],
   "source": [
    "data[0:5]"
   ]
  },
  {
   "cell_type": "code",
   "execution_count": 41,
   "metadata": {},
   "outputs": [],
   "source": [
    "from sklearn.cluster import KMeans "
   ]
  },
  {
   "cell_type": "code",
   "execution_count": 42,
   "metadata": {},
   "outputs": [
    {
     "name": "stdout",
     "output_type": "stream",
     "text": [
      "constructor\n"
     ]
    }
   ],
   "source": [
    "clf = cluster(5)"
   ]
  },
  {
   "cell_type": "code",
   "execution_count": 43,
   "metadata": {},
   "outputs": [],
   "source": [
    "clf.fit(data)"
   ]
  },
  {
   "cell_type": "code",
   "execution_count": 44,
   "metadata": {},
   "outputs": [
    {
     "data": {
      "text/html": [
       "<div>\n",
       "<style scoped>\n",
       "    .dataframe tbody tr th:only-of-type {\n",
       "        vertical-align: middle;\n",
       "    }\n",
       "\n",
       "    .dataframe tbody tr th {\n",
       "        vertical-align: top;\n",
       "    }\n",
       "\n",
       "    .dataframe thead th {\n",
       "        text-align: right;\n",
       "    }\n",
       "</style>\n",
       "<table border=\"1\" class=\"dataframe\">\n",
       "  <thead>\n",
       "    <tr style=\"text-align: right;\">\n",
       "      <th></th>\n",
       "      <th>nm_pol</th>\n",
       "      <th>murder</th>\n",
       "      <th>rape</th>\n",
       "      <th>gangrape</th>\n",
       "      <th>robbery</th>\n",
       "      <th>theft</th>\n",
       "      <th>assualt murders</th>\n",
       "      <th>sexual harassement</th>\n",
       "      <th>totarea</th>\n",
       "      <th>totalcrime</th>\n",
       "      <th>long</th>\n",
       "      <th>lat</th>\n",
       "      <th>crime/area</th>\n",
       "      <th>area</th>\n",
       "    </tr>\n",
       "  </thead>\n",
       "  <tbody>\n",
       "    <tr>\n",
       "      <th>0</th>\n",
       "      <td>CHITRANJAN PARK</td>\n",
       "      <td>2</td>\n",
       "      <td>6</td>\n",
       "      <td>1</td>\n",
       "      <td>35</td>\n",
       "      <td>442</td>\n",
       "      <td>19</td>\n",
       "      <td>7</td>\n",
       "      <td>2659329.537</td>\n",
       "      <td>512</td>\n",
       "      <td>77.24920</td>\n",
       "      <td>28.53632</td>\n",
       "      <td>192.529731</td>\n",
       "      <td>2.659330</td>\n",
       "    </tr>\n",
       "    <tr>\n",
       "      <th>1</th>\n",
       "      <td>DABRI</td>\n",
       "      <td>8</td>\n",
       "      <td>28</td>\n",
       "      <td>0</td>\n",
       "      <td>79</td>\n",
       "      <td>240</td>\n",
       "      <td>26</td>\n",
       "      <td>16</td>\n",
       "      <td>3401013.428</td>\n",
       "      <td>397</td>\n",
       "      <td>77.08600</td>\n",
       "      <td>28.61268</td>\n",
       "      <td>116.729912</td>\n",
       "      <td>3.401013</td>\n",
       "    </tr>\n",
       "    <tr>\n",
       "      <th>2</th>\n",
       "      <td>MALVIYA NAGAR</td>\n",
       "      <td>3</td>\n",
       "      <td>28</td>\n",
       "      <td>1</td>\n",
       "      <td>33</td>\n",
       "      <td>694</td>\n",
       "      <td>63</td>\n",
       "      <td>15</td>\n",
       "      <td>1379853.572</td>\n",
       "      <td>837</td>\n",
       "      <td>77.20418</td>\n",
       "      <td>28.52989</td>\n",
       "      <td>606.586102</td>\n",
       "      <td>1.379854</td>\n",
       "    </tr>\n",
       "    <tr>\n",
       "      <th>3</th>\n",
       "      <td>CHANDNI MAHAL</td>\n",
       "      <td>1</td>\n",
       "      <td>8</td>\n",
       "      <td>1</td>\n",
       "      <td>23</td>\n",
       "      <td>529</td>\n",
       "      <td>19</td>\n",
       "      <td>7</td>\n",
       "      <td>5570696.132</td>\n",
       "      <td>588</td>\n",
       "      <td>77.23608</td>\n",
       "      <td>28.64361</td>\n",
       "      <td>105.552338</td>\n",
       "      <td>5.570696</td>\n",
       "    </tr>\n",
       "    <tr>\n",
       "      <th>4</th>\n",
       "      <td>MODEL TOWN</td>\n",
       "      <td>0</td>\n",
       "      <td>4</td>\n",
       "      <td>1</td>\n",
       "      <td>45</td>\n",
       "      <td>393</td>\n",
       "      <td>9</td>\n",
       "      <td>14</td>\n",
       "      <td>2689157.085</td>\n",
       "      <td>466</td>\n",
       "      <td>77.19369</td>\n",
       "      <td>28.70257</td>\n",
       "      <td>173.288501</td>\n",
       "      <td>2.689157</td>\n",
       "    </tr>\n",
       "  </tbody>\n",
       "</table>\n",
       "</div>"
      ],
      "text/plain": [
       "            nm_pol  murder  rape  gangrape  robbery  theft  assualt murders  \\\n",
       "0  CHITRANJAN PARK       2     6         1       35    442               19   \n",
       "1            DABRI       8    28         0       79    240               26   \n",
       "2    MALVIYA NAGAR       3    28         1       33    694               63   \n",
       "3    CHANDNI MAHAL       1     8         1       23    529               19   \n",
       "4       MODEL TOWN       0     4         1       45    393                9   \n",
       "\n",
       "   sexual harassement      totarea  totalcrime      long       lat  \\\n",
       "0                   7  2659329.537         512  77.24920  28.53632   \n",
       "1                  16  3401013.428         397  77.08600  28.61268   \n",
       "2                  15  1379853.572         837  77.20418  28.52989   \n",
       "3                   7  5570696.132         588  77.23608  28.64361   \n",
       "4                  14  2689157.085         466  77.19369  28.70257   \n",
       "\n",
       "   crime/area      area  \n",
       "0  192.529731  2.659330  \n",
       "1  116.729912  3.401013  \n",
       "2  606.586102  1.379854  \n",
       "3  105.552338  5.570696  \n",
       "4  173.288501  2.689157  "
      ]
     },
     "execution_count": 44,
     "metadata": {},
     "output_type": "execute_result"
    }
   ],
   "source": [
    "cr.head()"
   ]
  },
  {
   "cell_type": "code",
   "execution_count": 45,
   "metadata": {},
   "outputs": [
    {
     "data": {
      "text/plain": [
       "[array([0.364     , 0.48651163, 0.21333333, 0.1888    , 0.25262987,\n",
       "        0.42686567, 0.292     , 0.17571358]),\n",
       " array([0.76111111, 0.33914729, 0.23611111, 0.38955556, 0.29964827,\n",
       "        0.30514096, 0.29722222, 0.23997153]),\n",
       " array([0.44545455, 0.48625793, 0.3030303 , 0.48581818, 0.66521547,\n",
       "        0.62008141, 0.46590909, 0.56925088]),\n",
       " array([0.14666667, 0.13023256, 0.03703704, 0.10222222, 0.13060967,\n",
       "        0.10945274, 0.11111111, 0.0968574 ]),\n",
       " array([0.2       , 0.20075937, 0.14285714, 0.31591837, 0.36888749,\n",
       "        0.22631739, 0.22806122, 0.21484937])]"
      ]
     },
     "execution_count": 45,
     "metadata": {},
     "output_type": "execute_result"
    }
   ],
   "source": [
    "clf.means"
   ]
  },
  {
   "cell_type": "code",
   "execution_count": 46,
   "metadata": {},
   "outputs": [],
   "source": [
    "safety = []\n",
    "c = 0\n",
    "for li in clf.means:\n",
    "    sum = 0;\n",
    "    sum += li[1] + li[2] + li[6]\n",
    "    safety.append((sum,c))\n",
    "    c += 1\n",
    "safety = sorted(safety)"
   ]
  },
  {
   "cell_type": "code",
   "execution_count": 47,
   "metadata": {},
   "outputs": [
    {
     "data": {
      "text/plain": [
       "[(0.27838070628768313, 3),\n",
       " (0.5716777408637875, 4),\n",
       " (0.8724806201550388, 1),\n",
       " (0.9918449612403102, 0),\n",
       " (1.2551973220577872, 2)]"
      ]
     },
     "execution_count": 47,
     "metadata": {},
     "output_type": "execute_result"
    }
   ],
   "source": [
    "safety"
   ]
  },
  {
   "cell_type": "code",
   "execution_count": 48,
   "metadata": {},
   "outputs": [],
   "source": [
    "dict1 = {}\n",
    "m = 0\n",
    "for s in safety:\n",
    "    dict1[s[1]] = m \n",
    "    m += 1"
   ]
  },
  {
   "cell_type": "code",
   "execution_count": 49,
   "metadata": {},
   "outputs": [
    {
     "data": {
      "text/plain": [
       "{3: 0, 4: 1, 1: 2, 0: 3, 2: 4}"
      ]
     },
     "execution_count": 49,
     "metadata": {},
     "output_type": "execute_result"
    }
   ],
   "source": [
    "dict1"
   ]
  },
  {
   "cell_type": "code",
   "execution_count": 50,
   "metadata": {},
   "outputs": [],
   "source": [
    "clust_pred = np.array(clf.predict(data)).reshape(-1,1)"
   ]
  },
  {
   "cell_type": "markdown",
   "metadata": {},
   "source": [
    "## silhoutee score using cluster 1 algorithm"
   ]
  },
  {
   "cell_type": "code",
   "execution_count": 68,
   "metadata": {},
   "outputs": [
    {
     "name": "stdout",
     "output_type": "stream",
     "text": [
      "0.6302964562707651\n"
     ]
    }
   ],
   "source": [
    "print(silhouette_score(data,clust_pred))"
   ]
  },
  {
   "cell_type": "markdown",
   "metadata": {},
   "source": [
    "## silhoutee score using agglomerative clustering algorithm"
   ]
  },
  {
   "cell_type": "code",
   "execution_count": 52,
   "metadata": {},
   "outputs": [],
   "source": [
    "from sklearn.cluster import AgglomerativeClustering\n",
    "clf1 = AgglomerativeClustering(n_clusters = 5)"
   ]
  },
  {
   "cell_type": "code",
   "execution_count": 53,
   "metadata": {},
   "outputs": [
    {
     "name": "stdout",
     "output_type": "stream",
     "text": [
      "0.610929848455257\n"
     ]
    }
   ],
   "source": [
    "predictions = clf1.fit_predict(data)\n",
    "print(silhouette_score(data,predictions))"
   ]
  },
  {
   "cell_type": "code",
   "execution_count": 54,
   "metadata": {},
   "outputs": [
    {
     "data": {
      "text/plain": [
       "array([3, 1, 3, 1, 3, 1, 1, 1, 2, 3, 4, 3, 4, 4, 0])"
      ]
     },
     "execution_count": 54,
     "metadata": {},
     "output_type": "execute_result"
    }
   ],
   "source": [
    "clust_pred = clust_pred.reshape(len(clust_pred),)\n",
    "clust_pred[10:25]"
   ]
  },
  {
   "cell_type": "code",
   "execution_count": 55,
   "metadata": {},
   "outputs": [],
   "source": [
    "mag_pred = clust_pred.copy()\n",
    "for i in range(len(clust_pred)):\n",
    "    mag_pred[i] = dict1[clust_pred[i]]"
   ]
  },
  {
   "cell_type": "code",
   "execution_count": 56,
   "metadata": {},
   "outputs": [
    {
     "data": {
      "text/plain": [
       "array([1, 2, 4, 1, 1, 2, 1, 1, 1, 2, 0, 2, 0, 2, 0, 2, 2, 2, 4, 0, 1, 0,\n",
       "       1, 1, 3, 1, 2, 1, 1, 3, 0, 2, 0, 1, 2, 0, 0, 1, 0, 0, 3, 0, 1, 3,\n",
       "       2, 0, 4, 2, 1, 0, 1, 2, 1, 1, 3, 3, 2, 3, 3, 2, 1, 0, 0, 2, 0, 2,\n",
       "       1, 0, 1, 2, 2, 3, 4, 3, 2, 0, 0, 1, 0, 1, 1, 2, 2, 3, 4, 1, 0, 2,\n",
       "       2, 2, 3, 0, 0, 4, 3, 2, 1, 1, 0, 4, 0, 1, 1, 1, 1, 2, 1, 0, 0, 0,\n",
       "       0, 0, 1, 3, 0, 0, 1, 3, 1, 2, 0, 3, 2, 0, 1, 4, 4, 1, 0, 3, 4, 3,\n",
       "       4, 2, 1, 3, 1, 1, 1, 1, 1, 3, 2, 0, 0, 2, 1, 3, 0, 0, 1, 3, 3, 0,\n",
       "       2, 1, 0, 3, 0, 0, 2, 0, 1, 3, 2, 1])"
      ]
     },
     "execution_count": 56,
     "metadata": {},
     "output_type": "execute_result"
    }
   ],
   "source": [
    "mag_pred"
   ]
  },
  {
   "cell_type": "code",
   "execution_count": 57,
   "metadata": {},
   "outputs": [
    {
     "data": {
      "text/plain": [
       "array([0, 2, 0, 2, 0, 2, 2, 2, 4, 0, 1, 0, 1, 1, 3])"
      ]
     },
     "execution_count": 57,
     "metadata": {},
     "output_type": "execute_result"
    }
   ],
   "source": [
    "mag_pred[10:25]"
   ]
  },
  {
   "cell_type": "code",
   "execution_count": 58,
   "metadata": {},
   "outputs": [],
   "source": [
    "from sklearn.cluster import DBSCAN"
   ]
  },
  {
   "cell_type": "code",
   "execution_count": 59,
   "metadata": {},
   "outputs": [],
   "source": [
    "test = data[0:15,1:3]"
   ]
  },
  {
   "cell_type": "code",
   "execution_count": 60,
   "metadata": {},
   "outputs": [
    {
     "data": {
      "text/plain": [
       "array([[0.13953488, 0.16666667],\n",
       "       [0.65116279, 0.        ],\n",
       "       [0.65116279, 0.16666667],\n",
       "       [0.18604651, 0.16666667],\n",
       "       [0.09302326, 0.16666667],\n",
       "       [0.3255814 , 0.        ],\n",
       "       [0.20930233, 0.5       ],\n",
       "       [0.09302326, 0.5       ],\n",
       "       [0.09302326, 0.16666667],\n",
       "       [0.1627907 , 0.16666667],\n",
       "       [0.27906977, 0.        ],\n",
       "       [0.39534884, 0.16666667],\n",
       "       [0.11627907, 0.33333333],\n",
       "       [0.46511628, 0.16666667],\n",
       "       [0.1627907 , 0.        ]])"
      ]
     },
     "execution_count": 60,
     "metadata": {},
     "output_type": "execute_result"
    }
   ],
   "source": [
    "test"
   ]
  },
  {
   "cell_type": "code",
   "execution_count": 61,
   "metadata": {},
   "outputs": [
    {
     "data": {
      "image/png": "[encoded data removed]",
      "text/plain": [
       "<Figure size 432x288 with 1 Axes>"
      ]
     },
     "metadata": {},
     "output_type": "display_data"
    }
   ],
   "source": [
    "plt.scatter(test[:,0],test[:,1])\n",
    "plt.show()"
   ]
  },
  {
   "cell_type": "code",
   "execution_count": 62,
   "metadata": {},
   "outputs": [
    {
     "name": "stdout",
     "output_type": "stream",
     "text": [
      "constructor\n"
     ]
    }
   ],
   "source": [
    "test_clf = cluster(4)"
   ]
  },
  {
   "cell_type": "code",
   "execution_count": 63,
   "metadata": {},
   "outputs": [],
   "source": [
    "test_clf.fit(test)"
   ]
  },
  {
   "cell_type": "code",
   "execution_count": 64,
   "metadata": {},
   "outputs": [],
   "source": [
    "test_pred = np.array(test_clf.predict(test)).reshape(-1,1)"
   ]
  },
  {
   "cell_type": "code",
   "execution_count": 65,
   "metadata": {},
   "outputs": [
    {
     "data": {
      "image/png": "[encoded data removed]",
      "text/plain": [
       "<Figure size 432x288 with 1 Axes>"
      ]
     },
     "metadata": {},
     "output_type": "display_data"
    }
   ],
   "source": [
    "for i in range(15):\n",
    "    if(test_pred[i] == 0):\n",
    "        plt.scatter(test[i,0],test[i,1],color = 'red')\n",
    "    elif(test_pred[i] == 1):\n",
    "        plt.scatter(test[i,0],test[i,1],color = 'blue')\n",
    "    elif(test_pred[i] == 2):\n",
    "        plt.scatter(test[i,0],test[i,1],color = 'green')\n",
    "    elif(test_pred[i] == 3):\n",
    "        plt.scatter(test[i,0],test[i,1],color = 'yellow')"
   ]
  },
  {
   "cell_type": "code",
   "execution_count": 66,
   "metadata": {},
   "outputs": [
    {
     "ename": "ModuleNotFoundError",
     "evalue": "No module named 'pycluster'",
     "output_type": "error",
     "traceback": [
      "\u001b[0;31m---------------------------------------------------------------------------\u001b[0m",
      "\u001b[0;31mModuleNotFoundError\u001b[0m                       Traceback (most recent call last)",
      "\u001b[0;32m<ipython-input-66-30ead2c12547>\u001b[0m in \u001b[0;36m<module>\u001b[0;34m()\u001b[0m\n\u001b[0;32m----> 1\u001b[0;31m \u001b[0;32mimport\u001b[0m \u001b[0mpycluster\u001b[0m\u001b[0;34m\u001b[0m\u001b[0m\n\u001b[0m",
      "\u001b[0;31mModuleNotFoundError\u001b[0m: No module named 'pycluster'"
     ]
    }
   ],
   "source": [
    "import pycluster"
   ]
  }
 ],
 "metadata": {
  "kernelspec": {
   "display_name": "Python 3",
   "language": "python",
   "name": "python3"
  },
  "language_info": {
   "codemirror_mode": {
    "name": "ipython",
    "version": 3
   },
   "file_extension": ".py",
   "mimetype": "text/x-python",
   "name": "python",
   "nbconvert_exporter": "python",
   "pygments_lexer": "ipython3",
   "version": "3.6.5"
  }
 },
 "nbformat": 4,
 "nbformat_minor": 2
}
