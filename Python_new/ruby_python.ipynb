{
 "cells": [
  {
   "cell_type": "code",
   "execution_count": 2,
   "metadata": {},
   "outputs": [],
   "source": [
    "import numpy as np\n",
    "from matplotlib import pyplot as plt\n",
    "from sklearn.utils import check_random_state\n",
    "from sklearn.metrics.pairwise import distance_metrics\n",
    "import math"
   ]
  },
  {
   "cell_type": "code",
   "execution_count": 3,
   "metadata": {},
   "outputs": [],
   "source": [
    "import pandas as pd"
   ]
  },
  {
   "cell_type": "code",
   "execution_count": 4,
   "metadata": {},
   "outputs": [],
   "source": [
    "cr = pd.read_csv('crime2.csv')"
   ]
  },
  {
   "cell_type": "code",
   "execution_count": 6,
   "metadata": {},
   "outputs": [
    {
     "data": {
      "text/html": [
       "<div>\n",
       "<style scoped>\n",
       "    .dataframe tbody tr th:only-of-type {\n",
       "        vertical-align: middle;\n",
       "    }\n",
       "\n",
       "    .dataframe tbody tr th {\n",
       "        vertical-align: top;\n",
       "    }\n",
       "\n",
       "    .dataframe thead th {\n",
       "        text-align: right;\n",
       "    }\n",
       "</style>\n",
       "<table border=\"1\" class=\"dataframe\">\n",
       "  <thead>\n",
       "    <tr style=\"text-align: right;\">\n",
       "      <th></th>\n",
       "      <th>localities</th>\n",
       "      <th>assassination</th>\n",
       "      <th>theft</th>\n",
       "      <th>gang_rape</th>\n",
       "      <th>burglary</th>\n",
       "      <th>rape</th>\n",
       "      <th>assualt_attack</th>\n",
       "      <th>harassment</th>\n",
       "      <th>crime_total</th>\n",
       "      <th>area_total</th>\n",
       "      <th>longitude</th>\n",
       "      <th>latatitude</th>\n",
       "      <th>area_per_million_km</th>\n",
       "      <th>crime_total_divided_area</th>\n",
       "    </tr>\n",
       "  </thead>\n",
       "  <tbody>\n",
       "    <tr>\n",
       "      <th>0</th>\n",
       "      <td>JAFFARPUR KALAN</td>\n",
       "      <td>4</td>\n",
       "      <td>724</td>\n",
       "      <td>2</td>\n",
       "      <td>41</td>\n",
       "      <td>11</td>\n",
       "      <td>11</td>\n",
       "      <td>6</td>\n",
       "      <td>799</td>\n",
       "      <td>7.048170e+07</td>\n",
       "      <td>76.91555</td>\n",
       "      <td>28.59572</td>\n",
       "      <td>70.481699</td>\n",
       "      <td>11.336276</td>\n",
       "    </tr>\n",
       "    <tr>\n",
       "      <th>1</th>\n",
       "      <td>MUNDKA</td>\n",
       "      <td>3</td>\n",
       "      <td>244</td>\n",
       "      <td>1</td>\n",
       "      <td>14</td>\n",
       "      <td>5</td>\n",
       "      <td>12</td>\n",
       "      <td>4</td>\n",
       "      <td>270</td>\n",
       "      <td>4.859457e+07</td>\n",
       "      <td>76.96085</td>\n",
       "      <td>28.67042</td>\n",
       "      <td>48.594571</td>\n",
       "      <td>5.556176</td>\n",
       "    </tr>\n",
       "    <tr>\n",
       "      <th>2</th>\n",
       "      <td>BABA HARI DAS NAGAR</td>\n",
       "      <td>4</td>\n",
       "      <td>414</td>\n",
       "      <td>2</td>\n",
       "      <td>70</td>\n",
       "      <td>9</td>\n",
       "      <td>18</td>\n",
       "      <td>8</td>\n",
       "      <td>512</td>\n",
       "      <td>2.899435e+07</td>\n",
       "      <td>76.96681</td>\n",
       "      <td>28.62867</td>\n",
       "      <td>28.994346</td>\n",
       "      <td>17.658615</td>\n",
       "    </tr>\n",
       "    <tr>\n",
       "      <th>3</th>\n",
       "      <td>NAJAFGARH</td>\n",
       "      <td>4</td>\n",
       "      <td>900</td>\n",
       "      <td>1</td>\n",
       "      <td>60</td>\n",
       "      <td>4</td>\n",
       "      <td>10</td>\n",
       "      <td>10</td>\n",
       "      <td>973</td>\n",
       "      <td>8.473809e+06</td>\n",
       "      <td>76.98269</td>\n",
       "      <td>28.60975</td>\n",
       "      <td>8.473809</td>\n",
       "      <td>114.824393</td>\n",
       "    </tr>\n",
       "    <tr>\n",
       "      <th>4</th>\n",
       "      <td>CHHAWLA</td>\n",
       "      <td>4</td>\n",
       "      <td>485</td>\n",
       "      <td>1</td>\n",
       "      <td>65</td>\n",
       "      <td>6</td>\n",
       "      <td>16</td>\n",
       "      <td>11</td>\n",
       "      <td>575</td>\n",
       "      <td>2.632166e+07</td>\n",
       "      <td>76.99466</td>\n",
       "      <td>28.58691</td>\n",
       "      <td>26.321658</td>\n",
       "      <td>21.845129</td>\n",
       "    </tr>\n",
       "  </tbody>\n",
       "</table>\n",
       "</div>"
      ],
      "text/plain": [
       "            localities  assassination  theft  gang_rape  burglary  rape  \\\n",
       "0      JAFFARPUR KALAN              4    724          2        41    11   \n",
       "1               MUNDKA              3    244          1        14     5   \n",
       "2  BABA HARI DAS NAGAR              4    414          2        70     9   \n",
       "3            NAJAFGARH              4    900          1        60     4   \n",
       "4              CHHAWLA              4    485          1        65     6   \n",
       "\n",
       "   assualt_attack  harassment  crime_total    area_total  longitude  \\\n",
       "0              11           6          799  7.048170e+07   76.91555   \n",
       "1              12           4          270  4.859457e+07   76.96085   \n",
       "2              18           8          512  2.899435e+07   76.96681   \n",
       "3              10          10          973  8.473809e+06   76.98269   \n",
       "4              16          11          575  2.632166e+07   76.99466   \n",
       "\n",
       "   latatitude  area_per_million_km  crime_total_divided_area  \n",
       "0    28.59572            70.481699                 11.336276  \n",
       "1    28.67042            48.594571                  5.556176  \n",
       "2    28.62867            28.994346                 17.658615  \n",
       "3    28.60975             8.473809                114.824393  \n",
       "4    28.58691            26.321658                 21.845129  "
      ]
     },
     "execution_count": 6,
     "metadata": {},
     "output_type": "execute_result"
    }
   ],
   "source": [
    "cr.head()"
   ]
  },
  {
   "cell_type": "code",
   "execution_count": 7,
   "metadata": {},
   "outputs": [],
   "source": [
    "from sqlalchemy import create_engine\n",
    "database_username = 'b5a53e446f5cec'\n",
    "database_password = '0f8d1ba3'\n",
    "database_ip       = 'us-cdbr-iron-east-02.cleardb.net'\n",
    "database_name     = 'heroku_7c3443583b90116'\n",
    "database_connection = create_engine('mysql+mysqlconnector://{0}:{1}@{2}/{3}'.\n",
    "                                               format(database_username, database_password, \n",
    "                                                      database_ip, database_name))\n",
    "cr.to_sql('initial', con=database_connection, if_exists='replace',chunksize=1000,index=False)\n"
   ]
  },
  {
   "cell_type": "code",
   "execution_count": 207,
   "metadata": {},
   "outputs": [],
   "source": [
    "\n",
    "from sqlalchemy import create_engine\n",
    "database_username = 'root'\n",
    "database_password = ''\n",
    "database_ip       = 'localhost'\n",
    "database_name     = 'safepath'\n",
    "database_connection = create_engine('mysql+mysqlconnector://{0}:{1}@{2}/{3}'.\n",
    "                                               format(database_username, database_password, \n",
    "                                                      database_ip, database_name))\n",
    "# cr.to_sql('initial', con=database_connection, if_exists='replace',chunksize=1000,index=False)\n"
   ]
  },
  {
   "cell_type": "code",
   "execution_count": 208,
   "metadata": {},
   "outputs": [],
   "source": [
    "cr = pd.read_sql('SELECT * FROM initial', con=database_connection)"
   ]
  },
  {
   "cell_type": "code",
   "execution_count": 209,
   "metadata": {},
   "outputs": [
    {
     "data": {
      "text/html": [
       "<div>\n",
       "<style scoped>\n",
       "    .dataframe tbody tr th:only-of-type {\n",
       "        vertical-align: middle;\n",
       "    }\n",
       "\n",
       "    .dataframe tbody tr th {\n",
       "        vertical-align: top;\n",
       "    }\n",
       "\n",
       "    .dataframe thead th {\n",
       "        text-align: right;\n",
       "    }\n",
       "</style>\n",
       "<table border=\"1\" class=\"dataframe\">\n",
       "  <thead>\n",
       "    <tr style=\"text-align: right;\">\n",
       "      <th></th>\n",
       "      <th>localities</th>\n",
       "      <th>assassination</th>\n",
       "      <th>theft</th>\n",
       "      <th>gang_rape</th>\n",
       "      <th>burglary</th>\n",
       "      <th>rape</th>\n",
       "      <th>assualt_attack</th>\n",
       "      <th>harassment</th>\n",
       "      <th>crime_total</th>\n",
       "      <th>area_total</th>\n",
       "      <th>longitude</th>\n",
       "      <th>latatitude</th>\n",
       "      <th>area_per_million_km</th>\n",
       "      <th>crime_total_divided_area</th>\n",
       "    </tr>\n",
       "  </thead>\n",
       "  <tbody>\n",
       "    <tr>\n",
       "      <th>0</th>\n",
       "      <td>JAFFARPUR KALAN</td>\n",
       "      <td>4</td>\n",
       "      <td>724</td>\n",
       "      <td>2</td>\n",
       "      <td>41</td>\n",
       "      <td>11</td>\n",
       "      <td>11</td>\n",
       "      <td>6</td>\n",
       "      <td>799</td>\n",
       "      <td>7.048170e+07</td>\n",
       "      <td>76.91555</td>\n",
       "      <td>28.59572</td>\n",
       "      <td>70.481699</td>\n",
       "      <td>11.336276</td>\n",
       "    </tr>\n",
       "    <tr>\n",
       "      <th>1</th>\n",
       "      <td>MUNDKA</td>\n",
       "      <td>3</td>\n",
       "      <td>244</td>\n",
       "      <td>1</td>\n",
       "      <td>14</td>\n",
       "      <td>5</td>\n",
       "      <td>12</td>\n",
       "      <td>4</td>\n",
       "      <td>270</td>\n",
       "      <td>4.859457e+07</td>\n",
       "      <td>76.96085</td>\n",
       "      <td>28.67042</td>\n",
       "      <td>48.594571</td>\n",
       "      <td>5.556176</td>\n",
       "    </tr>\n",
       "    <tr>\n",
       "      <th>2</th>\n",
       "      <td>BABA HARI DAS NAGAR</td>\n",
       "      <td>4</td>\n",
       "      <td>414</td>\n",
       "      <td>2</td>\n",
       "      <td>70</td>\n",
       "      <td>9</td>\n",
       "      <td>18</td>\n",
       "      <td>8</td>\n",
       "      <td>512</td>\n",
       "      <td>2.899435e+07</td>\n",
       "      <td>76.96681</td>\n",
       "      <td>28.62867</td>\n",
       "      <td>28.994346</td>\n",
       "      <td>17.658615</td>\n",
       "    </tr>\n",
       "    <tr>\n",
       "      <th>3</th>\n",
       "      <td>NAJAFGARH</td>\n",
       "      <td>4</td>\n",
       "      <td>900</td>\n",
       "      <td>1</td>\n",
       "      <td>60</td>\n",
       "      <td>4</td>\n",
       "      <td>10</td>\n",
       "      <td>10</td>\n",
       "      <td>973</td>\n",
       "      <td>8.473809e+06</td>\n",
       "      <td>76.98269</td>\n",
       "      <td>28.60975</td>\n",
       "      <td>8.473809</td>\n",
       "      <td>114.824393</td>\n",
       "    </tr>\n",
       "    <tr>\n",
       "      <th>4</th>\n",
       "      <td>CHHAWLA</td>\n",
       "      <td>4</td>\n",
       "      <td>485</td>\n",
       "      <td>1</td>\n",
       "      <td>65</td>\n",
       "      <td>6</td>\n",
       "      <td>16</td>\n",
       "      <td>11</td>\n",
       "      <td>575</td>\n",
       "      <td>2.632166e+07</td>\n",
       "      <td>76.99466</td>\n",
       "      <td>28.58691</td>\n",
       "      <td>26.321658</td>\n",
       "      <td>21.845129</td>\n",
       "    </tr>\n",
       "  </tbody>\n",
       "</table>\n",
       "</div>"
      ],
      "text/plain": [
       "            localities  assassination  theft  gang_rape  burglary  rape  \\\n",
       "0      JAFFARPUR KALAN              4    724          2        41    11   \n",
       "1               MUNDKA              3    244          1        14     5   \n",
       "2  BABA HARI DAS NAGAR              4    414          2        70     9   \n",
       "3            NAJAFGARH              4    900          1        60     4   \n",
       "4              CHHAWLA              4    485          1        65     6   \n",
       "\n",
       "   assualt_attack  harassment  crime_total    area_total  longitude  \\\n",
       "0              11           6          799  7.048170e+07   76.91555   \n",
       "1              12           4          270  4.859457e+07   76.96085   \n",
       "2              18           8          512  2.899435e+07   76.96681   \n",
       "3              10          10          973  8.473809e+06   76.98269   \n",
       "4              16          11          575  2.632166e+07   76.99466   \n",
       "\n",
       "   latatitude  area_per_million_km  crime_total_divided_area  \n",
       "0    28.59572            70.481699                 11.336276  \n",
       "1    28.67042            48.594571                  5.556176  \n",
       "2    28.62867            28.994346                 17.658615  \n",
       "3    28.60975             8.473809                114.824393  \n",
       "4    28.58691            26.321658                 21.845129  "
      ]
     },
     "execution_count": 209,
     "metadata": {},
     "output_type": "execute_result"
    }
   ],
   "source": [
    "cr.head()"
   ]
  },
  {
   "cell_type": "code",
   "execution_count": 210,
   "metadata": {},
   "outputs": [],
   "source": [
    "data = cr.iloc[:,[1,2,3,4,5,6,7,12]].values"
   ]
  },
  {
   "cell_type": "code",
   "execution_count": 211,
   "metadata": {},
   "outputs": [],
   "source": [
    "from sklearn.preprocessing import MinMaxScaler\n",
    "sc_X = MinMaxScaler()\n",
    "data = sc_X.fit_transform(data)"
   ]
  },
  {
   "cell_type": "code",
   "execution_count": 212,
   "metadata": {},
   "outputs": [
    {
     "data": {
      "text/plain": [
       "array([[0.16666667, 0.55032468, 0.16666667, ..., 0.13432836, 0.125     ,\n",
       "        1.        ],\n",
       "       [0.08333333, 0.16071429, 0.        , ..., 0.14925373, 0.075     ,\n",
       "        0.68548925],\n",
       "       [0.16666667, 0.2987013 , 0.16666667, ..., 0.23880597, 0.175     ,\n",
       "        0.40384054],\n",
       "       ...,\n",
       "       [0.41666667, 0.16558442, 0.        , ..., 0.11940299, 0.075     ,\n",
       "        0.        ],\n",
       "       [0.16666667, 0.34902597, 0.        , ..., 0.23880597, 0.175     ,\n",
       "        0.02433865],\n",
       "       [0.        , 0.05357143, 0.        , ..., 0.        , 0.025     ,\n",
       "        0.02885943]])"
      ]
     },
     "execution_count": 212,
     "metadata": {},
     "output_type": "execute_result"
    }
   ],
   "source": [
    "data"
   ]
  },
  {
   "cell_type": "code",
   "execution_count": 213,
   "metadata": {},
   "outputs": [
    {
     "data": {
      "image/png": "[encoded data removed]",
      "text/plain": [
       "<Figure size 432x288 with 1 Axes>"
      ]
     },
     "metadata": {},
     "output_type": "display_data"
    }
   ],
   "source": [
    "import pandas as pd\n",
    "from sklearn.datasets import load_iris\n",
    "from sklearn.cluster import KMeans\n",
    "import matplotlib.pyplot as plt\n",
    "\n",
    "\n",
    "sse = {}\n",
    "for k in range(1, 10):\n",
    "    kmeans = KMeans(n_clusters=k, max_iter=1000).fit(data)\n",
    "    #print(data[\"clusters\"])\n",
    "    sse[k] = kmeans.inertia_ # Inertia: Sum of distances of samples to their closest cluster center\n",
    "plt.figure()\n",
    "plt.plot(list(sse.keys()), list(sse.values()))\n",
    "plt.xlabel(\"Number of cluster\")\n",
    "plt.ylabel(\"SSE\")\n",
    "plt.show()"
   ]
  },
  {
   "cell_type": "code",
   "execution_count": 230,
   "metadata": {},
   "outputs": [],
   "source": [
    "from sklearn.cluster import KMeans\n",
    "import numpy as np\n",
    "X = data\n",
    "\n",
    "kmeans = KMeans(n_clusters=5,random_state=0).fit(X)\n",
    "kmeans.labels_\n",
    "\n",
    "pridiction=kmeans.predict(data)\n",
    "\n"
   ]
  },
  {
   "cell_type": "code",
   "execution_count": 231,
   "metadata": {},
   "outputs": [],
   "source": [
    "safety = []\n",
    "c = 0\n",
    "for li in kmeans.cluster_centers_:\n",
    "    sum = 0;\n",
    "    sum += li[3] + li[5] + li[7]\n",
    "    safety.append((sum,c))\n",
    "    c += 1\n",
    "safety = sorted(safety)"
   ]
  },
  {
   "cell_type": "code",
   "execution_count": 232,
   "metadata": {},
   "outputs": [
    {
     "data": {
      "text/plain": [
       "[(0.25862822812351577, 2),\n",
       " (0.6466648022641845, 1),\n",
       " (0.6952591694521474, 0),\n",
       " (1.0579625658879555, 4),\n",
       " (1.211779985167674, 3)]"
      ]
     },
     "execution_count": 232,
     "metadata": {},
     "output_type": "execute_result"
    }
   ],
   "source": [
    "safety"
   ]
  },
  {
   "cell_type": "code",
   "execution_count": 233,
   "metadata": {},
   "outputs": [],
   "source": [
    "dict1 = {}\n",
    "m = 0\n",
    "for s in safety:\n",
    "    dict1[s[1]] = m \n",
    "    m += 1"
   ]
  },
  {
   "cell_type": "code",
   "execution_count": 234,
   "metadata": {},
   "outputs": [
    {
     "data": {
      "text/plain": [
       "{2: 0, 1: 1, 0: 2, 4: 3, 3: 4}"
      ]
     },
     "execution_count": 234,
     "metadata": {},
     "output_type": "execute_result"
    }
   ],
   "source": [
    "dict1"
   ]
  },
  {
   "cell_type": "code",
   "execution_count": 235,
   "metadata": {},
   "outputs": [
    {
     "name": "stdout",
     "output_type": "stream",
     "text": [
      "[4 4 4 1 4 4 4 4 3 4 4 4 0 3 0 4 3 1 2 1 1 4 0 1 0 2 4 0 1 0 1 1 0 2 3 0 1\n",
      " 1 1 1 1 2 4 0 3 0 1 4 2 0 1 1 3 4 1 2 1 0 1 1 1 1 1 2 0 0 1 1 1 0 4 1 1 2\n",
      " 2 1 1 1 1 1 2 2 0 3 3 2 1 0 0 2 1 0 2 1 0 1 1 2 0 1 0 3 0 1 1 2 2 1 2 1 2\n",
      " 0 0 1 2 2 2 3 2 2 0 1 2 0 2 2 3 2 1 1 2 0 1 2 2 0 0 2 2 0 1 2 0 1 1 0 0 0\n",
      " 0 2 0 0 1 2 1 1 2 2 0 3 0 2 2 2 1 2]\n"
     ]
    }
   ],
   "source": [
    "# before\n",
    "print(pridiction)"
   ]
  },
  {
   "cell_type": "code",
   "execution_count": 236,
   "metadata": {},
   "outputs": [],
   "source": [
    "for i in range(len(pridiction)):\n",
    "    pridiction[i]=dict1[pridiction[i]]"
   ]
  },
  {
   "cell_type": "code",
   "execution_count": 237,
   "metadata": {},
   "outputs": [
    {
     "name": "stdout",
     "output_type": "stream",
     "text": [
      "[3 3 3 1 3 3 3 3 4 3 3 3 2 4 2 3 4 1 0 1 1 3 2 1 2 0 3 2 1 2 1 1 2 0 4 2 1\n",
      " 1 1 1 1 0 3 2 4 2 1 3 0 2 1 1 4 3 1 0 1 2 1 1 1 1 1 0 2 2 1 1 1 2 3 1 1 0\n",
      " 0 1 1 1 1 1 0 0 2 4 4 0 1 2 2 0 1 2 0 1 2 1 1 0 2 1 2 4 2 1 1 0 0 1 0 1 0\n",
      " 2 2 1 0 0 0 4 0 0 2 1 0 2 0 0 4 0 1 1 0 2 1 0 0 2 2 0 0 2 1 0 2 1 1 2 2 2\n",
      " 2 0 2 2 1 0 1 1 0 0 2 4 2 0 0 0 1 0]\n"
     ]
    }
   ],
   "source": [
    "# after\n",
    "print(pridiction)"
   ]
  },
  {
   "cell_type": "code",
   "execution_count": null,
   "metadata": {},
   "outputs": [],
   "source": []
  },
  {
   "cell_type": "code",
   "execution_count": 203,
   "metadata": {},
   "outputs": [
    {
     "name": "stdout",
     "output_type": "stream",
     "text": [
      "['JAFFARPUR KALAN' 'MUNDKA' 'BABA HARI DAS NAGAR' 'NAJAFGARH' 'CHHAWLA'\n",
      " 'KANJHAWALA' 'DWARKA NORTH' 'BAWANA' 'RANHOLA' 'BAWANA' 'BEGUM PUR'\n",
      " 'DWARKA SEC-23' 'AMAN VIHAR' 'UTTAM NAGAR' 'BINDAPUR' 'DWARKA SOUTH'\n",
      " 'NANGLOI' 'BINDAPUR' 'VIKAS PURI' 'NIHAL VIHAR' 'SULTAN PURI'\n",
      " 'SHAHBAD DAIRY' 'JANAK PURI' 'PALAM VILLAGE' 'DABRI' 'SAGARPUR'\n",
      " 'KAPASHERA' 'NARELA' 'MIANWALI NAGAR' 'MANGOLPURI' 'HARI NAGAR'\n",
      " 'PASCHIM VIHAR' 'TILAK NAGAR' 'VIJAY VIHAR' 'KHYALA' 'ROHINI SOUTH'\n",
      " 'ROHINI NORTH' 'RANI BAGH' 'RAJOURI GARDEN' 'RAJOURI GARDEN' 'MAYA PURI'\n",
      " 'KN KATJU MARG' 'DELHI CANTT' 'PRASHANT VIHAR' 'PUNJABI BAGH'\n",
      " 'KIRTI NAGAR' 'NARAINA' 'ALIPUR' 'SAMAYPURBADLI' 'SUBHASH PLACE'\n",
      " 'INDERPURI' 'MAURYA ENCLAVE' 'MOTI NAGAR' 'FATEHPUR BERI'\n",
      " 'VASANT KUNJ NORTH' 'VASANT KUNJ SOUTH' 'SWARUP NAGAR' 'SHALIMAR BAGH'\n",
      " 'PATEL NAGAR' 'RANJIT NAGAR' 'KESHAV PURAM' 'MAHENDRA PARK'\n",
      " 'BHALSWA DAIRY' 'VASANT VIHAR' 'ANAND PARBAT' 'ASHOK VIHAR'\n",
      " 'JAHANGIR PURI' 'ADRASH NAGAR' 'BHARAT NAGAR' 'SOUTH CAMPUS' 'MEHRAULI'\n",
      " 'PARSHAD NAGAR' 'RAJINDER NAGAR' 'SARAI ROHILLA' 'GULABIBAGH'\n",
      " 'KAROL BAGH' 'D.B.G ROAD' 'MODEL TOWN' 'CHANAKYAPURI' 'BURARI'\n",
      " 'SAFDARJUNG ENCLAVE' 'SAROJINI NAGAR' 'ROOP NAGAR' 'MANDIR MARG'\n",
      " 'MALVIYA NAGAR' 'SAFDARJUNG ENCLAVE' 'MAURICE NAGAR' 'SUBZIMANDI'\n",
      " 'BARA HINDU RAO' 'HAUZ KHAS' 'MUKHERJI NAGAR' 'PAHARGANJ' 'SADAR BAZAR'\n",
      " 'TUGLAK ROAD' 'PARLIAMENT STREET' 'NEB SARAI' 'CONNAUGHT PLACE'\n",
      " 'NABI KARIM' 'LAHORI GATE' 'CIVIL LINES' 'TIMARPUR' 'BARAKHAMBA ROAD'\n",
      " 'KOTALA MUBARAK PUR' 'HAUZQAZI' 'KASHMERE GATE' 'KAMLA MARKET' 'SAKET'\n",
      " 'KASHMERE GATE' 'GREATER KAILASH' 'DEFENCE COLONY' 'JAMA MASJID'\n",
      " 'PRASHANT VIHAR' 'TILAK MARG' 'CHANDNI MAHAL' 'LODHI COLONY'\n",
      " 'LAJPAT NAGAR' 'DARYA GANJ' 'AMAR COLONY' 'SANGAM VIHAR' 'H. N. DIN'\n",
      " 'I.P. ESTATE' 'CHITRANJAN PARK' 'KHAJURIKHAS' 'SONIA VIHAR' 'KALKAJI'\n",
      " 'KALKAJI' 'SUNLIGHT COLONY' 'NEW USMANPUR' 'BHAJANPURI' 'GOVIND PURI'\n",
      " 'GANDHI NAGAR' 'NEW FRIENDS COLONY' 'SEELAMPUR' 'SHAKARPUR' 'ZAFRABAD'\n",
      " 'KARAWAL NAGAR' 'OKHLA' 'WELCOME' 'GEETA COLONY' 'KRISHNA NAGAR'\n",
      " 'GOKULPURI' 'SARITA VIHAR' 'JAGATPURI' 'SHAHDARA' 'PULPRAHLAD PUR'\n",
      " 'JYOTI NAGAR' 'FARASH BAZAR' 'JAMIA NAGAR' 'ANANDVIHAR' 'PREETVIHAR'\n",
      " 'MANSAROVAR PARK' 'PANDAV NAGAR' 'BADAR PUR' 'MAYURVIHAR' 'MADHUVIHAR'\n",
      " 'MANDAWALI' 'SARITA VIHAR' 'VIVEKVIHAR' 'NANDNAGARI' 'NEW ASHOK NAGAR'\n",
      " 'ANANDVIHAR' 'G.T.B. ENCLAVE' 'SEEMAPURI' 'KALYANPURI' 'HARSH VIHAR'\n",
      " 'GHAZIPUR']\n"
     ]
    }
   ],
   "source": [
    "print(cr[\"localities\"].values)"
   ]
  },
  {
   "cell_type": "code",
   "execution_count": 204,
   "metadata": {},
   "outputs": [
    {
     "name": "stdout",
     "output_type": "stream",
     "text": [
      "[{'n': 'JAFFARPUR KALAN', 'type': 'Feature', 'properties': {'mag': 3}, 'lati': 76.9156, 'longi': 28.5957}, {'n': 'MUNDKA', 'type': 'Feature', 'properties': {'mag': 3}, 'lati': 76.9608, 'longi': 28.6704}, {'n': 'BABA HARI DAS NAGAR', 'type': 'Feature', 'properties': {'mag': 3}, 'lati': 76.9668, 'longi': 28.6287}, {'n': 'NAJAFGARH', 'type': 'Feature', 'properties': {'mag': 1}, 'lati': 76.9827, 'longi': 28.6098}, {'n': 'CHHAWLA', 'type': 'Feature', 'properties': {'mag': 3}, 'lati': 76.9947, 'longi': 28.5869}, {'n': 'KANJHAWALA', 'type': 'Feature', 'properties': {'mag': 3}, 'lati': 77.0036, 'longi': 28.7258}, {'n': 'DWARKA NORTH', 'type': 'Feature', 'properties': {'mag': 3}, 'lati': 77.0156, 'longi': 28.6037}, {'n': 'BAWANA', 'type': 'Feature', 'properties': {'mag': 2}, 'lati': 77.0228, 'longi': 28.8066}, {'n': 'RANHOLA', 'type': 'Feature', 'properties': {'mag': 4}, 'lati': 77.036, 'longi': 28.6538}, {'n': 'BAWANA', 'type': 'Feature', 'properties': {'mag': 2}, 'lati': 77.0425, 'longi': 28.7965}, {'n': 'BEGUM PUR', 'type': 'Feature', 'properties': {'mag': 3}, 'lati': 77.0518, 'longi': 28.7245}, {'n': 'DWARKA SEC-23', 'type': 'Feature', 'properties': {'mag': 3}, 'lati': 77.0585, 'longi': 28.5641}, {'n': 'AMAN VIHAR', 'type': 'Feature', 'properties': {'mag': 2}, 'lati': 77.0608, 'longi': 28.7096}, {'n': 'UTTAM NAGAR', 'type': 'Feature', 'properties': {'mag': 4}, 'lati': 77.0649, 'longi': 28.625}, {'n': 'BINDAPUR', 'type': 'Feature', 'properties': {'mag': 2}, 'lati': 77.0662, 'longi': 28.6091}, {'n': 'DWARKA SOUTH', 'type': 'Feature', 'properties': {'mag': 3}, 'lati': 77.0667, 'longi': 28.5784}, {'n': 'NANGLOI', 'type': 'Feature', 'properties': {'mag': 4}, 'lati': 77.067, 'longi': 28.682}, {'n': 'BINDAPUR', 'type': 'Feature', 'properties': {'mag': 1}, 'lati': 77.0674, 'longi': 28.6205}, {'n': 'VIKAS PURI', 'type': 'Feature', 'properties': {'mag': 0}, 'lati': 77.0683, 'longi': 28.63}, {'n': 'NIHAL VIHAR', 'type': 'Feature', 'properties': {'mag': 1}, 'lati': 77.0717, 'longi': 28.665}, {'n': 'SULTAN PURI', 'type': 'Feature', 'properties': {'mag': 1}, 'lati': 77.0786, 'longi': 28.7026}, {'n': 'SHAHBAD DAIRY', 'type': 'Feature', 'properties': {'mag': 3}, 'lati': 77.0789, 'longi': 28.7477}, {'n': 'JANAK PURI', 'type': 'Feature', 'properties': {'mag': 2}, 'lati': 77.0819, 'longi': 28.6286}, {'n': 'PALAM VILLAGE', 'type': 'Feature', 'properties': {'mag': 1}, 'lati': 77.0829, 'longi': 28.5881}, {'n': 'DABRI', 'type': 'Feature', 'properties': {'mag': 2}, 'lati': 77.086, 'longi': 28.6127}, {'n': 'SAGARPUR', 'type': 'Feature', 'properties': {'mag': 0}, 'lati': 77.0864, 'longi': 28.5914}, {'n': 'KAPASHERA', 'type': 'Feature', 'properties': {'mag': 1}, 'lati': 77.0872, 'longi': 28.5296}, {'n': 'NARELA', 'type': 'Feature', 'properties': {'mag': 2}, 'lati': 77.0885, 'longi': 28.8532}, {'n': 'MIANWALI NAGAR', 'type': 'Feature', 'properties': {'mag': 1}, 'lati': 77.0888, 'longi': 28.6796}, {'n': 'MANGOLPURI', 'type': 'Feature', 'properties': {'mag': 2}, 'lati': 77.0916, 'longi': 28.6966}, {'n': 'HARI NAGAR', 'type': 'Feature', 'properties': {'mag': 1}, 'lati': 77.0995, 'longi': 28.6094}, {'n': 'PASCHIM VIHAR', 'type': 'Feature', 'properties': {'mag': 1}, 'lati': 77.1012, 'longi': 28.6711}, {'n': 'TILAK NAGAR', 'type': 'Feature', 'properties': {'mag': 2}, 'lati': 77.1014, 'longi': 28.639}, {'n': 'VIJAY VIHAR', 'type': 'Feature', 'properties': {'mag': 0}, 'lati': 77.1019, 'longi': 28.71}, {'n': 'KHYALA', 'type': 'Feature', 'properties': {'mag': 4}, 'lati': 77.1133, 'longi': 28.6576}, {'n': 'ROHINI SOUTH', 'type': 'Feature', 'properties': {'mag': 2}, 'lati': 77.1159, 'longi': 28.7024}, {'n': 'ROHINI NORTH', 'type': 'Feature', 'properties': {'mag': 1}, 'lati': 77.1182, 'longi': 28.7089}, {'n': 'RANI BAGH', 'type': 'Feature', 'properties': {'mag': 1}, 'lati': 77.1193, 'longi': 28.6978}, {'n': 'RAJOURI GARDEN', 'type': 'Feature', 'properties': {'mag': 1}, 'lati': 77.1196, 'longi': 28.6515}, {'n': 'RAJOURI GARDEN', 'type': 'Feature', 'properties': {'mag': 1}, 'lati': 77.1199, 'longi': 28.6397}, {'n': 'MAYA PURI', 'type': 'Feature', 'properties': {'mag': 1}, 'lati': 77.1208, 'longi': 28.6266}, {'n': 'KN KATJU MARG', 'type': 'Feature', 'properties': {'mag': 0}, 'lati': 77.121, 'longi': 28.7304}, {'n': 'DELHI CANTT', 'type': 'Feature', 'properties': {'mag': 3}, 'lati': 77.1244, 'longi': 28.5987}, {'n': 'PRASHANT VIHAR', 'type': 'Feature', 'properties': {'mag': 2}, 'lati': 77.1276, 'longi': 28.7179}, {'n': 'PUNJABI BAGH', 'type': 'Feature', 'properties': {'mag': 4}, 'lati': 77.1328, 'longi': 28.6744}, {'n': 'KIRTI NAGAR', 'type': 'Feature', 'properties': {'mag': 2}, 'lati': 77.1351, 'longi': 28.6405}, {'n': 'NARAINA', 'type': 'Feature', 'properties': {'mag': 1}, 'lati': 77.1378, 'longi': 28.6336}, {'n': 'ALIPUR', 'type': 'Feature', 'properties': {'mag': 3}, 'lati': 77.1391, 'longi': 28.799}, {'n': 'SAMAYPURBADLI', 'type': 'Feature', 'properties': {'mag': 0}, 'lati': 77.1422, 'longi': 28.7252}, {'n': 'SUBHASH PLACE', 'type': 'Feature', 'properties': {'mag': 2}, 'lati': 77.1441, 'longi': 28.689}, {'n': 'INDERPURI', 'type': 'Feature', 'properties': {'mag': 1}, 'lati': 77.145, 'longi': 28.6308}, {'n': 'MAURYA ENCLAVE', 'type': 'Feature', 'properties': {'mag': 1}, 'lati': 77.146, 'longi': 28.7004}, {'n': 'MOTI NAGAR', 'type': 'Feature', 'properties': {'mag': 4}, 'lati': 77.1466, 'longi': 28.6601}, {'n': 'FATEHPUR BERI', 'type': 'Feature', 'properties': {'mag': 3}, 'lati': 77.1511, 'longi': 28.4655}, {'n': 'VASANT KUNJ NORTH', 'type': 'Feature', 'properties': {'mag': 1}, 'lati': 77.1523, 'longi': 28.5349}, {'n': 'VASANT KUNJ SOUTH', 'type': 'Feature', 'properties': {'mag': 0}, 'lati': 77.1524, 'longi': 28.5349}, {'n': 'SWARUP NAGAR', 'type': 'Feature', 'properties': {'mag': 1}, 'lati': 77.1562, 'longi': 28.7584}, {'n': 'SHALIMAR BAGH', 'type': 'Feature', 'properties': {'mag': 2}, 'lati': 77.1571, 'longi': 28.7168}, {'n': 'PATEL NAGAR', 'type': 'Feature', 'properties': {'mag': 1}, 'lati': 77.1582, 'longi': 28.6524}, {'n': 'RANJIT NAGAR', 'type': 'Feature', 'properties': {'mag': 1}, 'lati': 77.1587, 'longi': 28.6475}, {'n': 'KESHAV PURAM', 'type': 'Feature', 'properties': {'mag': 1}, 'lati': 77.1598, 'longi': 28.6842}, {'n': 'MAHENDRA PARK', 'type': 'Feature', 'properties': {'mag': 1}, 'lati': 77.1642, 'longi': 28.7258}, {'n': 'BHALSWA DAIRY', 'type': 'Feature', 'properties': {'mag': 1}, 'lati': 77.1657, 'longi': 28.7429}, {'n': 'VASANT VIHAR', 'type': 'Feature', 'properties': {'mag': 0}, 'lati': 77.1693, 'longi': 28.558}, {'n': 'ANAND PARBAT', 'type': 'Feature', 'properties': {'mag': 2}, 'lati': 77.1738, 'longi': 28.66}, {'n': 'ASHOK VIHAR', 'type': 'Feature', 'properties': {'mag': 1}, 'lati': 77.1743, 'longi': 28.6924}, {'n': 'JAHANGIR PURI', 'type': 'Feature', 'properties': {'mag': 1}, 'lati': 77.1749, 'longi': 28.7336}, {'n': 'ADRASH NAGAR', 'type': 'Feature', 'properties': {'mag': 1}, 'lati': 77.1753, 'longi': 28.7098}, {'n': 'BHARAT NAGAR', 'type': 'Feature', 'properties': {'mag': 1}, 'lati': 77.1785, 'longi': 28.6806}, {'n': 'SOUTH CAMPUS', 'type': 'Feature', 'properties': {'mag': 2}, 'lati': 77.179, 'longi': 28.5705}, {'n': 'MEHRAULI', 'type': 'Feature', 'properties': {'mag': 3}, 'lati': 77.1802, 'longi': 28.5215}, {'n': 'PARSHAD NAGAR', 'type': 'Feature', 'properties': {'mag': 1}, 'lati': 77.1805, 'longi': 28.6478}, {'n': 'RAJINDER NAGAR', 'type': 'Feature', 'properties': {'mag': 1}, 'lati': 77.1828, 'longi': 28.635}, {'n': 'SARAI ROHILLA', 'type': 'Feature', 'properties': {'mag': 0}, 'lati': 77.1837, 'longi': 28.6684}, {'n': 'GULABIBAGH', 'type': 'Feature', 'properties': {'mag': 0}, 'lati': 77.1926, 'longi': 28.67}, {'n': 'KAROL BAGH', 'type': 'Feature', 'properties': {'mag': 1}, 'lati': 77.1932, 'longi': 28.6526}, {'n': 'D.B.G ROAD', 'type': 'Feature', 'properties': {'mag': 1}, 'lati': 77.1933, 'longi': 28.6526}, {'n': 'MODEL TOWN', 'type': 'Feature', 'properties': {'mag': 1}, 'lati': 77.1937, 'longi': 28.7026}, {'n': 'CHANAKYAPURI', 'type': 'Feature', 'properties': {'mag': 1}, 'lati': 77.1961, 'longi': 28.6034}, {'n': 'BURARI', 'type': 'Feature', 'properties': {'mag': 1}, 'lati': 77.1974, 'longi': 28.7366}, {'n': 'SAFDARJUNG ENCLAVE', 'type': 'Feature', 'properties': {'mag': 0}, 'lati': 77.1986, 'longi': 28.5585}, {'n': 'SAROJINI NAGAR', 'type': 'Feature', 'properties': {'mag': 0}, 'lati': 77.1991, 'longi': 28.5745}, {'n': 'ROOP NAGAR', 'type': 'Feature', 'properties': {'mag': 2}, 'lati': 77.2026, 'longi': 28.685}, {'n': 'MANDIR MARG', 'type': 'Feature', 'properties': {'mag': 4}, 'lati': 77.2032, 'longi': 28.6386}, {'n': 'MALVIYA NAGAR', 'type': 'Feature', 'properties': {'mag': 4}, 'lati': 77.2042, 'longi': 28.5299}, {'n': 'SAFDARJUNG ENCLAVE', 'type': 'Feature', 'properties': {'mag': 0}, 'lati': 77.2049, 'longi': 28.5693}, {'n': 'MAURICE NAGAR', 'type': 'Feature', 'properties': {'mag': 1}, 'lati': 77.2065, 'longi': 28.6925}, {'n': 'SUBZIMANDI', 'type': 'Feature', 'properties': {'mag': 2}, 'lati': 77.2077, 'longi': 28.6692}, {'n': 'BARA HINDU RAO', 'type': 'Feature', 'properties': {'mag': 2}, 'lati': 77.2085, 'longi': 28.6654}, {'n': 'HAUZ KHAS', 'type': 'Feature', 'properties': {'mag': 1}, 'lati': 77.2085, 'longi': 28.5494}, {'n': 'MUKHERJI NAGAR', 'type': 'Feature', 'properties': {'mag': 1}, 'lati': 77.2086, 'longi': 28.7002}, {'n': 'PAHARGANJ', 'type': 'Feature', 'properties': {'mag': 2}, 'lati': 77.2093, 'longi': 28.6458}, {'n': 'SADAR BAZAR', 'type': 'Feature', 'properties': {'mag': 0}, 'lati': 77.2112, 'longi': 28.654}, {'n': 'TUGLAK ROAD', 'type': 'Feature', 'properties': {'mag': 1}, 'lati': 77.2112, 'longi': 28.5983}, {'n': 'PARLIAMENT STREET', 'type': 'Feature', 'properties': {'mag': 2}, 'lati': 77.2137, 'longi': 28.6247}, {'n': 'NEB SARAI', 'type': 'Feature', 'properties': {'mag': 1}, 'lati': 77.2143, 'longi': 28.4989}, {'n': 'CONNAUGHT PLACE', 'type': 'Feature', 'properties': {'mag': 1}, 'lati': 77.2143, 'longi': 28.63}, {'n': 'NABI KARIM', 'type': 'Feature', 'properties': {'mag': 1}, 'lati': 77.2175, 'longi': 28.6498}, {'n': 'LAHORI GATE', 'type': 'Feature', 'properties': {'mag': 2}, 'lati': 77.2188, 'longi': 28.6556}, {'n': 'CIVIL LINES', 'type': 'Feature', 'properties': {'mag': 1}, 'lati': 77.2215, 'longi': 28.6885}, {'n': 'TIMARPUR', 'type': 'Feature', 'properties': {'mag': 2}, 'lati': 77.2242, 'longi': 28.7072}, {'n': 'BARAKHAMBA ROAD', 'type': 'Feature', 'properties': {'mag': 4}, 'lati': 77.225, 'longi': 28.6309}, {'n': 'KOTALA MUBARAK PUR', 'type': 'Feature', 'properties': {'mag': 4}, 'lati': 77.2251, 'longi': 28.5759}, {'n': 'HAUZQAZI', 'type': 'Feature', 'properties': {'mag': 1}, 'lati': 77.2255, 'longi': 28.6434}, {'n': 'KASHMERE GATE', 'type': 'Feature', 'properties': {'mag': 1}, 'lati': 77.2262, 'longi': 28.6664}, {'n': 'KAMLA MARKET', 'type': 'Feature', 'properties': {'mag': 0}, 'lati': 77.2262, 'longi': 28.643}, {'n': 'SAKET', 'type': 'Feature', 'properties': {'mag': 0}, 'lati': 77.2272, 'longi': 28.5288}, {'n': 'KASHMERE GATE', 'type': 'Feature', 'properties': {'mag': 1}, 'lati': 77.2315, 'longi': 28.6625}, {'n': 'GREATER KAILASH', 'type': 'Feature', 'properties': {'mag': 0}, 'lati': 77.2328, 'longi': 28.5541}, {'n': 'DEFENCE COLONY', 'type': 'Feature', 'properties': {'mag': 1}, 'lati': 77.2334, 'longi': 28.5647}, {'n': 'JAMA MASJID', 'type': 'Feature', 'properties': {'mag': 1}, 'lati': 77.2336, 'longi': 28.6528}, {'n': 'PRASHANT VIHAR', 'type': 'Feature', 'properties': {'mag': 2}, 'lati': 77.2337, 'longi': 28.6042}, {'n': 'TILAK MARG', 'type': 'Feature', 'properties': {'mag': 2}, 'lati': 77.2354, 'longi': 28.6182}, {'n': 'CHANDNI MAHAL', 'type': 'Feature', 'properties': {'mag': 1}, 'lati': 77.2361, 'longi': 28.6436}, {'n': 'LODHI COLONY', 'type': 'Feature', 'properties': {'mag': 0}, 'lati': 77.2405, 'longi': 28.5874}, {'n': 'LAJPAT NAGAR', 'type': 'Feature', 'properties': {'mag': 0}, 'lati': 77.2405, 'longi': 28.5684}, {'n': 'DARYA GANJ', 'type': 'Feature', 'properties': {'mag': 0}, 'lati': 77.2406, 'longi': 28.6419}, {'n': 'AMAR COLONY', 'type': 'Feature', 'properties': {'mag': 4}, 'lati': 77.2409, 'longi': 28.5591}, {'n': 'SANGAM VIHAR', 'type': 'Feature', 'properties': {'mag': 0}, 'lati': 77.243, 'longi': 28.5096}, {'n': 'H. N. DIN', 'type': 'Feature', 'properties': {'mag': 0}, 'lati': 77.2442, 'longi': 28.5924}, {'n': 'I.P. ESTATE', 'type': 'Feature', 'properties': {'mag': 1}, 'lati': 77.2472, 'longi': 28.6274}, {'n': 'CHITRANJAN PARK', 'type': 'Feature', 'properties': {'mag': 1}, 'lati': 77.2492, 'longi': 28.5363}, {'n': 'KHAJURIKHAS', 'type': 'Feature', 'properties': {'mag': 0}, 'lati': 77.2561, 'longi': 28.7111}, {'n': 'SONIA VIHAR', 'type': 'Feature', 'properties': {'mag': 2}, 'lati': 77.2561, 'longi': 28.7113}, {'n': 'KALKAJI', 'type': 'Feature', 'properties': {'mag': 0}, 'lati': 77.2564, 'longi': 28.5473}, {'n': 'KALKAJI', 'type': 'Feature', 'properties': {'mag': 0}, 'lati': 77.2574, 'longi': 28.5332}, {'n': 'SUNLIGHT COLONY', 'type': 'Feature', 'properties': {'mag': 4}, 'lati': 77.2602, 'longi': 28.5784}, {'n': 'NEW USMANPUR', 'type': 'Feature', 'properties': {'mag': 0}, 'lati': 77.2621, 'longi': 28.672}, {'n': 'BHAJANPURI', 'type': 'Feature', 'properties': {'mag': 1}, 'lati': 77.2644, 'longi': 28.7013}, {'n': 'GOVIND PURI', 'type': 'Feature', 'properties': {'mag': 1}, 'lati': 77.2653, 'longi': 28.5307}, {'n': 'GANDHI NAGAR', 'type': 'Feature', 'properties': {'mag': 0}, 'lati': 77.2673, 'longi': 28.6596}, {'n': 'NEW FRIENDS COLONY', 'type': 'Feature', 'properties': {'mag': 2}, 'lati': 77.2676, 'longi': 28.5623}, {'n': 'SEELAMPUR', 'type': 'Feature', 'properties': {'mag': 1}, 'lati': 77.2686, 'longi': 28.6743}, {'n': 'SHAKARPUR', 'type': 'Feature', 'properties': {'mag': 0}, 'lati': 77.2703, 'longi': 28.6378}, {'n': 'ZAFRABAD', 'type': 'Feature', 'properties': {'mag': 0}, 'lati': 77.273, 'longi': 28.6791}, {'n': 'KARAWAL NAGAR', 'type': 'Feature', 'properties': {'mag': 2}, 'lati': 77.2745, 'longi': 28.7328}, {'n': 'OKHLA', 'type': 'Feature', 'properties': {'mag': 2}, 'lati': 77.2746, 'longi': 28.5268}, {'n': 'WELCOME', 'type': 'Feature', 'properties': {'mag': 0}, 'lati': 77.2748, 'longi': 28.6734}, {'n': 'GEETA COLONY', 'type': 'Feature', 'properties': {'mag': 0}, 'lati': 77.2764, 'longi': 28.6554}, {'n': 'KRISHNA NAGAR', 'type': 'Feature', 'properties': {'mag': 2}, 'lati': 77.2807, 'longi': 28.667}, {'n': 'GOKULPURI', 'type': 'Feature', 'properties': {'mag': 1}, 'lati': 77.2808, 'longi': 28.7022}, {'n': 'SARITA VIHAR', 'type': 'Feature', 'properties': {'mag': 0}, 'lati': 77.282, 'longi': 28.5405}, {'n': 'JAGATPURI', 'type': 'Feature', 'properties': {'mag': 2}, 'lati': 77.2839, 'longi': 28.6436}, {'n': 'SHAHDARA', 'type': 'Feature', 'properties': {'mag': 1}, 'lati': 77.2852, 'longi': 28.6742}, {'n': 'PULPRAHLAD PUR', 'type': 'Feature', 'properties': {'mag': 1}, 'lati': 77.291, 'longi': 28.5016}, {'n': 'JYOTI NAGAR', 'type': 'Feature', 'properties': {'mag': 2}, 'lati': 77.2917, 'longi': 28.6961}, {'n': 'FARASH BAZAR', 'type': 'Feature', 'properties': {'mag': 1}, 'lati': 77.2922, 'longi': 28.6688}, {'n': 'JAMIA NAGAR', 'type': 'Feature', 'properties': {'mag': 2}, 'lati': 77.2924, 'longi': 28.5621}, {'n': 'ANANDVIHAR', 'type': 'Feature', 'properties': {'mag': 2}, 'lati': 77.2937, 'longi': 28.6534}, {'n': 'PREETVIHAR', 'type': 'Feature', 'properties': {'mag': 1}, 'lati': 77.2953, 'longi': 28.6385}, {'n': 'MANSAROVAR PARK', 'type': 'Feature', 'properties': {'mag': 2}, 'lati': 77.2986, 'longi': 28.6828}, {'n': 'PANDAV NAGAR', 'type': 'Feature', 'properties': {'mag': 2}, 'lati': 77.3026, 'longi': 28.6204}, {'n': 'BADAR PUR', 'type': 'Feature', 'properties': {'mag': 1}, 'lati': 77.3036, 'longi': 28.4938}, {'n': 'MAYURVIHAR', 'type': 'Feature', 'properties': {'mag': 0}, 'lati': 77.3037, 'longi': 28.6073}, {'n': 'MADHUVIHAR', 'type': 'Feature', 'properties': {'mag': 1}, 'lati': 77.3061, 'longi': 28.6254}, {'n': 'MANDAWALI', 'type': 'Feature', 'properties': {'mag': 1}, 'lati': 77.3061, 'longi': 28.6254}, {'n': 'SARITA VIHAR', 'type': 'Feature', 'properties': {'mag': 0}, 'lati': 77.3062, 'longi': 28.523}, {'n': 'VIVEKVIHAR', 'type': 'Feature', 'properties': {'mag': 0}, 'lati': 77.3066, 'longi': 28.6668}, {'n': 'NANDNAGARI', 'type': 'Feature', 'properties': {'mag': 2}, 'lati': 77.3082, 'longi': 28.6985}, {'n': 'NEW ASHOK NAGAR', 'type': 'Feature', 'properties': {'mag': 4}, 'lati': 77.3118, 'longi': 28.5982}, {'n': 'ANANDVIHAR', 'type': 'Feature', 'properties': {'mag': 2}, 'lati': 77.3131, 'longi': 28.656}, {'n': 'G.T.B. ENCLAVE', 'type': 'Feature', 'properties': {'mag': 0}, 'lati': 77.316, 'longi': 28.685}, {'n': 'SEEMAPURI', 'type': 'Feature', 'properties': {'mag': 0}, 'lati': 77.3165, 'longi': 28.6781}, {'n': 'KALYANPURI', 'type': 'Feature', 'properties': {'mag': 0}, 'lati': 77.3171, 'longi': 28.6136}, {'n': 'HARSH VIHAR', 'type': 'Feature', 'properties': {'mag': 1}, 'lati': 77.3185, 'longi': 28.706}, {'n': 'GHAZIPUR', 'type': 'Feature', 'properties': {'mag': 0}, 'lati': 77.3327, 'longi': 28.6249}]\n"
     ]
    }
   ],
   "source": [
    "import numpy as np\n",
    "import matplotlib.pyplot as plt\n",
    "import pandas as pd\n",
    "\n",
    "\n",
    "X = cr.iloc[0:166, 0].values\n",
    "y1 = cr.iloc[:, 10].values\n",
    "y2 = cr.iloc[:, 11].values\n",
    "y = pridiction\n",
    "places = cr[\"localities\"].values\n",
    "new_array= []\n",
    "for i in range(0, 166):\n",
    "    str = places[i]+\", Delhi, India\"\n",
    "    new_array.append(str)\n",
    "\n",
    "\n",
    "lati = y2\n",
    "longi = y1\n",
    "\n",
    "ar = []\n",
    "   \n",
    "for i in range(0, 166):\n",
    "    y1[i] = round(y1[i], 4)\n",
    "    y2[i] = round(y2[i], 4)\n",
    "\n",
    "    o = {  \"n\": places[i],\n",
    "        \"type\": \"Feature\",\n",
    "           \"properties\": { 'mag': y[i]   },                 \n",
    "            'lati': y1[i], \n",
    "            'longi': y2[i]\n",
    "           \n",
    "            \n",
    "        }\n",
    "    ar.append(o)\n",
    "print(ar)\n"
   ]
  }
 ],
 "metadata": {
  "kernelspec": {
   "display_name": "Python 3",
   "language": "python",
   "name": "python3"
  },
  "language_info": {
   "codemirror_mode": {
    "name": "ipython",
    "version": 3
   },
   "file_extension": ".py",
   "mimetype": "text/x-python",
   "name": "python",
   "nbconvert_exporter": "python",
   "pygments_lexer": "ipython3",
   "version": "3.6.5"
  }
 },
 "nbformat": 4,
 "nbformat_minor": 2
}
