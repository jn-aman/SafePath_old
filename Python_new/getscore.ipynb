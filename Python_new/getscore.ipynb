{
 "cells": [
  {
   "cell_type": "code",
   "execution_count": 4,
   "metadata": {},
   "outputs": [],
   "source": [
    "import numpy as np\n",
    "from sklearn.utils import check_random_state\n",
    "from sklearn.metrics.pairwise import distance_metrics\n",
    "import math\n",
    "import pandas as pd"
   ]
  },
  {
   "cell_type": "code",
   "execution_count": 7,
   "metadata": {},
   "outputs": [],
   "source": [
    "# from sqlalchemy import create_engine\n",
    "# database_username = 'b5a53e446f5cec'\n",
    "# database_password = '0f8d1ba3'\n",
    "# database_ip       = 'us-cdbr-iron-east-02.cleardb.net'\n",
    "# database_name     = 'heroku_7c3443583b90116'\n",
    "# database_connection = create_engine('mysql+mysqlconnector://{0}:{1}@{2}/{3}'.\n",
    "#                                                format(database_username, database_password, \n",
    "# #                                                       database_ip, database_name))\n",
    "# cr.to_sql('initial', con=database_connection, if_exists='replace',chunksize=1000,index=False)\n"
   ]
  },
  {
   "cell_type": "code",
   "execution_count": 6,
   "metadata": {},
   "outputs": [],
   "source": [
    "\n",
    "from sqlalchemy import create_engine\n",
    "database_username = 'root'\n",
    "database_password = ''\n",
    "database_ip       = 'localhost'\n",
    "database_name     = 'safepath'\n",
    "database_connection = create_engine('mysql+mysqlconnector://{0}:{1}@{2}/{3}'.\n",
    "                                               format(database_username, database_password, \n",
    "                                                      database_ip, database_name))\n",
    "cr = pd.read_sql('SELECT * FROM final', con=database_connection)"
   ]
  },
  {
   "cell_type": "code",
   "execution_count": 7,
   "metadata": {},
   "outputs": [
    {
     "data": {
      "text/html": [
       "<div>\n",
       "<style scoped>\n",
       "    .dataframe tbody tr th:only-of-type {\n",
       "        vertical-align: middle;\n",
       "    }\n",
       "\n",
       "    .dataframe tbody tr th {\n",
       "        vertical-align: top;\n",
       "    }\n",
       "\n",
       "    .dataframe thead th {\n",
       "        text-align: right;\n",
       "    }\n",
       "</style>\n",
       "<table border=\"1\" class=\"dataframe\">\n",
       "  <thead>\n",
       "    <tr style=\"text-align: right;\">\n",
       "      <th></th>\n",
       "      <th>lati</th>\n",
       "      <th>longi</th>\n",
       "      <th>mag</th>\n",
       "      <th>n</th>\n",
       "    </tr>\n",
       "  </thead>\n",
       "  <tbody>\n",
       "    <tr>\n",
       "      <th>0</th>\n",
       "      <td>76.9156</td>\n",
       "      <td>28.5957</td>\n",
       "      <td>3</td>\n",
       "      <td>JAFFARPUR KALAN</td>\n",
       "    </tr>\n",
       "    <tr>\n",
       "      <th>1</th>\n",
       "      <td>76.9608</td>\n",
       "      <td>28.6704</td>\n",
       "      <td>3</td>\n",
       "      <td>MUNDKA</td>\n",
       "    </tr>\n",
       "    <tr>\n",
       "      <th>2</th>\n",
       "      <td>76.9668</td>\n",
       "      <td>28.6287</td>\n",
       "      <td>3</td>\n",
       "      <td>BABA HARI DAS NAGAR</td>\n",
       "    </tr>\n",
       "    <tr>\n",
       "      <th>3</th>\n",
       "      <td>76.9827</td>\n",
       "      <td>28.6098</td>\n",
       "      <td>1</td>\n",
       "      <td>NAJAFGARH</td>\n",
       "    </tr>\n",
       "    <tr>\n",
       "      <th>4</th>\n",
       "      <td>76.9947</td>\n",
       "      <td>28.5869</td>\n",
       "      <td>3</td>\n",
       "      <td>CHHAWLA</td>\n",
       "    </tr>\n",
       "  </tbody>\n",
       "</table>\n",
       "</div>"
      ],
      "text/plain": [
       "      lati    longi  mag                    n\n",
       "0  76.9156  28.5957    3      JAFFARPUR KALAN\n",
       "1  76.9608  28.6704    3               MUNDKA\n",
       "2  76.9668  28.6287    3  BABA HARI DAS NAGAR\n",
       "3  76.9827  28.6098    1            NAJAFGARH\n",
       "4  76.9947  28.5869    3              CHHAWLA"
      ]
     },
     "execution_count": 7,
     "metadata": {},
     "output_type": "execute_result"
    }
   ],
   "source": [
    "print(cr.to_dict('r'))\n"
   ]
  }
 ],
 "metadata": {
  "kernelspec": {
   "display_name": "Python 3",
   "language": "python",
   "name": "python3"
  },
  "language_info": {
   "codemirror_mode": {
    "name": "ipython",
    "version": 3
   },
   "file_extension": ".py",
   "mimetype": "text/x-python",
   "name": "python",
   "nbconvert_exporter": "python",
   "pygments_lexer": "ipython3",
   "version": "3.6.5"
  }
 },
 "nbformat": 4,
 "nbformat_minor": 2
}
