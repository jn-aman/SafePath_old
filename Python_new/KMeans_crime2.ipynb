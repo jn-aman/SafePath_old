{
 "cells": [
  {
   "cell_type": "code",
   "execution_count": 113,
   "metadata": {},
   "outputs": [],
   "source": [
    "import numpy as np\n",
    "from matplotlib import pyplot as plt\n",
    "from sklearn.utils import check_random_state\n",
    "from sklearn.metrics.pairwise import distance_metrics\n",
    "import math"
   ]
  },
  {
   "cell_type": "code",
   "execution_count": 114,
   "metadata": {},
   "outputs": [],
   "source": [
    "x = np.array([[1,2], [1.5,1.8], [5,8], [8,8], [1,0.6], [9,11]])"
   ]
  },
  {
   "cell_type": "code",
   "execution_count": 115,
   "metadata": {
    "scrolled": true
   },
   "outputs": [
    {
     "data": {
      "image/png": "[encoded data removed]",
      "text/plain": [
       "<Figure size 432x288 with 1 Axes>"
      ]
     },
     "metadata": {},
     "output_type": "display_data"
    }
   ],
   "source": [
    "plt.scatter(x[:,0],x[:,1])\n",
    "plt.show()"
   ]
  },
  {
   "cell_type": "code",
   "execution_count": 116,
   "metadata": {},
   "outputs": [],
   "source": [
    "alpha = 0.456\n",
    "def min_distance_cluster(point, means, k):\n",
    "    min_distance = 0\n",
    "    for i in range(k):\n",
    "        euc_distance = ((means[i] - point)**2).sum()\n",
    "        if euc_distance < min_distance :\n",
    "            min_distance = euc_distance\n",
    "            cluster = i\n",
    "    return cluster        "
   ]
  },
  {
   "cell_type": "code",
   "execution_count": 117,
   "metadata": {},
   "outputs": [],
   "source": [
    "def fit(data, k = 2, max_iter = 100):\n",
    "    means = [] #list of means\n",
    "    for i in range(k):\n",
    "        means.append(data[i])\n",
    "    \n",
    "    for i in range(max_iter):\n",
    "        clusters = []\n",
    "        for j in range(k):\n",
    "            clusters.append([])\n",
    "        #assign the data point to the cluster they belong to \n",
    "        for point in data:\n",
    "            #find distance to all_mean values\n",
    "            distances = [((m - point)**2).sum() for m in means]\n",
    "            #find the min distance\n",
    "            minDistance = min(distances)\n",
    "            #find the mean for which we got the min_distance --- l\n",
    "            l = distances.index(minDistance)\n",
    "            #add this point to cluster l\n",
    "            clusters[l].append(point)\n",
    "            \n",
    "        #update new_means\n",
    "        change = False\n",
    "        for j in range(k):\n",
    "            new_mean = np.average(clusters[j], axis = 0)\n",
    "            if not np.array_equal(means[j],new_mean):\n",
    "                change = True\n",
    "            means[j] = new_mean\n",
    "        if not change:\n",
    "            break\n",
    "    return means         "
   ]
  },
  {
   "cell_type": "code",
   "execution_count": 118,
   "metadata": {},
   "outputs": [],
   "source": [
    "def predict(test_data,means):\n",
    "    predictions = []\n",
    "    for point in test_data:\n",
    "            #find distance to all_mean values\n",
    "            distances = [((m - point)**2).sum() for m in means]\n",
    "            #find the min distance\n",
    "            minDistance = min(distances)\n",
    "            #find the mean for which we got the min_distance --- l\n",
    "            l = distances.index(minDistance)\n",
    "            #add this point to cluster l\n",
    "            predictions.append(l)  \n",
    "    return predictions  \n"
   ]
  },
  {
   "cell_type": "code",
   "execution_count": 119,
   "metadata": {},
   "outputs": [],
   "source": [
    "means = fit(x)"
   ]
  },
  {
   "cell_type": "code",
   "execution_count": 120,
   "metadata": {},
   "outputs": [
    {
     "data": {
      "text/plain": [
       "[0, 0, 1, 1, 0, 1]"
      ]
     },
     "execution_count": 120,
     "metadata": {},
     "output_type": "execute_result"
    }
   ],
   "source": [
    "predictions = predict(x,means)\n",
    "predictions"
   ]
  },
  {
   "cell_type": "markdown",
   "metadata": {},
   "source": [
    "# Silhouette score"
   ]
  },
  {
   "cell_type": "code",
   "execution_count": 121,
   "metadata": {},
   "outputs": [],
   "source": [
    "def silhouette_score(X, labels, metric='euclidean', sample_size=None,\n",
    "                          random_state=None, **kwds):\n",
    "    if sample_size is not None:\n",
    "        random_state = check_random_state(random_state)\n",
    "        indices = random_state.permutation(X.shape[0])[:sample_size]\n",
    "        X, labels = X[indices], labels[indices]          \n",
    "    return np.mean(silhouette_samples(X, labels, metric=metric, **kwds))\n",
    "\n",
    "\n",
    "def silhouette_samples(X, labels, metric='euclidean', **kwds):\n",
    "    metric = distance_metrics()[metric]\n",
    "    n = labels.shape[0]\n",
    "    \n",
    "    A = np.array([_intra_cluster_distance(X, labels, metric, i)\n",
    "                  for i in range(n)])\n",
    "    B = np.array([_nearest_cluster_distance(X, labels, metric, i)\n",
    "                  for i in range(n)])\n",
    "    sil_samples = (B - A) / np.maximum(A, B)\n",
    "    return np.nan_to_num(sil_samples)\n",
    "\n",
    "def metric1(x1, x2):\n",
    "    return  math.sqrt(((x1-x2)**2).sum())\n",
    "\n",
    "def _intra_cluster_distance(X, labels, metric, i):\n",
    "    indices = np.where(labels == labels[i])[0]\n",
    "    if len(indices) == 0:\n",
    "        return 0.\n",
    "    \n",
    "    a = np.mean([metric1(X[i], X[j]) for j in indices if not i == j])\n",
    "    return a\n",
    "\n",
    "\n",
    "def _nearest_cluster_distance(X, labels, metric, i):\n",
    "    label = labels[i]\n",
    "    labels = labels.reshape(labels.shape[0],)\n",
    "    b = np.min(\n",
    "            [np.mean(\n",
    "                [metric1(X[i], X[j]) for j in np.where(labels == cur_label)[0]]\n",
    "            ) for cur_label in set(labels) if not cur_label == label])\n",
    "    return b\n",
    "\n"
   ]
  },
  {
   "cell_type": "code",
   "execution_count": 122,
   "metadata": {},
   "outputs": [],
   "source": [
    "predictions = np.array(predictions).reshape(-1,1)"
   ]
  },
  {
   "cell_type": "code",
   "execution_count": 123,
   "metadata": {},
   "outputs": [
    {
     "data": {
      "text/plain": [
       "(6, 1)"
      ]
     },
     "execution_count": 123,
     "metadata": {},
     "output_type": "execute_result"
    }
   ],
   "source": [
    "predictions.shape"
   ]
  },
  {
   "cell_type": "code",
   "execution_count": 124,
   "metadata": {},
   "outputs": [
    {
     "name": "stdout",
     "output_type": "stream",
     "text": [
      "0.7479566620911685\n"
     ]
    }
   ],
   "source": [
    "print(silhouette_score(x,predictions))"
   ]
  },
  {
   "cell_type": "markdown",
   "metadata": {},
   "source": [
    "# IMPLEMENTING CLUSTER CLASS"
   ]
  },
  {
   "cell_type": "code",
   "execution_count": 125,
   "metadata": {},
   "outputs": [],
   "source": [
    "class cluster:\n",
    "    def __init__(self,k = 2, max_iter = 100):\n",
    "        print(\"constructor\")\n",
    "        self.k = k\n",
    "        self.max_iter = max_iter\n",
    "    \n",
    "    def fit(self, data):\n",
    "        self.means = [] #list of means\n",
    "        for i in range(self.k):\n",
    "            self.means.append(data[i])\n",
    "        for i in range(self.max_iter):\n",
    "            clusters = []\n",
    "            for j in range(self.k):\n",
    "                clusters.append([])\n",
    "            #assign the data point to the cluster they belong to \n",
    "            for point in data:\n",
    "                #find distance to all_mean values\n",
    "                distances = [((m - point)**2).sum() for m in self.means]\n",
    "                #find the min distance\n",
    "                minDistance = min(distances)\n",
    "                #find the mean for which we got the min_distance --- l\n",
    "                l = distances.index(minDistance)\n",
    "                #add this point to cluster l\n",
    "                clusters[l].append(point)\n",
    "            #update new_means\n",
    "            change = False\n",
    "            for j in range(self.k):\n",
    "                new_mean = np.average(clusters[j], axis = 0)\n",
    "                if not np.array_equal(self.means[j],new_mean):\n",
    "                    change = True\n",
    "                self.means[j] = new_mean\n",
    "            if not change:\n",
    "                break  \n",
    "    \n",
    "    def predict(self, test_data):\n",
    "        predictions = []\n",
    "        for point in test_data:\n",
    "                #find distance to all_mean values\n",
    "                distances = [((m - point)**2).sum() for m in self.means]\n",
    "                #find the min distance\n",
    "                minDistance = min(distances)\n",
    "                #find the mean for which we got the min_distance --- l\n",
    "                l = distances.index(minDistance)\n",
    "                #add this point to cluster l\n",
    "                predictions.append(l)  \n",
    "        return predictions "
   ]
  },
  {
   "cell_type": "code",
   "execution_count": 126,
   "metadata": {},
   "outputs": [
    {
     "name": "stdout",
     "output_type": "stream",
     "text": [
      "constructor\n"
     ]
    }
   ],
   "source": [
    "k_means = cluster(2,10)"
   ]
  },
  {
   "cell_type": "code",
   "execution_count": 127,
   "metadata": {},
   "outputs": [],
   "source": [
    "k_means.fit(x)"
   ]
  },
  {
   "cell_type": "code",
   "execution_count": 128,
   "metadata": {},
   "outputs": [
    {
     "data": {
      "text/plain": [
       "[0, 0, 1, 1, 0, 1]"
      ]
     },
     "execution_count": 128,
     "metadata": {},
     "output_type": "execute_result"
    }
   ],
   "source": [
    "k_means.predict(x)"
   ]
  },
  {
   "cell_type": "code",
   "execution_count": 129,
   "metadata": {},
   "outputs": [
    {
     "data": {
      "text/plain": [
       "[array([1.16666667, 1.46666667]), array([7.33333333, 9.        ])]"
      ]
     },
     "execution_count": 129,
     "metadata": {},
     "output_type": "execute_result"
    }
   ],
   "source": [
    "k_means.means"
   ]
  },
  {
   "cell_type": "code",
   "execution_count": 130,
   "metadata": {},
   "outputs": [],
   "source": [
    "import pandas as pd"
   ]
  },
  {
   "cell_type": "code",
   "execution_count": 131,
   "metadata": {},
   "outputs": [],
   "source": [
    "cr = pd.read_csv('crime2.csv')"
   ]
  },
  {
   "cell_type": "code",
   "execution_count": 132,
   "metadata": {},
   "outputs": [
    {
     "data": {
      "text/html": [
       "<div>\n",
       "<style scoped>\n",
       "    .dataframe tbody tr th:only-of-type {\n",
       "        vertical-align: middle;\n",
       "    }\n",
       "\n",
       "    .dataframe tbody tr th {\n",
       "        vertical-align: top;\n",
       "    }\n",
       "\n",
       "    .dataframe thead th {\n",
       "        text-align: right;\n",
       "    }\n",
       "</style>\n",
       "<table border=\"1\" class=\"dataframe\">\n",
       "  <thead>\n",
       "    <tr style=\"text-align: right;\">\n",
       "      <th></th>\n",
       "      <th>localities</th>\n",
       "      <th>assassination</th>\n",
       "      <th>theft</th>\n",
       "      <th>gang_rape</th>\n",
       "      <th>burglary</th>\n",
       "      <th>rape</th>\n",
       "      <th>assualt_attack</th>\n",
       "      <th>harassment(sexual)</th>\n",
       "      <th>crime_total</th>\n",
       "      <th>area_total</th>\n",
       "      <th>longitude</th>\n",
       "      <th>latatitude</th>\n",
       "      <th>area/1000000</th>\n",
       "      <th>crime_total/area</th>\n",
       "    </tr>\n",
       "  </thead>\n",
       "  <tbody>\n",
       "    <tr>\n",
       "      <th>0</th>\n",
       "      <td>JAFFARPUR KALAN</td>\n",
       "      <td>4</td>\n",
       "      <td>724</td>\n",
       "      <td>2</td>\n",
       "      <td>41</td>\n",
       "      <td>11</td>\n",
       "      <td>11</td>\n",
       "      <td>6</td>\n",
       "      <td>799</td>\n",
       "      <td>7.048170e+07</td>\n",
       "      <td>76.91555</td>\n",
       "      <td>28.59572</td>\n",
       "      <td>70.481699</td>\n",
       "      <td>11.336276</td>\n",
       "    </tr>\n",
       "    <tr>\n",
       "      <th>1</th>\n",
       "      <td>MUNDKA</td>\n",
       "      <td>3</td>\n",
       "      <td>244</td>\n",
       "      <td>1</td>\n",
       "      <td>14</td>\n",
       "      <td>5</td>\n",
       "      <td>12</td>\n",
       "      <td>4</td>\n",
       "      <td>270</td>\n",
       "      <td>4.859457e+07</td>\n",
       "      <td>76.96085</td>\n",
       "      <td>28.67042</td>\n",
       "      <td>48.594571</td>\n",
       "      <td>5.556176</td>\n",
       "    </tr>\n",
       "    <tr>\n",
       "      <th>2</th>\n",
       "      <td>BABA HARI DAS NAGAR</td>\n",
       "      <td>4</td>\n",
       "      <td>414</td>\n",
       "      <td>2</td>\n",
       "      <td>70</td>\n",
       "      <td>9</td>\n",
       "      <td>18</td>\n",
       "      <td>8</td>\n",
       "      <td>512</td>\n",
       "      <td>2.899435e+07</td>\n",
       "      <td>76.96681</td>\n",
       "      <td>28.62867</td>\n",
       "      <td>28.994346</td>\n",
       "      <td>17.658615</td>\n",
       "    </tr>\n",
       "    <tr>\n",
       "      <th>3</th>\n",
       "      <td>NAJAFGARH</td>\n",
       "      <td>4</td>\n",
       "      <td>900</td>\n",
       "      <td>1</td>\n",
       "      <td>60</td>\n",
       "      <td>4</td>\n",
       "      <td>10</td>\n",
       "      <td>10</td>\n",
       "      <td>973</td>\n",
       "      <td>8.473809e+06</td>\n",
       "      <td>76.98269</td>\n",
       "      <td>28.60975</td>\n",
       "      <td>8.473809</td>\n",
       "      <td>114.824393</td>\n",
       "    </tr>\n",
       "    <tr>\n",
       "      <th>4</th>\n",
       "      <td>CHHAWLA</td>\n",
       "      <td>4</td>\n",
       "      <td>485</td>\n",
       "      <td>1</td>\n",
       "      <td>65</td>\n",
       "      <td>6</td>\n",
       "      <td>16</td>\n",
       "      <td>11</td>\n",
       "      <td>575</td>\n",
       "      <td>2.632166e+07</td>\n",
       "      <td>76.99466</td>\n",
       "      <td>28.58691</td>\n",
       "      <td>26.321658</td>\n",
       "      <td>21.845129</td>\n",
       "    </tr>\n",
       "  </tbody>\n",
       "</table>\n",
       "</div>"
      ],
      "text/plain": [
       "            localities  assassination  theft  gang_rape  burglary  rape  \\\n",
       "0      JAFFARPUR KALAN              4    724          2        41    11   \n",
       "1               MUNDKA              3    244          1        14     5   \n",
       "2  BABA HARI DAS NAGAR              4    414          2        70     9   \n",
       "3            NAJAFGARH              4    900          1        60     4   \n",
       "4              CHHAWLA              4    485          1        65     6   \n",
       "\n",
       "   assualt_attack  harassment(sexual)  crime_total    area_total  longitude  \\\n",
       "0              11                   6          799  7.048170e+07   76.91555   \n",
       "1              12                   4          270  4.859457e+07   76.96085   \n",
       "2              18                   8          512  2.899435e+07   76.96681   \n",
       "3              10                  10          973  8.473809e+06   76.98269   \n",
       "4              16                  11          575  2.632166e+07   76.99466   \n",
       "\n",
       "   latatitude  area/1000000  crime_total/area  \n",
       "0    28.59572     70.481699         11.336276  \n",
       "1    28.67042     48.594571          5.556176  \n",
       "2    28.62867     28.994346         17.658615  \n",
       "3    28.60975      8.473809        114.824393  \n",
       "4    28.58691     26.321658         21.845129  "
      ]
     },
     "execution_count": 132,
     "metadata": {},
     "output_type": "execute_result"
    }
   ],
   "source": [
    "cr.head()"
   ]
  },
  {
   "cell_type": "code",
   "execution_count": 254,
   "metadata": {},
   "outputs": [],
   "source": [
    "data = cr.iloc[:,[1,2,3,4,5,6,7,13]].values"
   ]
  },
  {
   "cell_type": "code",
   "execution_count": 290,
   "metadata": {},
   "outputs": [],
   "source": [
    "from sklearn.preprocessing import MinMaxScaler\n",
    "sc_X = MinMaxScaler()\n",
    "data = sc_X.fit_transform(data)"
   ]
  },
  {
   "cell_type": "code",
   "execution_count": 291,
   "metadata": {},
   "outputs": [
    {
     "data": {
      "text/plain": [
       "array([[0.16666667, 0.55032468, 0.16666667, 0.29133858, 0.25581395,\n",
       "        0.13432836, 0.125     , 0.00893937],\n",
       "       [0.08333333, 0.16071429, 0.        , 0.07874016, 0.11627907,\n",
       "        0.14925373, 0.075     , 0.00149898],\n",
       "       [0.16666667, 0.2987013 , 0.16666667, 0.51968504, 0.20930233,\n",
       "        0.23880597, 0.175     , 0.01707776],\n",
       "       [0.16666667, 0.69318182, 0.        , 0.44094488, 0.09302326,\n",
       "        0.11940299, 0.225     , 0.14215369],\n",
       "       [0.16666667, 0.35633117, 0.        , 0.48031496, 0.13953488,\n",
       "        0.20895522, 0.25      , 0.02246682]])"
      ]
     },
     "execution_count": 291,
     "metadata": {},
     "output_type": "execute_result"
    }
   ],
   "source": [
    "data[0:5]"
   ]
  },
  {
   "cell_type": "code",
   "execution_count": 292,
   "metadata": {},
   "outputs": [],
   "source": [
    "from sklearn.cluster import KMeans "
   ]
  },
  {
   "cell_type": "code",
   "execution_count": 293,
   "metadata": {},
   "outputs": [],
   "source": [
    "clf = KMeans(n_clusters = 5,init = 'k-means++')"
   ]
  },
  {
   "cell_type": "code",
   "execution_count": 294,
   "metadata": {},
   "outputs": [
    {
     "data": {
      "text/plain": [
       "KMeans(algorithm='auto', copy_x=True, init='k-means++', max_iter=300,\n",
       "    n_clusters=5, n_init=10, n_jobs=1, precompute_distances='auto',\n",
       "    random_state=None, tol=0.0001, verbose=0)"
      ]
     },
     "execution_count": 294,
     "metadata": {},
     "output_type": "execute_result"
    }
   ],
   "source": [
    "clf.fit(data)"
   ]
  },
  {
   "cell_type": "code",
   "execution_count": 295,
   "metadata": {},
   "outputs": [
    {
     "data": {
      "text/html": [
       "<div>\n",
       "<style scoped>\n",
       "    .dataframe tbody tr th:only-of-type {\n",
       "        vertical-align: middle;\n",
       "    }\n",
       "\n",
       "    .dataframe tbody tr th {\n",
       "        vertical-align: top;\n",
       "    }\n",
       "\n",
       "    .dataframe thead th {\n",
       "        text-align: right;\n",
       "    }\n",
       "</style>\n",
       "<table border=\"1\" class=\"dataframe\">\n",
       "  <thead>\n",
       "    <tr style=\"text-align: right;\">\n",
       "      <th></th>\n",
       "      <th>localities</th>\n",
       "      <th>assassination</th>\n",
       "      <th>theft</th>\n",
       "      <th>gang_rape</th>\n",
       "      <th>burglary</th>\n",
       "      <th>rape</th>\n",
       "      <th>assualt_attack</th>\n",
       "      <th>harassment(sexual)</th>\n",
       "      <th>crime_total</th>\n",
       "      <th>area_total</th>\n",
       "      <th>longitude</th>\n",
       "      <th>latatitude</th>\n",
       "      <th>area/1000000</th>\n",
       "      <th>crime_total/area</th>\n",
       "    </tr>\n",
       "  </thead>\n",
       "  <tbody>\n",
       "    <tr>\n",
       "      <th>0</th>\n",
       "      <td>JAFFARPUR KALAN</td>\n",
       "      <td>4</td>\n",
       "      <td>724</td>\n",
       "      <td>2</td>\n",
       "      <td>41</td>\n",
       "      <td>11</td>\n",
       "      <td>11</td>\n",
       "      <td>6</td>\n",
       "      <td>799</td>\n",
       "      <td>7.048170e+07</td>\n",
       "      <td>76.91555</td>\n",
       "      <td>28.59572</td>\n",
       "      <td>70.481699</td>\n",
       "      <td>11.336276</td>\n",
       "    </tr>\n",
       "    <tr>\n",
       "      <th>1</th>\n",
       "      <td>MUNDKA</td>\n",
       "      <td>3</td>\n",
       "      <td>244</td>\n",
       "      <td>1</td>\n",
       "      <td>14</td>\n",
       "      <td>5</td>\n",
       "      <td>12</td>\n",
       "      <td>4</td>\n",
       "      <td>270</td>\n",
       "      <td>4.859457e+07</td>\n",
       "      <td>76.96085</td>\n",
       "      <td>28.67042</td>\n",
       "      <td>48.594571</td>\n",
       "      <td>5.556176</td>\n",
       "    </tr>\n",
       "    <tr>\n",
       "      <th>2</th>\n",
       "      <td>BABA HARI DAS NAGAR</td>\n",
       "      <td>4</td>\n",
       "      <td>414</td>\n",
       "      <td>2</td>\n",
       "      <td>70</td>\n",
       "      <td>9</td>\n",
       "      <td>18</td>\n",
       "      <td>8</td>\n",
       "      <td>512</td>\n",
       "      <td>2.899435e+07</td>\n",
       "      <td>76.96681</td>\n",
       "      <td>28.62867</td>\n",
       "      <td>28.994346</td>\n",
       "      <td>17.658615</td>\n",
       "    </tr>\n",
       "    <tr>\n",
       "      <th>3</th>\n",
       "      <td>NAJAFGARH</td>\n",
       "      <td>4</td>\n",
       "      <td>900</td>\n",
       "      <td>1</td>\n",
       "      <td>60</td>\n",
       "      <td>4</td>\n",
       "      <td>10</td>\n",
       "      <td>10</td>\n",
       "      <td>973</td>\n",
       "      <td>8.473809e+06</td>\n",
       "      <td>76.98269</td>\n",
       "      <td>28.60975</td>\n",
       "      <td>8.473809</td>\n",
       "      <td>114.824393</td>\n",
       "    </tr>\n",
       "    <tr>\n",
       "      <th>4</th>\n",
       "      <td>CHHAWLA</td>\n",
       "      <td>4</td>\n",
       "      <td>485</td>\n",
       "      <td>1</td>\n",
       "      <td>65</td>\n",
       "      <td>6</td>\n",
       "      <td>16</td>\n",
       "      <td>11</td>\n",
       "      <td>575</td>\n",
       "      <td>2.632166e+07</td>\n",
       "      <td>76.99466</td>\n",
       "      <td>28.58691</td>\n",
       "      <td>26.321658</td>\n",
       "      <td>21.845129</td>\n",
       "    </tr>\n",
       "  </tbody>\n",
       "</table>\n",
       "</div>"
      ],
      "text/plain": [
       "            localities  assassination  theft  gang_rape  burglary  rape  \\\n",
       "0      JAFFARPUR KALAN              4    724          2        41    11   \n",
       "1               MUNDKA              3    244          1        14     5   \n",
       "2  BABA HARI DAS NAGAR              4    414          2        70     9   \n",
       "3            NAJAFGARH              4    900          1        60     4   \n",
       "4              CHHAWLA              4    485          1        65     6   \n",
       "\n",
       "   assualt_attack  harassment(sexual)  crime_total    area_total  longitude  \\\n",
       "0              11                   6          799  7.048170e+07   76.91555   \n",
       "1              12                   4          270  4.859457e+07   76.96085   \n",
       "2              18                   8          512  2.899435e+07   76.96681   \n",
       "3              10                  10          973  8.473809e+06   76.98269   \n",
       "4              16                  11          575  2.632166e+07   76.99466   \n",
       "\n",
       "   latatitude  area/1000000  crime_total/area  \n",
       "0    28.59572     70.481699         11.336276  \n",
       "1    28.67042     48.594571          5.556176  \n",
       "2    28.62867     28.994346         17.658615  \n",
       "3    28.60975      8.473809        114.824393  \n",
       "4    28.58691     26.321658         21.845129  "
      ]
     },
     "execution_count": 295,
     "metadata": {},
     "output_type": "execute_result"
    }
   ],
   "source": [
    "cr.head()"
   ]
  },
  {
   "cell_type": "code",
   "execution_count": 296,
   "metadata": {
    "scrolled": true
   },
   "outputs": [
    {
     "data": {
      "text/plain": [
       "array([[0.37121212, 0.65429457, 0.3030303 , 0.44738726, 0.55179704,\n",
       "        0.66621438, 0.40227273, 0.56691149],\n",
       "       [0.12984496, 0.12843552, 0.03100775, 0.10803882, 0.12925906,\n",
       "        0.10482471, 0.11104651, 0.0976565 ],\n",
       "       [0.50757576, 0.23199528, 0.35353535, 0.23120974, 0.41155743,\n",
       "        0.36770692, 0.2780303 , 0.17481601],\n",
       "       [0.66203704, 0.37802128, 0.12037037, 0.56036745, 0.32299742,\n",
       "        0.31343284, 0.41388889, 0.32430609],\n",
       "       [0.19125683, 0.34742921, 0.13934426, 0.29250032, 0.24857034,\n",
       "        0.26792268, 0.23360656, 0.21105425]])"
      ]
     },
     "execution_count": 296,
     "metadata": {},
     "output_type": "execute_result"
    }
   ],
   "source": [
    "clf.cluster_centers_"
   ]
  },
  {
   "cell_type": "code",
   "execution_count": 297,
   "metadata": {},
   "outputs": [],
   "source": [
    "safety = []\n",
    "c = 0\n",
    "for li in clf.cluster_centers_:\n",
    "    sum = 0;\n",
    "    sum += li[2] + li[4] + li[6]\n",
    "    safety.append((sum,c))\n",
    "    c += 1\n",
    "safety = sorted(safety)"
   ]
  },
  {
   "cell_type": "code",
   "execution_count": 298,
   "metadata": {},
   "outputs": [
    {
     "data": {
      "text/plain": [
       "[(0.2713133225166756, 1),\n",
       " (0.6215211589782691, 4),\n",
       " (0.8572566752799311, 3),\n",
       " (1.0431230913789054, 2),\n",
       " (1.2571000704721635, 0)]"
      ]
     },
     "execution_count": 298,
     "metadata": {},
     "output_type": "execute_result"
    }
   ],
   "source": [
    "safety"
   ]
  },
  {
   "cell_type": "code",
   "execution_count": 299,
   "metadata": {},
   "outputs": [],
   "source": [
    "dict1 = {}\n",
    "m = 0\n",
    "for s in safety:\n",
    "    dict1[s[1]] = m \n",
    "    m += 1"
   ]
  },
  {
   "cell_type": "code",
   "execution_count": 300,
   "metadata": {},
   "outputs": [
    {
     "data": {
      "text/plain": [
       "{1: 0, 4: 1, 3: 2, 2: 3, 0: 4}"
      ]
     },
     "execution_count": 300,
     "metadata": {},
     "output_type": "execute_result"
    }
   ],
   "source": [
    "dict1"
   ]
  },
  {
   "cell_type": "code",
   "execution_count": 301,
   "metadata": {},
   "outputs": [],
   "source": [
    "clust_pred = np.array(clf.fit_predict(data)).reshape(-1,1)"
   ]
  },
  {
   "cell_type": "markdown",
   "metadata": {},
   "source": [
    "## silhoutee score using cluster 1 algorithm"
   ]
  },
  {
   "cell_type": "code",
   "execution_count": 302,
   "metadata": {},
   "outputs": [
    {
     "name": "stdout",
     "output_type": "stream",
     "text": [
      "0.18195047835054512\n"
     ]
    }
   ],
   "source": [
    "print(silhouette_score(data,clust_pred))"
   ]
  },
  {
   "cell_type": "markdown",
   "metadata": {},
   "source": [
    "## silhoutee score using agglomerative clustering algorithm"
   ]
  },
  {
   "cell_type": "code",
   "execution_count": 303,
   "metadata": {},
   "outputs": [],
   "source": [
    "from sklearn.cluster import AgglomerativeClustering\n",
    "clf1 = AgglomerativeClustering(n_clusters = 5)"
   ]
  },
  {
   "cell_type": "code",
   "execution_count": 304,
   "metadata": {},
   "outputs": [
    {
     "name": "stdout",
     "output_type": "stream",
     "text": [
      "0.16118537889676013\n"
     ]
    }
   ],
   "source": [
    "predictions = clf1.fit_predict(data)\n",
    "print(silhouette_score(data,predictions))"
   ]
  },
  {
   "cell_type": "code",
   "execution_count": 305,
   "metadata": {},
   "outputs": [
    {
     "data": {
      "text/plain": [
       "array([1, 3, 4, 2, 4, 1, 0, 1, 3, 1, 1, 3, 0, 0, 4])"
      ]
     },
     "execution_count": 305,
     "metadata": {},
     "output_type": "execute_result"
    }
   ],
   "source": [
    "clust_pred = clust_pred.reshape(len(clust_pred),)\n",
    "clust_pred[10:25]"
   ]
  },
  {
   "cell_type": "code",
   "execution_count": 306,
   "metadata": {},
   "outputs": [],
   "source": [
    "mag_pred = clust_pred.copy()\n",
    "for i in range(len(clust_pred)):\n",
    "    mag_pred[i] = dict1[clust_pred[i]]"
   ]
  },
  {
   "cell_type": "code",
   "execution_count": 307,
   "metadata": {},
   "outputs": [
    {
     "data": {
      "text/plain": [
       "array([0, 2, 0, 0, 0, 0, 2, 1, 4, 1, 0, 2, 1, 3, 1, 0, 4, 0, 2, 0, 0, 2,\n",
       "       4, 4, 1, 2, 2, 4, 0, 4, 0, 0, 4, 2, 4, 1, 0, 0, 0, 0, 4, 2, 2, 1,\n",
       "       3, 4, 0, 1, 2, 3, 0, 4, 3, 1, 0, 2, 4, 1, 0, 0, 4, 0, 0, 2, 1, 0,\n",
       "       0, 0, 0, 1, 0, 0, 0, 2, 2, 2, 0, 0, 0, 0, 2, 2, 1, 4, 3, 2, 4, 1,\n",
       "       4, 0, 0, 1, 2, 0, 1, 0, 0, 0, 4, 0, 1, 3, 4, 0, 4, 2, 2, 0, 2, 2,\n",
       "       2, 1, 1, 0, 2, 2, 2, 3, 2, 2, 4, 0, 2, 4, 2, 2, 3, 0, 4, 0, 2, 1,\n",
       "       0, 2, 2, 4, 4, 2, 2, 4, 0, 2, 3, 0, 0, 4, 0, 4, 1, 0, 4, 4, 0, 2,\n",
       "       4, 0, 2, 2, 4, 3, 1, 2, 2, 2, 0, 2])"
      ]
     },
     "execution_count": 307,
     "metadata": {},
     "output_type": "execute_result"
    }
   ],
   "source": [
    "mag_pred"
   ]
  },
  {
   "cell_type": "code",
   "execution_count": 308,
   "metadata": {},
   "outputs": [
    {
     "data": {
      "text/plain": [
       "array([0, 2, 1, 3, 1, 0, 4, 0, 2, 0, 0, 2, 4, 4, 1])"
      ]
     },
     "execution_count": 308,
     "metadata": {},
     "output_type": "execute_result"
    }
   ],
   "source": [
    "mag_pred[10:25]"
   ]
  },
  {
   "cell_type": "code",
   "execution_count": 309,
   "metadata": {},
   "outputs": [],
   "source": [
    "from sklearn.cluster import DBSCAN"
   ]
  },
  {
   "cell_type": "code",
   "execution_count": 310,
   "metadata": {},
   "outputs": [],
   "source": [
    "test = data.copy()"
   ]
  },
  {
   "cell_type": "code",
   "execution_count": 311,
   "metadata": {},
   "outputs": [
    {
     "data": {
      "text/plain": [
       "PCA(copy=True, iterated_power='auto', n_components=None, random_state=None,\n",
       "  svd_solver='auto', tol=0.0, whiten=False)"
      ]
     },
     "execution_count": 311,
     "metadata": {},
     "output_type": "execute_result"
    }
   ],
   "source": [
    "from sklearn.decomposition import PCA\n",
    "pca = PCA()\n",
    "pca.fit(test)"
   ]
  },
  {
   "cell_type": "code",
   "execution_count": 312,
   "metadata": {},
   "outputs": [
    {
     "data": {
      "text/plain": [
       "array([0.12235414, 0.04633885, 0.04044539, 0.03162978, 0.02584815,\n",
       "       0.0203532 , 0.01300391, 0.00824677])"
      ]
     },
     "execution_count": 312,
     "metadata": {},
     "output_type": "execute_result"
    }
   ],
   "source": [
    "pca.explained_variance_"
   ]
  },
  {
   "cell_type": "code",
   "execution_count": 313,
   "metadata": {},
   "outputs": [],
   "source": [
    "pca = PCA(n_components = 2,whiten = True)\n",
    "transformed_data = pca.fit_transform(test)"
   ]
  },
  {
   "cell_type": "code",
   "execution_count": 314,
   "metadata": {},
   "outputs": [
    {
     "data": {
      "image/png": "[encoded data removed]",
      "text/plain": [
       "<Figure size 432x288 with 1 Axes>"
      ]
     },
     "metadata": {},
     "output_type": "display_data"
    }
   ],
   "source": [
    "plt.scatter(transformed_data[:,0],transformed_data[:,1])\n",
    "plt.show()"
   ]
  },
  {
   "cell_type": "code",
   "execution_count": 329,
   "metadata": {},
   "outputs": [],
   "source": [
    "test_clf = KMeans(n_clusters =5)"
   ]
  },
  {
   "cell_type": "code",
   "execution_count": 330,
   "metadata": {},
   "outputs": [
    {
     "data": {
      "text/plain": [
       "KMeans(algorithm='auto', copy_x=True, init='k-means++', max_iter=300,\n",
       "    n_clusters=5, n_init=10, n_jobs=1, precompute_distances='auto',\n",
       "    random_state=None, tol=0.0001, verbose=0)"
      ]
     },
     "execution_count": 330,
     "metadata": {},
     "output_type": "execute_result"
    }
   ],
   "source": [
    "test_clf.fit(transformed_data)"
   ]
  },
  {
   "cell_type": "code",
   "execution_count": 331,
   "metadata": {},
   "outputs": [],
   "source": [
    "test_pred = np.array(test_clf.fit_predict(test)).reshape(-1,1)"
   ]
  },
  {
   "cell_type": "code",
   "execution_count": 332,
   "metadata": {},
   "outputs": [
    {
     "data": {
      "image/png": "[encoded data removed]",
      "text/plain": [
       "<Figure size 432x288 with 1 Axes>"
      ]
     },
     "metadata": {},
     "output_type": "display_data"
    }
   ],
   "source": [
    "for i in range(166):\n",
    "    if(test_pred[i] == 0):\n",
    "        plt.scatter(transformed_data[i,0],transformed_data[i,1],color = 'red')\n",
    "    elif(test_pred[i] == 1):\n",
    "        plt.scatter(transformed_data[i,0],transformed_data[i,1],color = 'blue')\n",
    "    elif(test_pred[i] == 2):\n",
    "        plt.scatter(transformed_data[i,0],transformed_data[i,1],color = 'green')\n",
    "    elif(test_pred[i] == 3):\n",
    "        plt.scatter(transformed_data[i,0],transformed_data[i,1],color = 'violet')\n",
    "    elif(test_pred[i] == 4):\n",
    "        plt.scatter(transformed_data[i,0],transformed_data[i,1],color = 'yellow')"
   ]
  },
  {
   "cell_type": "code",
   "execution_count": 333,
   "metadata": {},
   "outputs": [],
   "source": [
    "x = np.array([[1,2], [1.5,1.8], [5,6], [6,6], [1,3], [2,2], [2,1], [6,5], [5,5],[10,10],[9,8],[9,10],[10,9]])"
   ]
  },
  {
   "cell_type": "code",
   "execution_count": 334,
   "metadata": {},
   "outputs": [
    {
     "data": {
      "image/png": "[encoded data removed]",
      "text/plain": [
       "<Figure size 432x288 with 1 Axes>"
      ]
     },
     "metadata": {},
     "output_type": "display_data"
    }
   ],
   "source": [
    "plt.scatter(x[:,0],x[:,1])\n",
    "plt.show()"
   ]
  },
  {
   "cell_type": "code",
   "execution_count": 335,
   "metadata": {},
   "outputs": [],
   "source": [
    "from sklearn.cluster import KMeans"
   ]
  },
  {
   "cell_type": "code",
   "execution_count": 336,
   "metadata": {},
   "outputs": [],
   "source": [
    "clf = KMeans(n_clusters = 3)"
   ]
  },
  {
   "cell_type": "code",
   "execution_count": 337,
   "metadata": {},
   "outputs": [],
   "source": [
    "pred = clf.fit_predict(x)"
   ]
  },
  {
   "cell_type": "code",
   "execution_count": 338,
   "metadata": {},
   "outputs": [
    {
     "data": {
      "image/png": "[encoded data removed]",
      "text/plain": [
       "<Figure size 432x288 with 1 Axes>"
      ]
     },
     "metadata": {},
     "output_type": "display_data"
    }
   ],
   "source": [
    "for i in range(13):\n",
    "    if(pred[i] == 0):\n",
    "        plt.scatter(x[i,0],x[i,1],color = 'red')\n",
    "    elif(pred[i] == 1):\n",
    "        plt.scatter(x[i,0],x[i,1],color = 'blue')\n",
    "    elif(pred[i] == 2):\n",
    "        plt.scatter(x[i,0],x[i,1],color = 'green')"
   ]
  }
 ],
 "metadata": {
  "kernelspec": {
   "display_name": "Python 3",
   "language": "python",
   "name": "python3"
  },
  "language_info": {
   "codemirror_mode": {
    "name": "ipython",
    "version": 3
   },
   "file_extension": ".py",
   "mimetype": "text/x-python",
   "name": "python",
   "nbconvert_exporter": "python",
   "pygments_lexer": "ipython3",
   "version": "3.6.5"
  }
 },
 "nbformat": 4,
 "nbformat_minor": 2
}
