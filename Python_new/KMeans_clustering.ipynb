{
 "cells": [
  {
   "cell_type": "code",
   "execution_count": 57,
   "metadata": {},
   "outputs": [],
   "source": [
    "import numpy as np\n",
    "from matplotlib import pyplot as plt\n",
    "from sklearn.utils import check_random_state\n",
    "from sklearn.metrics.pairwise import distance_metrics\n",
    "import math"
   ]
  },
  {
   "cell_type": "code",
   "execution_count": 58,
   "metadata": {},
   "outputs": [],
   "source": [
    "x = np.array([[1,2], [1.5,1.8], [5,8], [8,8], [1,0.6], [9,11]])"
   ]
  },
  {
   "cell_type": "code",
   "execution_count": 59,
   "metadata": {
    "scrolled": true
   },
   "outputs": [
    {
     "data": {
      "image/png": "[encoded data removed]",
      "text/plain": [
       "<Figure size 432x288 with 1 Axes>"
      ]
     },
     "metadata": {},
     "output_type": "display_data"
    }
   ],
   "source": [
    "plt.scatter(x[:,0],x[:,1])\n",
    "plt.show()"
   ]
  },
  {
   "cell_type": "code",
   "execution_count": 60,
   "metadata": {},
   "outputs": [],
   "source": [
    "\n",
    "def min_distance_cluster(point, means, k):\n",
    "    min_distance = 0\n",
    "    for i in range(k):\n",
    "        euc_distance = ((means[i] - point)**2).sum()\n",
    "        if euc_distance < min_distance :\n",
    "            min_distance = euc_distance\n",
    "            cluster = i\n",
    "    return cluster        "
   ]
  },
  {
   "cell_type": "code",
   "execution_count": 61,
   "metadata": {},
   "outputs": [],
   "source": [
    "def fit(data, k = 2, max_iter = 100):\n",
    "    means = [] #list of means\n",
    "    for i in range(k):\n",
    "        means.append(data[i])\n",
    "    \n",
    "    for i in range(max_iter):\n",
    "        clusters = []\n",
    "        for j in range(k):\n",
    "            clusters.append([])\n",
    "        #assign the data point to the cluster they belong to \n",
    "        for point in data:\n",
    "            #find distance to all_mean values\n",
    "            distances = [((m - point)**2).sum() for m in means]\n",
    "            #find the min distance\n",
    "            minDistance = min(distances)\n",
    "            #find the mean for which we got the min_distance --- l\n",
    "            l = distances.index(minDistance)\n",
    "            #add this point to cluster l\n",
    "            clusters[l].append(point)\n",
    "            \n",
    "        #update new_means\n",
    "        change = False\n",
    "        for j in range(k):\n",
    "            new_mean = np.average(clusters[j], axis = 0)\n",
    "            if not np.array_equal(means[j],new_mean):\n",
    "                change = True\n",
    "            means[j] = new_mean\n",
    "        if not change:\n",
    "            break\n",
    "    return means         "
   ]
  },
  {
   "cell_type": "code",
   "execution_count": 62,
   "metadata": {},
   "outputs": [],
   "source": [
    "def predict(test_data,means):\n",
    "    predictions = []\n",
    "    for point in test_data:\n",
    "            #find distance to all_mean values\n",
    "            distances = [((m - point)**2).sum() for m in means]\n",
    "            #find the min distance\n",
    "            minDistance = min(distances)\n",
    "            #find the mean for which we got the min_distance --- l\n",
    "            l = distances.index(minDistance)\n",
    "            #add this point to cluster l\n",
    "            predictions.append(l)  \n",
    "    return predictions  \n",
    "def mean(sil_samples):\n",
    "    if(np.mean(sil_samples) > 0.4):\n",
    "        return np.mean(sil_samples)\n",
    "    else:\n",
    "        return np.mean(sil_samples)"
   ]
  },
  {
   "cell_type": "code",
   "execution_count": 63,
   "metadata": {},
   "outputs": [],
   "source": [
    "means = fit(x)"
   ]
  },
  {
   "cell_type": "code",
   "execution_count": 64,
   "metadata": {},
   "outputs": [
    {
     "data": {
      "text/plain": [
       "[0, 0, 1, 1, 0, 1]"
      ]
     },
     "execution_count": 64,
     "metadata": {},
     "output_type": "execute_result"
    }
   ],
   "source": [
    "predictions = predict(x,means)\n",
    "predictions"
   ]
  },
  {
   "cell_type": "markdown",
   "metadata": {},
   "source": [
    "# Silhouette score"
   ]
  },
  {
   "cell_type": "code",
   "execution_count": 65,
   "metadata": {},
   "outputs": [],
   "source": [
    "def silhouette_score(X, labels, metric='euclidean', sample_size=None,\n",
    "                          random_state=None, **kwds):\n",
    "    if sample_size is not None:\n",
    "        random_state = check_random_state(random_state)\n",
    "        indices = random_state.permutation(X.shape[0])[:sample_size]\n",
    "        X, labels = X[indices], labels[indices]          \n",
    "    return mean(silhouette_samples(X, labels, metric=metric, **kwds))\n",
    "\n",
    "\n",
    "def silhouette_samples(X, labels, metric='euclidean', **kwds):\n",
    "    metric = distance_metrics()[metric]\n",
    "    n = labels.shape[0]\n",
    "    \n",
    "    A = np.array([_intra_cluster_distance(X, labels, metric, i)\n",
    "                  for i in range(n)])\n",
    "    B = np.array([_nearest_cluster_distance(X, labels, metric, i)\n",
    "                  for i in range(n)])\n",
    "    sil_samples = (B - A) / np.maximum(A, B)\n",
    "    return np.nan_to_num(sil_samples)\n",
    "\n",
    "def metric1(x1, x2):\n",
    "    return  math.sqrt(((x1-x2)**2).sum())\n",
    "\n",
    "def _intra_cluster_distance(X, labels, metric, i):\n",
    "    indices = np.where(labels == labels[i])[0]\n",
    "    if len(indices) == 0:\n",
    "        return 0.\n",
    "    \n",
    "    a = np.mean([metric1(X[i], X[j]) for j in indices if not i == j])\n",
    "    return a\n",
    "\n",
    "\n",
    "def _nearest_cluster_distance(X, labels, metric, i):\n",
    "    label = labels[i]\n",
    "    labels = labels.reshape(labels.shape[0],)\n",
    "    b = np.min(\n",
    "            [np.mean(\n",
    "                [metric1(X[i], X[j]) for j in np.where(labels == cur_label)[0]]\n",
    "            ) for cur_label in set(labels) if not cur_label == label])\n",
    "    return b\n",
    "\n"
   ]
  },
  {
   "cell_type": "code",
   "execution_count": 66,
   "metadata": {},
   "outputs": [],
   "source": [
    "predictions = np.array(predictions).reshape(-1,1)"
   ]
  },
  {
   "cell_type": "code",
   "execution_count": 67,
   "metadata": {},
   "outputs": [
    {
     "data": {
      "text/plain": [
       "(6, 1)"
      ]
     },
     "execution_count": 67,
     "metadata": {},
     "output_type": "execute_result"
    }
   ],
   "source": [
    "predictions.shape"
   ]
  },
  {
   "cell_type": "code",
   "execution_count": 68,
   "metadata": {},
   "outputs": [
    {
     "name": "stdout",
     "output_type": "stream",
     "text": [
      "0.7479566620911685\n"
     ]
    }
   ],
   "source": [
    "print(silhouette_score(x,predictions))"
   ]
  },
  {
   "cell_type": "markdown",
   "metadata": {},
   "source": [
    "# IMPLEMENTING CLUSTER CLASS"
   ]
  },
  {
   "cell_type": "code",
   "execution_count": 69,
   "metadata": {},
   "outputs": [],
   "source": [
    "class cluster:\n",
    "    def __init__(self,k = 2, max_iter = 100):\n",
    "        print(\"constructor\")\n",
    "        self.k = k\n",
    "        self.max_iter = max_iter\n",
    "    \n",
    "    def fit(self, data):\n",
    "        self.means = [] #list of means\n",
    "        for i in range(self.k):\n",
    "            self.means.append(data[i])\n",
    "        for i in range(self.max_iter):\n",
    "            clusters = []\n",
    "            for j in range(self.k):\n",
    "                clusters.append([])\n",
    "            #assign the data point to the cluster they belong to \n",
    "            for point in data:\n",
    "                #find distance to all_mean values\n",
    "                distances = [((m - point)**2).sum() for m in self.means]\n",
    "                #find the min distance\n",
    "                minDistance = min(distances)\n",
    "                #find the mean for which we got the min_distance --- l\n",
    "                l = distances.index(minDistance)\n",
    "                #add this point to cluster l\n",
    "                clusters[l].append(point)\n",
    "            #update new_means\n",
    "            change = False\n",
    "            for j in range(self.k):\n",
    "                new_mean = np.average(clusters[j], axis = 0)\n",
    "                if not np.array_equal(self.means[j],new_mean):\n",
    "                    change = True\n",
    "                self.means[j] = new_mean\n",
    "            if not change:\n",
    "                break  \n",
    "    \n",
    "    def predict(self, test_data):\n",
    "        predictions = []\n",
    "        for point in test_data:\n",
    "                #find distance to all_mean values\n",
    "                distances = [((m - point)**2).sum() for m in self.means]\n",
    "                #find the min distance\n",
    "                minDistance = min(distances)\n",
    "                #find the mean for which we got the min_distance --- l\n",
    "                l = distances.index(minDistance)\n",
    "                #add this point to cluster l\n",
    "                predictions.append(l)  \n",
    "        return predictions "
   ]
  },
  {
   "cell_type": "code",
   "execution_count": 70,
   "metadata": {},
   "outputs": [
    {
     "name": "stdout",
     "output_type": "stream",
     "text": [
      "constructor\n"
     ]
    }
   ],
   "source": [
    "k_means = cluster(2,10)"
   ]
  },
  {
   "cell_type": "code",
   "execution_count": 71,
   "metadata": {},
   "outputs": [],
   "source": [
    "k_means.fit(x)"
   ]
  },
  {
   "cell_type": "code",
   "execution_count": 72,
   "metadata": {},
   "outputs": [
    {
     "data": {
      "text/plain": [
       "[0, 0, 1, 1, 0, 1]"
      ]
     },
     "execution_count": 72,
     "metadata": {},
     "output_type": "execute_result"
    }
   ],
   "source": [
    "k_means.predict(x)"
   ]
  },
  {
   "cell_type": "code",
   "execution_count": 73,
   "metadata": {},
   "outputs": [
    {
     "data": {
      "text/plain": [
       "[array([1.16666667, 1.46666667]), array([7.33333333, 9.        ])]"
      ]
     },
     "execution_count": 73,
     "metadata": {},
     "output_type": "execute_result"
    }
   ],
   "source": [
    "k_means.means"
   ]
  },
  {
   "cell_type": "code",
   "execution_count": 74,
   "metadata": {},
   "outputs": [],
   "source": [
    "import pandas as pd"
   ]
  },
  {
   "cell_type": "code",
   "execution_count": 75,
   "metadata": {},
   "outputs": [],
   "source": [
    "cr = pd.read_csv('crime2.csv')"
   ]
  },
  {
   "cell_type": "code",
   "execution_count": 76,
   "metadata": {},
   "outputs": [
    {
     "data": {
      "text/html": [
       "<div>\n",
       "<style scoped>\n",
       "    .dataframe tbody tr th:only-of-type {\n",
       "        vertical-align: middle;\n",
       "    }\n",
       "\n",
       "    .dataframe tbody tr th {\n",
       "        vertical-align: top;\n",
       "    }\n",
       "\n",
       "    .dataframe thead th {\n",
       "        text-align: right;\n",
       "    }\n",
       "</style>\n",
       "<table border=\"1\" class=\"dataframe\">\n",
       "  <thead>\n",
       "    <tr style=\"text-align: right;\">\n",
       "      <th></th>\n",
       "      <th>localities</th>\n",
       "      <th>assassination</th>\n",
       "      <th>theft</th>\n",
       "      <th>gang_rape</th>\n",
       "      <th>burglary</th>\n",
       "      <th>rape</th>\n",
       "      <th>assualt_attack</th>\n",
       "      <th>harassment(sexual)</th>\n",
       "      <th>crime_total</th>\n",
       "      <th>area_total</th>\n",
       "      <th>longitude</th>\n",
       "      <th>latatitude</th>\n",
       "      <th>area/1000000</th>\n",
       "      <th>crime_total/area</th>\n",
       "    </tr>\n",
       "  </thead>\n",
       "  <tbody>\n",
       "    <tr>\n",
       "      <th>0</th>\n",
       "      <td>JAFFARPUR KALAN</td>\n",
       "      <td>4</td>\n",
       "      <td>724</td>\n",
       "      <td>2</td>\n",
       "      <td>41</td>\n",
       "      <td>11</td>\n",
       "      <td>11</td>\n",
       "      <td>6</td>\n",
       "      <td>799</td>\n",
       "      <td>7.048170e+07</td>\n",
       "      <td>76.91555</td>\n",
       "      <td>28.59572</td>\n",
       "      <td>70.481699</td>\n",
       "      <td>11.336276</td>\n",
       "    </tr>\n",
       "    <tr>\n",
       "      <th>1</th>\n",
       "      <td>MUNDKA</td>\n",
       "      <td>3</td>\n",
       "      <td>244</td>\n",
       "      <td>1</td>\n",
       "      <td>14</td>\n",
       "      <td>5</td>\n",
       "      <td>12</td>\n",
       "      <td>4</td>\n",
       "      <td>270</td>\n",
       "      <td>4.859457e+07</td>\n",
       "      <td>76.96085</td>\n",
       "      <td>28.67042</td>\n",
       "      <td>48.594571</td>\n",
       "      <td>5.556176</td>\n",
       "    </tr>\n",
       "    <tr>\n",
       "      <th>2</th>\n",
       "      <td>BABA HARI DAS NAGAR</td>\n",
       "      <td>4</td>\n",
       "      <td>414</td>\n",
       "      <td>2</td>\n",
       "      <td>70</td>\n",
       "      <td>9</td>\n",
       "      <td>18</td>\n",
       "      <td>8</td>\n",
       "      <td>512</td>\n",
       "      <td>2.899435e+07</td>\n",
       "      <td>76.96681</td>\n",
       "      <td>28.62867</td>\n",
       "      <td>28.994346</td>\n",
       "      <td>17.658615</td>\n",
       "    </tr>\n",
       "    <tr>\n",
       "      <th>3</th>\n",
       "      <td>NAJAFGARH</td>\n",
       "      <td>4</td>\n",
       "      <td>900</td>\n",
       "      <td>1</td>\n",
       "      <td>60</td>\n",
       "      <td>4</td>\n",
       "      <td>10</td>\n",
       "      <td>10</td>\n",
       "      <td>973</td>\n",
       "      <td>8.473809e+06</td>\n",
       "      <td>76.98269</td>\n",
       "      <td>28.60975</td>\n",
       "      <td>8.473809</td>\n",
       "      <td>114.824393</td>\n",
       "    </tr>\n",
       "    <tr>\n",
       "      <th>4</th>\n",
       "      <td>CHHAWLA</td>\n",
       "      <td>4</td>\n",
       "      <td>485</td>\n",
       "      <td>1</td>\n",
       "      <td>65</td>\n",
       "      <td>6</td>\n",
       "      <td>16</td>\n",
       "      <td>11</td>\n",
       "      <td>575</td>\n",
       "      <td>2.632166e+07</td>\n",
       "      <td>76.99466</td>\n",
       "      <td>28.58691</td>\n",
       "      <td>26.321658</td>\n",
       "      <td>21.845129</td>\n",
       "    </tr>\n",
       "  </tbody>\n",
       "</table>\n",
       "</div>"
      ],
      "text/plain": [
       "            localities  assassination  theft  gang_rape  burglary  rape  \\\n",
       "0      JAFFARPUR KALAN              4    724          2        41    11   \n",
       "1               MUNDKA              3    244          1        14     5   \n",
       "2  BABA HARI DAS NAGAR              4    414          2        70     9   \n",
       "3            NAJAFGARH              4    900          1        60     4   \n",
       "4              CHHAWLA              4    485          1        65     6   \n",
       "\n",
       "   assualt_attack  harassment(sexual)  crime_total    area_total  longitude  \\\n",
       "0              11                   6          799  7.048170e+07   76.91555   \n",
       "1              12                   4          270  4.859457e+07   76.96085   \n",
       "2              18                   8          512  2.899435e+07   76.96681   \n",
       "3              10                  10          973  8.473809e+06   76.98269   \n",
       "4              16                  11          575  2.632166e+07   76.99466   \n",
       "\n",
       "   latatitude  area/1000000  crime_total/area  \n",
       "0    28.59572     70.481699         11.336276  \n",
       "1    28.67042     48.594571          5.556176  \n",
       "2    28.62867     28.994346         17.658615  \n",
       "3    28.60975      8.473809        114.824393  \n",
       "4    28.58691     26.321658         21.845129  "
      ]
     },
     "execution_count": 76,
     "metadata": {},
     "output_type": "execute_result"
    }
   ],
   "source": [
    "cr.head()"
   ]
  },
  {
   "cell_type": "code",
   "execution_count": 77,
   "metadata": {},
   "outputs": [],
   "source": [
    "data = cr.iloc[:,[1,2,3,4,5,6,7,13]].values"
   ]
  },
  {
   "cell_type": "code",
   "execution_count": 78,
   "metadata": {},
   "outputs": [],
   "source": [
    "from sklearn.preprocessing import MinMaxScaler\n",
    "sc_X = MinMaxScaler()\n",
    "data = sc_X.fit_transform(data)"
   ]
  },
  {
   "cell_type": "code",
   "execution_count": 79,
   "metadata": {},
   "outputs": [
    {
     "data": {
      "text/plain": [
       "array([[0.16666667, 0.55032468, 0.16666667, 0.29133858, 0.25581395,\n",
       "        0.13432836, 0.125     , 0.00893937],\n",
       "       [0.08333333, 0.16071429, 0.        , 0.07874016, 0.11627907,\n",
       "        0.14925373, 0.075     , 0.00149898],\n",
       "       [0.16666667, 0.2987013 , 0.16666667, 0.51968504, 0.20930233,\n",
       "        0.23880597, 0.175     , 0.01707776],\n",
       "       [0.16666667, 0.69318182, 0.        , 0.44094488, 0.09302326,\n",
       "        0.11940299, 0.225     , 0.14215369],\n",
       "       [0.16666667, 0.35633117, 0.        , 0.48031496, 0.13953488,\n",
       "        0.20895522, 0.25      , 0.02246682]])"
      ]
     },
     "execution_count": 79,
     "metadata": {},
     "output_type": "execute_result"
    }
   ],
   "source": [
    "data[0:5]"
   ]
  },
  {
   "cell_type": "code",
   "execution_count": 80,
   "metadata": {},
   "outputs": [],
   "source": [
    "from sklearn.cluster import KMeans "
   ]
  },
  {
   "cell_type": "code",
   "execution_count": 81,
   "metadata": {},
   "outputs": [
    {
     "name": "stdout",
     "output_type": "stream",
     "text": [
      "constructor\n"
     ]
    }
   ],
   "source": [
    "clf = cluster(5)"
   ]
  },
  {
   "cell_type": "code",
   "execution_count": 82,
   "metadata": {},
   "outputs": [],
   "source": [
    "clf.fit(data)"
   ]
  },
  {
   "cell_type": "code",
   "execution_count": 83,
   "metadata": {},
   "outputs": [
    {
     "data": {
      "text/html": [
       "<div>\n",
       "<style scoped>\n",
       "    .dataframe tbody tr th:only-of-type {\n",
       "        vertical-align: middle;\n",
       "    }\n",
       "\n",
       "    .dataframe tbody tr th {\n",
       "        vertical-align: top;\n",
       "    }\n",
       "\n",
       "    .dataframe thead th {\n",
       "        text-align: right;\n",
       "    }\n",
       "</style>\n",
       "<table border=\"1\" class=\"dataframe\">\n",
       "  <thead>\n",
       "    <tr style=\"text-align: right;\">\n",
       "      <th></th>\n",
       "      <th>localities</th>\n",
       "      <th>assassination</th>\n",
       "      <th>theft</th>\n",
       "      <th>gang_rape</th>\n",
       "      <th>burglary</th>\n",
       "      <th>rape</th>\n",
       "      <th>assualt_attack</th>\n",
       "      <th>harassment(sexual)</th>\n",
       "      <th>crime_total</th>\n",
       "      <th>area_total</th>\n",
       "      <th>longitude</th>\n",
       "      <th>latatitude</th>\n",
       "      <th>area/1000000</th>\n",
       "      <th>crime_total/area</th>\n",
       "    </tr>\n",
       "  </thead>\n",
       "  <tbody>\n",
       "    <tr>\n",
       "      <th>0</th>\n",
       "      <td>JAFFARPUR KALAN</td>\n",
       "      <td>4</td>\n",
       "      <td>724</td>\n",
       "      <td>2</td>\n",
       "      <td>41</td>\n",
       "      <td>11</td>\n",
       "      <td>11</td>\n",
       "      <td>6</td>\n",
       "      <td>799</td>\n",
       "      <td>7.048170e+07</td>\n",
       "      <td>76.91555</td>\n",
       "      <td>28.59572</td>\n",
       "      <td>70.481699</td>\n",
       "      <td>11.336276</td>\n",
       "    </tr>\n",
       "    <tr>\n",
       "      <th>1</th>\n",
       "      <td>MUNDKA</td>\n",
       "      <td>3</td>\n",
       "      <td>244</td>\n",
       "      <td>1</td>\n",
       "      <td>14</td>\n",
       "      <td>5</td>\n",
       "      <td>12</td>\n",
       "      <td>4</td>\n",
       "      <td>270</td>\n",
       "      <td>4.859457e+07</td>\n",
       "      <td>76.96085</td>\n",
       "      <td>28.67042</td>\n",
       "      <td>48.594571</td>\n",
       "      <td>5.556176</td>\n",
       "    </tr>\n",
       "    <tr>\n",
       "      <th>2</th>\n",
       "      <td>BABA HARI DAS NAGAR</td>\n",
       "      <td>4</td>\n",
       "      <td>414</td>\n",
       "      <td>2</td>\n",
       "      <td>70</td>\n",
       "      <td>9</td>\n",
       "      <td>18</td>\n",
       "      <td>8</td>\n",
       "      <td>512</td>\n",
       "      <td>2.899435e+07</td>\n",
       "      <td>76.96681</td>\n",
       "      <td>28.62867</td>\n",
       "      <td>28.994346</td>\n",
       "      <td>17.658615</td>\n",
       "    </tr>\n",
       "    <tr>\n",
       "      <th>3</th>\n",
       "      <td>NAJAFGARH</td>\n",
       "      <td>4</td>\n",
       "      <td>900</td>\n",
       "      <td>1</td>\n",
       "      <td>60</td>\n",
       "      <td>4</td>\n",
       "      <td>10</td>\n",
       "      <td>10</td>\n",
       "      <td>973</td>\n",
       "      <td>8.473809e+06</td>\n",
       "      <td>76.98269</td>\n",
       "      <td>28.60975</td>\n",
       "      <td>8.473809</td>\n",
       "      <td>114.824393</td>\n",
       "    </tr>\n",
       "    <tr>\n",
       "      <th>4</th>\n",
       "      <td>CHHAWLA</td>\n",
       "      <td>4</td>\n",
       "      <td>485</td>\n",
       "      <td>1</td>\n",
       "      <td>65</td>\n",
       "      <td>6</td>\n",
       "      <td>16</td>\n",
       "      <td>11</td>\n",
       "      <td>575</td>\n",
       "      <td>2.632166e+07</td>\n",
       "      <td>76.99466</td>\n",
       "      <td>28.58691</td>\n",
       "      <td>26.321658</td>\n",
       "      <td>21.845129</td>\n",
       "    </tr>\n",
       "  </tbody>\n",
       "</table>\n",
       "</div>"
      ],
      "text/plain": [
       "            localities  assassination  theft  gang_rape  burglary  rape  \\\n",
       "0      JAFFARPUR KALAN              4    724          2        41    11   \n",
       "1               MUNDKA              3    244          1        14     5   \n",
       "2  BABA HARI DAS NAGAR              4    414          2        70     9   \n",
       "3            NAJAFGARH              4    900          1        60     4   \n",
       "4              CHHAWLA              4    485          1        65     6   \n",
       "\n",
       "   assualt_attack  harassment(sexual)  crime_total    area_total  longitude  \\\n",
       "0              11                   6          799  7.048170e+07   76.91555   \n",
       "1              12                   4          270  4.859457e+07   76.96085   \n",
       "2              18                   8          512  2.899435e+07   76.96681   \n",
       "3              10                  10          973  8.473809e+06   76.98269   \n",
       "4              16                  11          575  2.632166e+07   76.99466   \n",
       "\n",
       "   latatitude  area/1000000  crime_total/area  \n",
       "0    28.59572     70.481699         11.336276  \n",
       "1    28.67042     48.594571          5.556176  \n",
       "2    28.62867     28.994346         17.658615  \n",
       "3    28.60975      8.473809        114.824393  \n",
       "4    28.58691     26.321658         21.845129  "
      ]
     },
     "execution_count": 83,
     "metadata": {},
     "output_type": "execute_result"
    }
   ],
   "source": [
    "cr.head()"
   ]
  },
  {
   "cell_type": "code",
   "execution_count": 84,
   "metadata": {},
   "outputs": [
    {
     "data": {
      "text/plain": [
       "[array([0.19444444, 0.34907751, 0.14550265, 0.28696413, 0.27390181,\n",
       "        0.28618811, 0.23174603, 0.2162297 ]),\n",
       " array([0.12689394, 0.13237898, 0.03030303, 0.11900501, 0.12843552,\n",
       "        0.10447761, 0.11079545, 0.09573458]),\n",
       " array([0.4775641 , 0.26888736, 0.49358974, 0.24621442, 0.41144902,\n",
       "        0.40298507, 0.29134615, 0.21755508]),\n",
       " array([0.475     , 0.66038961, 0.13333333, 0.57559055, 0.48139535,\n",
       "        0.49850746, 0.575     , 0.65597766]),\n",
       " array([0.65217391, 0.30268916, 0.10144928, 0.41971927, 0.33771486,\n",
       "        0.34198572, 0.31630435, 0.21152179])]"
      ]
     },
     "execution_count": 84,
     "metadata": {},
     "output_type": "execute_result"
    }
   ],
   "source": [
    "clf.means"
   ]
  },
  {
   "cell_type": "code",
   "execution_count": 85,
   "metadata": {},
   "outputs": [],
   "source": [
    "safety = []\n",
    "c = 0\n",
    "for li in clf.means:\n",
    "    sum = 0;\n",
    "    sum += li[1] + li[2] + li[6]\n",
    "    safety.append((sum,c))\n",
    "    c += 1\n",
    "safety = sorted(safety)"
   ]
  },
  {
   "cell_type": "code",
   "execution_count": 86,
   "metadata": {},
   "outputs": [
    {
     "data": {
      "text/plain": [
       "[(0.2734774695001968, 1),\n",
       " (0.7204427818558253, 4),\n",
       " (0.7263261870404727, 0),\n",
       " (1.0538232600732602, 2),\n",
       " (1.3687229437229438, 3)]"
      ]
     },
     "execution_count": 86,
     "metadata": {},
     "output_type": "execute_result"
    }
   ],
   "source": [
    "safety"
   ]
  },
  {
   "cell_type": "code",
   "execution_count": 87,
   "metadata": {},
   "outputs": [],
   "source": [
    "dict1 = {}\n",
    "m = 0\n",
    "for s in safety:\n",
    "    dict1[s[1]] = m \n",
    "    m += 1"
   ]
  },
  {
   "cell_type": "code",
   "execution_count": 88,
   "metadata": {},
   "outputs": [
    {
     "data": {
      "text/plain": [
       "{1: 0, 4: 1, 0: 2, 2: 3, 3: 4}"
      ]
     },
     "execution_count": 88,
     "metadata": {},
     "output_type": "execute_result"
    }
   ],
   "source": [
    "dict1"
   ]
  },
  {
   "cell_type": "code",
   "execution_count": 89,
   "metadata": {},
   "outputs": [],
   "source": [
    "clust_pred = np.array(clf.predict(data)).reshape(-1,1)"
   ]
  },
  {
   "cell_type": "markdown",
   "metadata": {},
   "source": [
    "## silhoutee score using cluster 1 algorithm"
   ]
  },
  {
   "cell_type": "code",
   "execution_count": 90,
   "metadata": {},
   "outputs": [
    {
     "name": "stdout",
     "output_type": "stream",
     "text": [
      "0.18272665061126944\n"
     ]
    }
   ],
   "source": [
    "print(silhouette_score(data,clust_pred))"
   ]
  },
  {
   "cell_type": "markdown",
   "metadata": {},
   "source": [
    "## silhoutee score using agglomerative clustering algorithm"
   ]
  },
  {
   "cell_type": "code",
   "execution_count": 91,
   "metadata": {},
   "outputs": [],
   "source": [
    "from sklearn.cluster import AgglomerativeClustering\n",
    "clf1 = AgglomerativeClustering(n_clusters = 5)"
   ]
  },
  {
   "cell_type": "code",
   "execution_count": 92,
   "metadata": {},
   "outputs": [
    {
     "name": "stdout",
     "output_type": "stream",
     "text": [
      "0.16118537889676013\n"
     ]
    }
   ],
   "source": [
    "predictions = clf1.fit_predict(data)\n",
    "print(silhouette_score(data,predictions))"
   ]
  },
  {
   "cell_type": "code",
   "execution_count": 93,
   "metadata": {},
   "outputs": [
    {
     "data": {
      "text/plain": [
       "array([1, 1, 4, 3, 4, 0, 2, 0, 1, 0, 0, 1, 2, 2, 4])"
      ]
     },
     "execution_count": 93,
     "metadata": {},
     "output_type": "execute_result"
    }
   ],
   "source": [
    "clust_pred = clust_pred.reshape(len(clust_pred),)\n",
    "clust_pred[10:25]"
   ]
  },
  {
   "cell_type": "code",
   "execution_count": 94,
   "metadata": {},
   "outputs": [],
   "source": [
    "mag_pred = clust_pred.copy()\n",
    "for i in range(len(clust_pred)):\n",
    "    mag_pred[i] = dict1[clust_pred[i]]"
   ]
  },
  {
   "cell_type": "code",
   "execution_count": 95,
   "metadata": {},
   "outputs": [
    {
     "data": {
      "text/plain": [
       "array([2, 0, 2, 2, 2, 2, 0, 3, 3, 3, 0, 0, 1, 4, 1, 2, 3, 2, 0, 2, 2, 0,\n",
       "       3, 3, 1, 0, 0, 1, 2, 1, 2, 2, 3, 0, 3, 1, 2, 2, 2, 2, 3, 0, 0, 1,\n",
       "       4, 3, 2, 1, 0, 4, 2, 3, 4, 1, 2, 0, 2, 1, 2, 2, 2, 2, 2, 0, 1, 2,\n",
       "       2, 2, 2, 1, 2, 2, 2, 0, 0, 2, 2, 2, 2, 2, 0, 0, 1, 3, 4, 0, 2, 1,\n",
       "       3, 2, 2, 1, 0, 2, 1, 2, 2, 2, 3, 2, 1, 4, 3, 2, 3, 0, 0, 2, 0, 2,\n",
       "       0, 1, 1, 2, 0, 0, 0, 4, 0, 0, 3, 2, 0, 3, 0, 0, 4, 2, 3, 2, 0, 1,\n",
       "       2, 0, 0, 3, 3, 0, 0, 3, 2, 0, 4, 2, 2, 3, 2, 3, 1, 2, 1, 3, 2, 0,\n",
       "       2, 2, 0, 0, 3, 4, 1, 0, 0, 2, 2, 0])"
      ]
     },
     "execution_count": 95,
     "metadata": {},
     "output_type": "execute_result"
    }
   ],
   "source": [
    "mag_pred"
   ]
  },
  {
   "cell_type": "code",
   "execution_count": 96,
   "metadata": {},
   "outputs": [
    {
     "data": {
      "text/plain": [
       "array([0, 0, 1, 4, 1, 2, 3, 2, 0, 2, 2, 0, 3, 3, 1])"
      ]
     },
     "execution_count": 96,
     "metadata": {},
     "output_type": "execute_result"
    }
   ],
   "source": [
    "mag_pred[10:25]"
   ]
  },
  {
   "cell_type": "code",
   "execution_count": 97,
   "metadata": {},
   "outputs": [],
   "source": [
    "from sklearn.cluster import DBSCAN"
   ]
  },
  {
   "cell_type": "code",
   "execution_count": 98,
   "metadata": {},
   "outputs": [],
   "source": [
    "test = data[0:15,1:3]"
   ]
  },
  {
   "cell_type": "code",
   "execution_count": 99,
   "metadata": {},
   "outputs": [
    {
     "data": {
      "text/plain": [
       "array([[0.55032468, 0.16666667],\n",
       "       [0.16071429, 0.        ],\n",
       "       [0.2987013 , 0.16666667],\n",
       "       [0.69318182, 0.        ],\n",
       "       [0.35633117, 0.        ],\n",
       "       [0.21590909, 0.33333333],\n",
       "       [0.05113636, 0.        ],\n",
       "       [0.2775974 , 0.5       ],\n",
       "       [0.22564935, 0.33333333],\n",
       "       [0.2775974 , 0.5       ],\n",
       "       [0.30194805, 0.        ],\n",
       "       [0.32142857, 0.        ],\n",
       "       [0.36201299, 0.16666667],\n",
       "       [0.8125    , 0.16666667],\n",
       "       [0.30519481, 0.16666667]])"
      ]
     },
     "execution_count": 99,
     "metadata": {},
     "output_type": "execute_result"
    }
   ],
   "source": [
    "test"
   ]
  },
  {
   "cell_type": "code",
   "execution_count": 100,
   "metadata": {},
   "outputs": [
    {
     "data": {
      "image/png": "[encoded data removed]",
      "text/plain": [
       "<Figure size 432x288 with 1 Axes>"
      ]
     },
     "metadata": {},
     "output_type": "display_data"
    }
   ],
   "source": [
    "plt.scatter(test[:,0],test[:,1])\n",
    "plt.show()"
   ]
  },
  {
   "cell_type": "code",
   "execution_count": 101,
   "metadata": {},
   "outputs": [
    {
     "name": "stdout",
     "output_type": "stream",
     "text": [
      "constructor\n"
     ]
    }
   ],
   "source": [
    "test_clf = cluster(4)"
   ]
  },
  {
   "cell_type": "code",
   "execution_count": 102,
   "metadata": {},
   "outputs": [],
   "source": [
    "test_clf.fit(test)"
   ]
  },
  {
   "cell_type": "code",
   "execution_count": 103,
   "metadata": {},
   "outputs": [],
   "source": [
    "test_pred = np.array(test_clf.predict(test)).reshape(-1,1)"
   ]
  },
  {
   "cell_type": "code",
   "execution_count": 104,
   "metadata": {},
   "outputs": [
    {
     "data": {
      "image/png": "[encoded data removed]",
      "text/plain": [
       "<Figure size 432x288 with 1 Axes>"
      ]
     },
     "metadata": {},
     "output_type": "display_data"
    }
   ],
   "source": [
    "for i in range(15):\n",
    "    if(test_pred[i] == 0):\n",
    "        plt.scatter(test[i,0],test[i,1],color = 'red')\n",
    "    elif(test_pred[i] == 1):\n",
    "        plt.scatter(test[i,0],test[i,1],color = 'blue')\n",
    "    elif(test_pred[i] == 2):\n",
    "        plt.scatter(test[i,0],test[i,1],color = 'green')\n",
    "    elif(test_pred[i] == 3):\n",
    "        plt.scatter(test[i,0],test[i,1],color = 'yellow')"
   ]
  },
  {
   "cell_type": "code",
   "execution_count": 105,
   "metadata": {},
   "outputs": [],
   "source": [
    "import numpy as np\n",
    "import random\n",
    "\n",
    "def kMedoids(D, k, tmax=100):\n",
    "    # determine dimensions of distance matrix D\n",
    "    m, n = D.shape\n",
    "\n",
    "   \n",
    "\n",
    "    # find a set of valid initial cluster medoid indices since we\n",
    "    # can't seed different clusters with two points at the same location\n",
    "    valid_medoid_inds = set(range(n))\n",
    "    invalid_medoid_inds = set([])\n",
    "    rs,cs = np.where(D==0)\n",
    "    # the rows, cols must be shuffled because we will keep the first duplicate below\n",
    "    index_shuf = list(range(len(rs)))\n",
    "    np.random.shuffle(index_shuf)\n",
    "    rs = rs[index_shuf]\n",
    "    cs = cs[index_shuf]\n",
    "    for r,c in zip(rs,cs):\n",
    "        # if there are two points with a distance of 0...\n",
    "        # keep the first one for cluster init\n",
    "        if r < c and r not in invalid_medoid_inds:\n",
    "            invalid_medoid_inds.add(c)\n",
    "    valid_medoid_inds = list(valid_medoid_inds - invalid_medoid_inds)\n",
    "\n",
    "   \n",
    "    # randomly initialize an array of k medoid indices\n",
    "    M = np.array(valid_medoid_inds)\n",
    "    np.random.shuffle(M)\n",
    "    M = np.sort(M[:k])\n",
    "\n",
    "    # create a copy of the array of medoid indices\n",
    "    Mnew = np.copy(M)\n",
    "\n",
    "    # initialize a dictionary to represent clusters\n",
    "    C = {}\n",
    "    for t in range(tmax):\n",
    "        # determine clusters, i. e. arrays of data indices\n",
    "        J = np.argmin(D[:,M], axis=1)\n",
    "        for kappa in range(k):\n",
    "            C[kappa] = np.where(J==kappa)[0]\n",
    "        # update cluster medoids\n",
    "        for kappa in range(k):\n",
    "            J = np.mean(D[np.ix_(C[kappa],C[kappa])],axis=1)\n",
    "            j = np.argmin(J)\n",
    "            Mnew[kappa] = C[kappa][j]\n",
    "        np.sort(Mnew)\n",
    "        # check for convergence\n",
    "        if np.array_equal(M, Mnew):\n",
    "            break\n",
    "        M = np.copy(Mnew)\n",
    "    else:\n",
    "        # final update of cluster memberships\n",
    "        J = np.argmin(D[:,M], axis=1)\n",
    "        for kappa in range(k):\n",
    "            C[kappa] = np.where(J==kappa)[0]\n",
    "\n",
    "    # return results\n",
    "    return M, C"
   ]
  },
  {
   "cell_type": "code",
   "execution_count": 106,
   "metadata": {},
   "outputs": [
    {
     "ename": "IndexError",
     "evalue": "index 10 is out of bounds for axis 1 with size 8",
     "output_type": "error",
     "traceback": [
      "\u001b[0;31m---------------------------------------------------------------------------\u001b[0m",
      "\u001b[0;31mIndexError\u001b[0m                                Traceback (most recent call last)",
      "\u001b[0;32m<ipython-input-106-5780e30e8b8a>\u001b[0m in \u001b[0;36m<module>\u001b[0;34m()\u001b[0m\n\u001b[0;32m----> 1\u001b[0;31m \u001b[0mM\u001b[0m\u001b[0;34m,\u001b[0m\u001b[0mC\u001b[0m \u001b[0;34m=\u001b[0m \u001b[0mkMedoids\u001b[0m\u001b[0;34m(\u001b[0m\u001b[0mdata\u001b[0m\u001b[0;34m,\u001b[0m\u001b[0;36m5\u001b[0m\u001b[0;34m)\u001b[0m\u001b[0;34m\u001b[0m\u001b[0m\n\u001b[0m",
      "\u001b[0;32m<ipython-input-105-08f8c41b8670>\u001b[0m in \u001b[0;36mkMedoids\u001b[0;34m(D, k, tmax)\u001b[0m\n\u001b[1;32m     43\u001b[0m         \u001b[0;31m# update cluster medoids\u001b[0m\u001b[0;34m\u001b[0m\u001b[0;34m\u001b[0m\u001b[0m\n\u001b[1;32m     44\u001b[0m         \u001b[0;32mfor\u001b[0m \u001b[0mkappa\u001b[0m \u001b[0;32min\u001b[0m \u001b[0mrange\u001b[0m\u001b[0;34m(\u001b[0m\u001b[0mk\u001b[0m\u001b[0;34m)\u001b[0m\u001b[0;34m:\u001b[0m\u001b[0;34m\u001b[0m\u001b[0m\n\u001b[0;32m---> 45\u001b[0;31m             \u001b[0mJ\u001b[0m \u001b[0;34m=\u001b[0m \u001b[0mnp\u001b[0m\u001b[0;34m.\u001b[0m\u001b[0mmean\u001b[0m\u001b[0;34m(\u001b[0m\u001b[0mD\u001b[0m\u001b[0;34m[\u001b[0m\u001b[0mnp\u001b[0m\u001b[0;34m.\u001b[0m\u001b[0mix_\u001b[0m\u001b[0;34m(\u001b[0m\u001b[0mC\u001b[0m\u001b[0;34m[\u001b[0m\u001b[0mkappa\u001b[0m\u001b[0;34m]\u001b[0m\u001b[0;34m,\u001b[0m\u001b[0mC\u001b[0m\u001b[0;34m[\u001b[0m\u001b[0mkappa\u001b[0m\u001b[0;34m]\u001b[0m\u001b[0;34m)\u001b[0m\u001b[0;34m]\u001b[0m\u001b[0;34m,\u001b[0m\u001b[0maxis\u001b[0m\u001b[0;34m=\u001b[0m\u001b[0;36m1\u001b[0m\u001b[0;34m)\u001b[0m\u001b[0;34m\u001b[0m\u001b[0m\n\u001b[0m\u001b[1;32m     46\u001b[0m             \u001b[0mj\u001b[0m \u001b[0;34m=\u001b[0m \u001b[0mnp\u001b[0m\u001b[0;34m.\u001b[0m\u001b[0margmin\u001b[0m\u001b[0;34m(\u001b[0m\u001b[0mJ\u001b[0m\u001b[0;34m)\u001b[0m\u001b[0;34m\u001b[0m\u001b[0m\n\u001b[1;32m     47\u001b[0m             \u001b[0mMnew\u001b[0m\u001b[0;34m[\u001b[0m\u001b[0mkappa\u001b[0m\u001b[0;34m]\u001b[0m \u001b[0;34m=\u001b[0m \u001b[0mC\u001b[0m\u001b[0;34m[\u001b[0m\u001b[0mkappa\u001b[0m\u001b[0;34m]\u001b[0m\u001b[0;34m[\u001b[0m\u001b[0mj\u001b[0m\u001b[0;34m]\u001b[0m\u001b[0;34m\u001b[0m\u001b[0m\n",
      "\u001b[0;31mIndexError\u001b[0m: index 10 is out of bounds for axis 1 with size 8"
     ]
    }
   ],
   "source": [
    "M,C = kMedoids(data,5)"
   ]
  },
  {
   "cell_type": "code",
   "execution_count": null,
   "metadata": {
    "scrolled": false
   },
   "outputs": [],
   "source": [
    "import numpy as np\n",
    "from sklearn.cluster import KMeans\n",
    "\n",
    "######################### K-Medoids\n",
    "\n",
    "def assign_nearest(ids_of_mediods):\n",
    "    dists = dist(x[:,None,:], x[None,ids_of_mediods,:])\n",
    "    return np.argmin(dists, axis=1)\n",
    "\n",
    "\n",
    "def dist(xa, xb):\n",
    "    if EUCLIDEAN:\n",
    "        return np.sqrt(np.sum(np.square(xa-xb), axis=-1))\n",
    "    else:\n",
    "        return np.sum(np.abs(xa - xb), axis=-1)\n",
    "\n",
    "\n",
    "def find_medoids(assignments):\n",
    "    medoid_ids = np.full(k, -1, dtype=int)\n",
    "    subset = np.random.choice(n, batch_sz, replace=False)\n",
    "\n",
    "    for i in range(k):\n",
    "        indices = np.intersect1d(np.where(assignments==i)[0], subset)\n",
    "        distances = dist(x[indices, None, :], x[None, indices, :]).sum(axis=0)\n",
    "        medoid_ids[i] = indices[np.argmin(distances)]\n",
    "\n",
    "    return medoid_ids\n",
    "\n",
    "\n",
    "def kmeds(iterations=20):\n",
    "    print(\"Initializing to random medoids.\")\n",
    "    ids_of_medoids = np.random.choice(n, k, replace=False)\n",
    "    class_assignments = assign_nearest(ids_of_medoids)\n",
    "\n",
    "    for i in range(iterations):\n",
    "        print(\"\\tFinding new medoids.\")\n",
    "        ids_of_medoids = find_medoids(class_assignments)\n",
    "        print(\"\\tReassigning points.\")\n",
    "        new_class_assignments = assign_nearest(ids_of_medoids)\n",
    "\n",
    "        diffs = np.mean(new_class_assignments != class_assignments)\n",
    "        class_assignments = new_class_assignments\n",
    "\n",
    "        print(\"iteration {:2d}: {:.2%} of points got reassigned.\"\n",
    "              \"\".format(i, diffs))\n",
    "        if diffs <= 0.01:\n",
    "            break\n",
    "\n",
    "    return class_assignments, ids_of_medoids\n",
    "\n",
    "\n",
    "\n",
    "\n",
    "print(\"n={}\\td={}\\tk={}\\tbatch_size={} \".format(n, d, k, batch_sz))\n",
    "print(\"Distance metric: \", \"Eucledian\" if EUCLIDEAN else \"Manhattan\")\n",
    "\n",
    "print(\"\\nMaking k-groups as:\")\n",
    "for kk in range(k):\n",
    "    dd = (kk-1)%d\n",
    "    print(\"    x[{}:{}, {}] += {}\".format(kk*n//k, (kk+1)*n//k, dd , 3*d*kk))\n",
    "    x[kk*n//k:(kk+1)*n//k,dd] += 3*d*kk\n",
    "\n",
    "######################### Fitting\n",
    "print(\"\\nFitting Kmedoids.\")\n",
    "final_assignments, final_medoid_ids = kmeds()\n",
    "\n",
    "\n",
    "\n",
    "np.set_printoptions(suppress=True)\n",
    "print(\"\\nKMedoids:\")\n",
    "print(x[final_medoid_ids, ])\n",
    "print(\"K-Medoids class sizes:\")\n",
    "print(mismatch.sum(axis=-1))\n",
    "print(\"\\nKMeans:\")\n",
    "print(kmeans)\n",
    "print(\"K-Means class sizes:\")\n",
    "print(mismatch.sum(axis=0))\n",
    "print(\"\\nMismatch between assignment to Kmeans and Kmedoids:\")\n",
    "print(mismatch)\n",
    "print(\"Should ideally be {} * a permutation matrix.\".format(n//k))"
   ]
  }
 ],
 "metadata": {
  "kernelspec": {
   "display_name": "Python 3",
   "language": "python",
   "name": "python3"
  },
  "language_info": {
   "codemirror_mode": {
    "name": "ipython",
    "version": 3
   },
   "file_extension": ".py",
   "mimetype": "text/x-python",
   "name": "python",
   "nbconvert_exporter": "python",
   "pygments_lexer": "ipython3",
   "version": "3.6.5"
  }
 },
 "nbformat": 4,
 "nbformat_minor": 2
}
