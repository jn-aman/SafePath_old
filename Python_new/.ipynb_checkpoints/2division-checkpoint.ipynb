{
 "cells": [
  {
   "cell_type": "code",
   "execution_count": 6,
   "metadata": {},
   "outputs": [],
   "source": [
    "import numpy as np\n",
    "from sklearn.utils import check_random_state\n",
    "from sklearn.metrics.pairwise import distance_metrics\n",
    "import math"
   ]
  },
  {
   "cell_type": "code",
   "execution_count": 5,
   "metadata": {},
   "outputs": [],
   "source": [
    "import pandas as pd"
   ]
  },
  {
   "cell_type": "code",
   "execution_count": 4,
   "metadata": {},
   "outputs": [],
   "source": [
    "# cr = pd.read_csv('crime2.csv')"
   ]
  },
  {
   "cell_type": "code",
   "execution_count": 6,
   "metadata": {},
   "outputs": [
    {
     "data": {
      "text/html": [
       "<div>\n",
       "<style scoped>\n",
       "    .dataframe tbody tr th:only-of-type {\n",
       "        vertical-align: middle;\n",
       "    }\n",
       "\n",
       "    .dataframe tbody tr th {\n",
       "        vertical-align: top;\n",
       "    }\n",
       "\n",
       "    .dataframe thead th {\n",
       "        text-align: right;\n",
       "    }\n",
       "</style>\n",
       "<table border=\"1\" class=\"dataframe\">\n",
       "  <thead>\n",
       "    <tr style=\"text-align: right;\">\n",
       "      <th></th>\n",
       "      <th>localities</th>\n",
       "      <th>assassination</th>\n",
       "      <th>theft</th>\n",
       "      <th>gang_rape</th>\n",
       "      <th>burglary</th>\n",
       "      <th>rape</th>\n",
       "      <th>assualt_attack</th>\n",
       "      <th>harassment</th>\n",
       "      <th>crime_total</th>\n",
       "      <th>area_total</th>\n",
       "      <th>longitude</th>\n",
       "      <th>latatitude</th>\n",
       "      <th>area_per_million_km</th>\n",
       "      <th>crime_total_divided_area</th>\n",
       "    </tr>\n",
       "  </thead>\n",
       "  <tbody>\n",
       "    <tr>\n",
       "      <th>0</th>\n",
       "      <td>JAFFARPUR KALAN</td>\n",
       "      <td>4</td>\n",
       "      <td>724</td>\n",
       "      <td>2</td>\n",
       "      <td>41</td>\n",
       "      <td>11</td>\n",
       "      <td>11</td>\n",
       "      <td>6</td>\n",
       "      <td>799</td>\n",
       "      <td>7.048170e+07</td>\n",
       "      <td>76.91555</td>\n",
       "      <td>28.59572</td>\n",
       "      <td>70.481699</td>\n",
       "      <td>11.336276</td>\n",
       "    </tr>\n",
       "    <tr>\n",
       "      <th>1</th>\n",
       "      <td>MUNDKA</td>\n",
       "      <td>3</td>\n",
       "      <td>244</td>\n",
       "      <td>1</td>\n",
       "      <td>14</td>\n",
       "      <td>5</td>\n",
       "      <td>12</td>\n",
       "      <td>4</td>\n",
       "      <td>270</td>\n",
       "      <td>4.859457e+07</td>\n",
       "      <td>76.96085</td>\n",
       "      <td>28.67042</td>\n",
       "      <td>48.594571</td>\n",
       "      <td>5.556176</td>\n",
       "    </tr>\n",
       "    <tr>\n",
       "      <th>2</th>\n",
       "      <td>BABA HARI DAS NAGAR</td>\n",
       "      <td>4</td>\n",
       "      <td>414</td>\n",
       "      <td>2</td>\n",
       "      <td>70</td>\n",
       "      <td>9</td>\n",
       "      <td>18</td>\n",
       "      <td>8</td>\n",
       "      <td>512</td>\n",
       "      <td>2.899435e+07</td>\n",
       "      <td>76.96681</td>\n",
       "      <td>28.62867</td>\n",
       "      <td>28.994346</td>\n",
       "      <td>17.658615</td>\n",
       "    </tr>\n",
       "    <tr>\n",
       "      <th>3</th>\n",
       "      <td>NAJAFGARH</td>\n",
       "      <td>4</td>\n",
       "      <td>900</td>\n",
       "      <td>1</td>\n",
       "      <td>60</td>\n",
       "      <td>4</td>\n",
       "      <td>10</td>\n",
       "      <td>10</td>\n",
       "      <td>973</td>\n",
       "      <td>8.473809e+06</td>\n",
       "      <td>76.98269</td>\n",
       "      <td>28.60975</td>\n",
       "      <td>8.473809</td>\n",
       "      <td>114.824393</td>\n",
       "    </tr>\n",
       "    <tr>\n",
       "      <th>4</th>\n",
       "      <td>CHHAWLA</td>\n",
       "      <td>4</td>\n",
       "      <td>485</td>\n",
       "      <td>1</td>\n",
       "      <td>65</td>\n",
       "      <td>6</td>\n",
       "      <td>16</td>\n",
       "      <td>11</td>\n",
       "      <td>575</td>\n",
       "      <td>2.632166e+07</td>\n",
       "      <td>76.99466</td>\n",
       "      <td>28.58691</td>\n",
       "      <td>26.321658</td>\n",
       "      <td>21.845129</td>\n",
       "    </tr>\n",
       "  </tbody>\n",
       "</table>\n",
       "</div>"
      ],
      "text/plain": [
       "            localities  assassination  theft  gang_rape  burglary  rape  \\\n",
       "0      JAFFARPUR KALAN              4    724          2        41    11   \n",
       "1               MUNDKA              3    244          1        14     5   \n",
       "2  BABA HARI DAS NAGAR              4    414          2        70     9   \n",
       "3            NAJAFGARH              4    900          1        60     4   \n",
       "4              CHHAWLA              4    485          1        65     6   \n",
       "\n",
       "   assualt_attack  harassment  crime_total    area_total  longitude  \\\n",
       "0              11           6          799  7.048170e+07   76.91555   \n",
       "1              12           4          270  4.859457e+07   76.96085   \n",
       "2              18           8          512  2.899435e+07   76.96681   \n",
       "3              10          10          973  8.473809e+06   76.98269   \n",
       "4              16          11          575  2.632166e+07   76.99466   \n",
       "\n",
       "   latatitude  area_per_million_km  crime_total_divided_area  \n",
       "0    28.59572            70.481699                 11.336276  \n",
       "1    28.67042            48.594571                  5.556176  \n",
       "2    28.62867            28.994346                 17.658615  \n",
       "3    28.60975             8.473809                114.824393  \n",
       "4    28.58691            26.321658                 21.845129  "
      ]
     },
     "execution_count": 6,
     "metadata": {},
     "output_type": "execute_result"
    }
   ],
   "source": [
    "# cr.head()"
   ]
  },
  {
   "cell_type": "code",
   "execution_count": 7,
   "metadata": {},
   "outputs": [],
   "source": [
    "# from sqlalchemy import create_engine\n",
    "# database_username = 'b5a53e446f5cec'\n",
    "# database_password = '0f8d1ba3'\n",
    "# database_ip       = 'us-cdbr-iron-east-02.cleardb.net'\n",
    "# database_name     = 'heroku_7c3443583b90116'\n",
    "# database_connection = create_engine('mysql+mysqlconnector://{0}:{1}@{2}/{3}'.\n",
    "#                                                format(database_username, database_password, \n",
    "# #                                                       database_ip, database_name))\n",
    "# cr.to_sql('initial', con=database_connection, if_exists='replace',chunksize=1000,index=False)\n"
   ]
  },
  {
   "cell_type": "code",
   "execution_count": 7,
   "metadata": {},
   "outputs": [],
   "source": [
    "\n",
    "from sqlalchemy import create_engine\n",
    "database_username = 'root'\n",
    "database_password = ''\n",
    "database_ip       = 'localhost'\n",
    "database_name     = 'safepath'\n",
    "database_connection = create_engine('mysql+mysqlconnector://{0}:{1}@{2}/{3}'.\n",
    "                                               format(database_username, database_password, \n",
    "                                                      database_ip, database_name))\n",
    "# cr.to_sql('initial', con=database_connection, if_exists='replace',chunksize=1000,index=False)\n"
   ]
  },
  {
   "cell_type": "code",
   "execution_count": 8,
   "metadata": {},
   "outputs": [],
   "source": [
    "cr = pd.read_sql('SELECT * FROM initial', con=database_connection)"
   ]
  },
  {
   "cell_type": "code",
   "execution_count": 9,
   "metadata": {},
   "outputs": [
    {
     "data": {
      "text/html": [
       "<div>\n",
       "<style scoped>\n",
       "    .dataframe tbody tr th:only-of-type {\n",
       "        vertical-align: middle;\n",
       "    }\n",
       "\n",
       "    .dataframe tbody tr th {\n",
       "        vertical-align: top;\n",
       "    }\n",
       "\n",
       "    .dataframe thead th {\n",
       "        text-align: right;\n",
       "    }\n",
       "</style>\n",
       "<table border=\"1\" class=\"dataframe\">\n",
       "  <thead>\n",
       "    <tr style=\"text-align: right;\">\n",
       "      <th></th>\n",
       "      <th>localities</th>\n",
       "      <th>assassination</th>\n",
       "      <th>theft</th>\n",
       "      <th>gang_rape</th>\n",
       "      <th>burglary</th>\n",
       "      <th>rape</th>\n",
       "      <th>assualt_attack</th>\n",
       "      <th>harassment</th>\n",
       "      <th>crime_total</th>\n",
       "      <th>area_total</th>\n",
       "      <th>longitude</th>\n",
       "      <th>latatitude</th>\n",
       "      <th>area_per_million_km</th>\n",
       "      <th>crime_total_divided_area</th>\n",
       "    </tr>\n",
       "  </thead>\n",
       "  <tbody>\n",
       "    <tr>\n",
       "      <th>0</th>\n",
       "      <td>JAFFARPUR KALAN</td>\n",
       "      <td>7</td>\n",
       "      <td>727</td>\n",
       "      <td>3</td>\n",
       "      <td>41</td>\n",
       "      <td>11</td>\n",
       "      <td>11</td>\n",
       "      <td>7</td>\n",
       "      <td>799</td>\n",
       "      <td>7.048170e+07</td>\n",
       "      <td>76.91555</td>\n",
       "      <td>28.59572</td>\n",
       "      <td>70.481699</td>\n",
       "      <td>11.336276</td>\n",
       "    </tr>\n",
       "    <tr>\n",
       "      <th>1</th>\n",
       "      <td>MUNDKA</td>\n",
       "      <td>3</td>\n",
       "      <td>244</td>\n",
       "      <td>1</td>\n",
       "      <td>14</td>\n",
       "      <td>5</td>\n",
       "      <td>12</td>\n",
       "      <td>4</td>\n",
       "      <td>270</td>\n",
       "      <td>4.859457e+07</td>\n",
       "      <td>76.96085</td>\n",
       "      <td>28.67042</td>\n",
       "      <td>48.594571</td>\n",
       "      <td>5.556176</td>\n",
       "    </tr>\n",
       "    <tr>\n",
       "      <th>2</th>\n",
       "      <td>BABA HARI DAS NAGAR</td>\n",
       "      <td>4</td>\n",
       "      <td>414</td>\n",
       "      <td>2</td>\n",
       "      <td>70</td>\n",
       "      <td>9</td>\n",
       "      <td>18</td>\n",
       "      <td>8</td>\n",
       "      <td>512</td>\n",
       "      <td>2.899435e+07</td>\n",
       "      <td>76.96681</td>\n",
       "      <td>28.62867</td>\n",
       "      <td>28.994346</td>\n",
       "      <td>17.658615</td>\n",
       "    </tr>\n",
       "    <tr>\n",
       "      <th>3</th>\n",
       "      <td>NAJAFGARH</td>\n",
       "      <td>4</td>\n",
       "      <td>900</td>\n",
       "      <td>1</td>\n",
       "      <td>60</td>\n",
       "      <td>4</td>\n",
       "      <td>10</td>\n",
       "      <td>10</td>\n",
       "      <td>973</td>\n",
       "      <td>8.473809e+06</td>\n",
       "      <td>76.98269</td>\n",
       "      <td>28.60975</td>\n",
       "      <td>8.473809</td>\n",
       "      <td>114.824393</td>\n",
       "    </tr>\n",
       "    <tr>\n",
       "      <th>4</th>\n",
       "      <td>CHHAWLA</td>\n",
       "      <td>4</td>\n",
       "      <td>485</td>\n",
       "      <td>1</td>\n",
       "      <td>65</td>\n",
       "      <td>6</td>\n",
       "      <td>16</td>\n",
       "      <td>11</td>\n",
       "      <td>575</td>\n",
       "      <td>2.632166e+07</td>\n",
       "      <td>76.99466</td>\n",
       "      <td>28.58691</td>\n",
       "      <td>26.321658</td>\n",
       "      <td>21.845129</td>\n",
       "    </tr>\n",
       "  </tbody>\n",
       "</table>\n",
       "</div>"
      ],
      "text/plain": [
       "            localities  assassination  theft  gang_rape  burglary  rape  \\\n",
       "0      JAFFARPUR KALAN              7    727          3        41    11   \n",
       "1               MUNDKA              3    244          1        14     5   \n",
       "2  BABA HARI DAS NAGAR              4    414          2        70     9   \n",
       "3            NAJAFGARH              4    900          1        60     4   \n",
       "4              CHHAWLA              4    485          1        65     6   \n",
       "\n",
       "   assualt_attack  harassment  crime_total    area_total  longitude  \\\n",
       "0              11           7          799  7.048170e+07   76.91555   \n",
       "1              12           4          270  4.859457e+07   76.96085   \n",
       "2              18           8          512  2.899435e+07   76.96681   \n",
       "3              10          10          973  8.473809e+06   76.98269   \n",
       "4              16          11          575  2.632166e+07   76.99466   \n",
       "\n",
       "   latatitude  area_per_million_km  crime_total_divided_area  \n",
       "0    28.59572            70.481699                 11.336276  \n",
       "1    28.67042            48.594571                  5.556176  \n",
       "2    28.62867            28.994346                 17.658615  \n",
       "3    28.60975             8.473809                114.824393  \n",
       "4    28.58691            26.321658                 21.845129  "
      ]
     },
     "execution_count": 9,
     "metadata": {},
     "output_type": "execute_result"
    }
   ],
   "source": [
    "cr.head()"
   ]
  },
  {
   "cell_type": "code",
   "execution_count": 10,
   "metadata": {},
   "outputs": [],
   "source": [
    "data = cr.iloc[:,[1,2,3,4,5,6,7,12]].values"
   ]
  },
  {
   "cell_type": "code",
   "execution_count": 11,
   "metadata": {},
   "outputs": [],
   "source": [
    "from sklearn.preprocessing import MinMaxScaler\n",
    "sc_X = MinMaxScaler()\n",
    "data = sc_X.fit_transform(data)"
   ]
  },
  {
   "cell_type": "code",
   "execution_count": 12,
   "metadata": {},
   "outputs": [
    {
     "data": {
      "text/plain": [
       "array([[0.41666667, 0.55275974, 0.33333333, ..., 0.13432836, 0.15      ,\n",
       "        1.        ],\n",
       "       [0.08333333, 0.16071429, 0.        , ..., 0.14925373, 0.075     ,\n",
       "        0.68548925],\n",
       "       [0.16666667, 0.2987013 , 0.16666667, ..., 0.23880597, 0.175     ,\n",
       "        0.40384054],\n",
       "       ...,\n",
       "       [0.41666667, 0.16558442, 0.        , ..., 0.11940299, 0.075     ,\n",
       "        0.        ],\n",
       "       [0.16666667, 0.34902597, 0.        , ..., 0.23880597, 0.175     ,\n",
       "        0.02433865],\n",
       "       [0.        , 0.05357143, 0.        , ..., 0.        , 0.025     ,\n",
       "        0.02885943]])"
      ]
     },
     "execution_count": 12,
     "metadata": {},
     "output_type": "execute_result"
    }
   ],
   "source": [
    "data"
   ]
  },
  {
   "cell_type": "code",
   "execution_count": 14,
   "metadata": {},
   "outputs": [],
   "source": [
    "# import pandas as pd\n",
    "# from sklearn.datasets import load_iris\n",
    "# from sklearn.cluster import KMeans\n",
    "# import matplotlib.pyplot as plt\n",
    "\n",
    "\n",
    "# sse = {}\n",
    "# for k in range(1, 10):\n",
    "#     kmeans = KMeans(n_clusters=k, max_iter=1000).fit(data)\n",
    "#     #print(data[\"clusters\"])\n",
    "#     sse[k] = kmeans.inertia_ # Inertia: Sum of distances of samples to their closest cluster center\n",
    "# plt.figure()\n",
    "# plt.plot(list(sse.keys()), list(sse.values()))\n",
    "# plt.xlabel(\"Number of cluster\")\n",
    "# plt.ylabel(\"SSE\")\n",
    "# plt.show()"
   ]
  },
  {
   "cell_type": "code",
   "execution_count": 15,
   "metadata": {},
   "outputs": [],
   "source": [
    "from sklearn.cluster import KMeans\n",
    "import numpy as np\n",
    "X = data\n",
    "\n",
    "kmeans = KMeans(n_clusters=5,random_state=0).fit(X)\n",
    "kmeans.labels_\n",
    "\n",
    "pridiction=kmeans.predict(data)\n",
    "\n"
   ]
  },
  {
   "cell_type": "code",
   "execution_count": 16,
   "metadata": {},
   "outputs": [],
   "source": [
    "safety = []\n",
    "c = 0\n",
    "for li in kmeans.cluster_centers_:\n",
    "    sum = 0;\n",
    "    sum += li[3] + li[5] + li[7]\n",
    "    safety.append((sum,c))\n",
    "    c += 1\n",
    "safety = sorted(safety)"
   ]
  },
  {
   "cell_type": "code",
   "execution_count": 17,
   "metadata": {},
   "outputs": [
    {
     "data": {
      "text/plain": [
       "[(0.25862822812351577, 2),\n",
       " (0.6466648022641845, 1),\n",
       " (0.6952591694521474, 0),\n",
       " (1.0579625658879555, 4),\n",
       " (1.211779985167674, 3)]"
      ]
     },
     "execution_count": 17,
     "metadata": {},
     "output_type": "execute_result"
    }
   ],
   "source": [
    "safety"
   ]
  },
  {
   "cell_type": "code",
   "execution_count": 18,
   "metadata": {},
   "outputs": [],
   "source": [
    "dict1 = {}\n",
    "m = 0\n",
    "for s in safety:\n",
    "    dict1[s[1]] = m \n",
    "    m += 1"
   ]
  },
  {
   "cell_type": "code",
   "execution_count": 19,
   "metadata": {},
   "outputs": [
    {
     "data": {
      "text/plain": [
       "{2: 0, 1: 1, 0: 2, 4: 3, 3: 4}"
      ]
     },
     "execution_count": 19,
     "metadata": {},
     "output_type": "execute_result"
    }
   ],
   "source": [
    "dict1"
   ]
  },
  {
   "cell_type": "code",
   "execution_count": 20,
   "metadata": {},
   "outputs": [
    {
     "name": "stdout",
     "output_type": "stream",
     "text": [
      "[4 4 4 1 4 4 4 4 3 4 4 4 0 3 0 4 3 1 2 1 1 4 0 1 0 2 4 0 1 0 1 1 0 2 3 0 1\n",
      " 1 1 1 1 2 4 0 3 0 1 4 2 0 1 1 3 4 1 2 1 0 1 1 1 1 1 2 0 0 1 1 1 0 4 1 1 2\n",
      " 2 1 1 1 1 1 2 2 0 3 3 2 1 0 0 2 1 0 2 1 0 1 1 2 0 1 0 3 0 1 1 2 2 1 2 1 2\n",
      " 0 0 1 2 2 2 3 2 2 0 1 2 0 2 2 3 2 1 1 2 0 1 2 2 0 0 2 2 0 1 2 0 1 1 0 0 0\n",
      " 0 2 0 0 1 2 1 1 2 2 0 3 0 2 2 2 1 2]\n"
     ]
    }
   ],
   "source": [
    "# before\n",
    "print(pridiction)"
   ]
  },
  {
   "cell_type": "code",
   "execution_count": 21,
   "metadata": {},
   "outputs": [],
   "source": [
    "for i in range(len(pridiction)):\n",
    "    pridiction[i]=dict1[pridiction[i]]"
   ]
  },
  {
   "cell_type": "code",
   "execution_count": 22,
   "metadata": {},
   "outputs": [
    {
     "name": "stdout",
     "output_type": "stream",
     "text": [
      "[3 3 3 1 3 3 3 3 4 3 3 3 2 4 2 3 4 1 0 1 1 3 2 1 2 0 3 2 1 2 1 1 2 0 4 2 1\n",
      " 1 1 1 1 0 3 2 4 2 1 3 0 2 1 1 4 3 1 0 1 2 1 1 1 1 1 0 2 2 1 1 1 2 3 1 1 0\n",
      " 0 1 1 1 1 1 0 0 2 4 4 0 1 2 2 0 1 2 0 1 2 1 1 0 2 1 2 4 2 1 1 0 0 1 0 1 0\n",
      " 2 2 1 0 0 0 4 0 0 2 1 0 2 0 0 4 0 1 1 0 2 1 0 0 2 2 0 0 2 1 0 2 1 1 2 2 2\n",
      " 2 0 2 2 1 0 1 1 0 0 2 4 2 0 0 0 1 0]\n"
     ]
    }
   ],
   "source": [
    "# after\n",
    "print(pridiction)"
   ]
  },
  {
   "cell_type": "code",
   "execution_count": null,
   "metadata": {},
   "outputs": [],
   "source": []
  },
  {
   "cell_type": "code",
   "execution_count": 23,
   "metadata": {},
   "outputs": [
    {
     "name": "stdout",
     "output_type": "stream",
     "text": [
      "['JAFFARPUR KALAN' 'MUNDKA' 'BABA HARI DAS NAGAR' 'NAJAFGARH' 'CHHAWLA'\n",
      " 'KANJHAWALA' 'DWARKA NORTH' 'BAWANA' 'RANHOLA' 'BAWANA' 'BEGUM PUR'\n",
      " 'DWARKA SEC-23' 'AMAN VIHAR' 'UTTAM NAGAR' 'BINDAPUR' 'DWARKA SOUTH'\n",
      " 'NANGLOI' 'BINDAPUR' 'VIKAS PURI' 'NIHAL VIHAR' 'SULTAN PURI'\n",
      " 'SHAHBAD DAIRY' 'JANAK PURI' 'PALAM VILLAGE' 'DABRI' 'SAGARPUR'\n",
      " 'KAPASHERA' 'NARELA' 'MIANWALI NAGAR' 'MANGOLPURI' 'HARI NAGAR'\n",
      " 'PASCHIM VIHAR' 'TILAK NAGAR' 'VIJAY VIHAR' 'KHYALA' 'ROHINI SOUTH'\n",
      " 'ROHINI NORTH' 'RANI BAGH' 'RAJOURI GARDEN' 'RAJOURI GARDEN' 'MAYA PURI'\n",
      " 'KN KATJU MARG' 'DELHI CANTT' 'PRASHANT VIHAR' 'PUNJABI BAGH'\n",
      " 'KIRTI NAGAR' 'NARAINA' 'ALIPUR' 'SAMAYPURBADLI' 'SUBHASH PLACE'\n",
      " 'INDERPURI' 'MAURYA ENCLAVE' 'MOTI NAGAR' 'FATEHPUR BERI'\n",
      " 'VASANT KUNJ NORTH' 'VASANT KUNJ SOUTH' 'SWARUP NAGAR' 'SHALIMAR BAGH'\n",
      " 'PATEL NAGAR' 'RANJIT NAGAR' 'KESHAV PURAM' 'MAHENDRA PARK'\n",
      " 'BHALSWA DAIRY' 'VASANT VIHAR' 'ANAND PARBAT' 'ASHOK VIHAR'\n",
      " 'JAHANGIR PURI' 'ADRASH NAGAR' 'BHARAT NAGAR' 'SOUTH CAMPUS' 'MEHRAULI'\n",
      " 'PARSHAD NAGAR' 'RAJINDER NAGAR' 'SARAI ROHILLA' 'GULABIBAGH'\n",
      " 'KAROL BAGH' 'D.B.G ROAD' 'MODEL TOWN' 'CHANAKYAPURI' 'BURARI'\n",
      " 'SAFDARJUNG ENCLAVE' 'SAROJINI NAGAR' 'ROOP NAGAR' 'MANDIR MARG'\n",
      " 'MALVIYA NAGAR' 'SAFDARJUNG ENCLAVE' 'MAURICE NAGAR' 'SUBZIMANDI'\n",
      " 'BARA HINDU RAO' 'HAUZ KHAS' 'MUKHERJI NAGAR' 'PAHARGANJ' 'SADAR BAZAR'\n",
      " 'TUGLAK ROAD' 'PARLIAMENT STREET' 'NEB SARAI' 'CONNAUGHT PLACE'\n",
      " 'NABI KARIM' 'LAHORI GATE' 'CIVIL LINES' 'TIMARPUR' 'BARAKHAMBA ROAD'\n",
      " 'KOTALA MUBARAK PUR' 'HAUZQAZI' 'KASHMERE GATE' 'KAMLA MARKET' 'SAKET'\n",
      " 'KASHMERE GATE' 'GREATER KAILASH' 'DEFENCE COLONY' 'JAMA MASJID'\n",
      " 'PRASHANT VIHAR' 'TILAK MARG' 'CHANDNI MAHAL' 'LODHI COLONY'\n",
      " 'LAJPAT NAGAR' 'DARYA GANJ' 'AMAR COLONY' 'SANGAM VIHAR' 'H. N. DIN'\n",
      " 'I.P. ESTATE' 'CHITRANJAN PARK' 'KHAJURIKHAS' 'SONIA VIHAR' 'KALKAJI'\n",
      " 'KALKAJI' 'SUNLIGHT COLONY' 'NEW USMANPUR' 'BHAJANPURI' 'GOVIND PURI'\n",
      " 'GANDHI NAGAR' 'NEW FRIENDS COLONY' 'SEELAMPUR' 'SHAKARPUR' 'ZAFRABAD'\n",
      " 'KARAWAL NAGAR' 'OKHLA' 'WELCOME' 'GEETA COLONY' 'KRISHNA NAGAR'\n",
      " 'GOKULPURI' 'SARITA VIHAR' 'JAGATPURI' 'SHAHDARA' 'PULPRAHLAD PUR'\n",
      " 'JYOTI NAGAR' 'FARASH BAZAR' 'JAMIA NAGAR' 'ANANDVIHAR' 'PREETVIHAR'\n",
      " 'MANSAROVAR PARK' 'PANDAV NAGAR' 'BADAR PUR' 'MAYURVIHAR' 'MADHUVIHAR'\n",
      " 'MANDAWALI' 'SARITA VIHAR' 'VIVEKVIHAR' 'NANDNAGARI' 'NEW ASHOK NAGAR'\n",
      " 'ANANDVIHAR' 'G.T.B. ENCLAVE' 'SEEMAPURI' 'KALYANPURI' 'HARSH VIHAR'\n",
      " 'GHAZIPUR']\n"
     ]
    }
   ],
   "source": [
    "print(cr[\"localities\"].values)"
   ]
  },
  {
   "cell_type": "code",
   "execution_count": 26,
   "metadata": {},
   "outputs": [
    {
     "name": "stdout",
     "output_type": "stream",
     "text": [
      "[{'n': 'JAFFARPUR KALAN', 'properties': {'mag': 3}, 'lati': 76.9156, 'longi': 28.5957}, {'n': 'MUNDKA', 'properties': {'mag': 3}, 'lati': 76.9608, 'longi': 28.6704}, {'n': 'BABA HARI DAS NAGAR', 'properties': {'mag': 3}, 'lati': 76.9668, 'longi': 28.6287}, {'n': 'NAJAFGARH', 'properties': {'mag': 1}, 'lati': 76.9827, 'longi': 28.6098}, {'n': 'CHHAWLA', 'properties': {'mag': 3}, 'lati': 76.9947, 'longi': 28.5869}, {'n': 'KANJHAWALA', 'properties': {'mag': 3}, 'lati': 77.0036, 'longi': 28.7258}, {'n': 'DWARKA NORTH', 'properties': {'mag': 3}, 'lati': 77.0156, 'longi': 28.6037}, {'n': 'BAWANA', 'properties': {'mag': 3}, 'lati': 77.0228, 'longi': 28.8066}, {'n': 'RANHOLA', 'properties': {'mag': 4}, 'lati': 77.036, 'longi': 28.6538}, {'n': 'BAWANA', 'properties': {'mag': 3}, 'lati': 77.0425, 'longi': 28.7965}, {'n': 'BEGUM PUR', 'properties': {'mag': 3}, 'lati': 77.0518, 'longi': 28.7245}, {'n': 'DWARKA SEC-23', 'properties': {'mag': 3}, 'lati': 77.0585, 'longi': 28.5641}, {'n': 'AMAN VIHAR', 'properties': {'mag': 2}, 'lati': 77.0608, 'longi': 28.7096}, {'n': 'UTTAM NAGAR', 'properties': {'mag': 4}, 'lati': 77.0649, 'longi': 28.625}, {'n': 'BINDAPUR', 'properties': {'mag': 2}, 'lati': 77.0662, 'longi': 28.6091}, {'n': 'DWARKA SOUTH', 'properties': {'mag': 3}, 'lati': 77.0667, 'longi': 28.5784}, {'n': 'NANGLOI', 'properties': {'mag': 4}, 'lati': 77.067, 'longi': 28.682}, {'n': 'BINDAPUR', 'properties': {'mag': 1}, 'lati': 77.0674, 'longi': 28.6205}, {'n': 'VIKAS PURI', 'properties': {'mag': 0}, 'lati': 77.0683, 'longi': 28.63}, {'n': 'NIHAL VIHAR', 'properties': {'mag': 1}, 'lati': 77.0717, 'longi': 28.665}, {'n': 'SULTAN PURI', 'properties': {'mag': 1}, 'lati': 77.0786, 'longi': 28.7026}, {'n': 'SHAHBAD DAIRY', 'properties': {'mag': 3}, 'lati': 77.0789, 'longi': 28.7477}, {'n': 'JANAK PURI', 'properties': {'mag': 2}, 'lati': 77.0819, 'longi': 28.6286}, {'n': 'PALAM VILLAGE', 'properties': {'mag': 1}, 'lati': 77.0829, 'longi': 28.5881}, {'n': 'DABRI', 'properties': {'mag': 2}, 'lati': 77.086, 'longi': 28.6127}, {'n': 'SAGARPUR', 'properties': {'mag': 0}, 'lati': 77.0864, 'longi': 28.5914}, {'n': 'KAPASHERA', 'properties': {'mag': 3}, 'lati': 77.0872, 'longi': 28.5296}, {'n': 'NARELA', 'properties': {'mag': 2}, 'lati': 77.0885, 'longi': 28.8532}, {'n': 'MIANWALI NAGAR', 'properties': {'mag': 1}, 'lati': 77.0888, 'longi': 28.6796}, {'n': 'MANGOLPURI', 'properties': {'mag': 2}, 'lati': 77.0916, 'longi': 28.6966}, {'n': 'HARI NAGAR', 'properties': {'mag': 1}, 'lati': 77.0995, 'longi': 28.6094}, {'n': 'PASCHIM VIHAR', 'properties': {'mag': 1}, 'lati': 77.1012, 'longi': 28.6711}, {'n': 'TILAK NAGAR', 'properties': {'mag': 2}, 'lati': 77.1014, 'longi': 28.639}, {'n': 'VIJAY VIHAR', 'properties': {'mag': 0}, 'lati': 77.1019, 'longi': 28.71}, {'n': 'KHYALA', 'properties': {'mag': 4}, 'lati': 77.1133, 'longi': 28.6576}, {'n': 'ROHINI SOUTH', 'properties': {'mag': 2}, 'lati': 77.1159, 'longi': 28.7024}, {'n': 'ROHINI NORTH', 'properties': {'mag': 1}, 'lati': 77.1182, 'longi': 28.7089}, {'n': 'RANI BAGH', 'properties': {'mag': 1}, 'lati': 77.1193, 'longi': 28.6978}, {'n': 'RAJOURI GARDEN', 'properties': {'mag': 1}, 'lati': 77.1196, 'longi': 28.6515}, {'n': 'RAJOURI GARDEN', 'properties': {'mag': 1}, 'lati': 77.1199, 'longi': 28.6397}, {'n': 'MAYA PURI', 'properties': {'mag': 1}, 'lati': 77.1208, 'longi': 28.6266}, {'n': 'KN KATJU MARG', 'properties': {'mag': 0}, 'lati': 77.121, 'longi': 28.7304}, {'n': 'DELHI CANTT', 'properties': {'mag': 3}, 'lati': 77.1244, 'longi': 28.5987}, {'n': 'PRASHANT VIHAR', 'properties': {'mag': 2}, 'lati': 77.1276, 'longi': 28.7179}, {'n': 'PUNJABI BAGH', 'properties': {'mag': 4}, 'lati': 77.1328, 'longi': 28.6744}, {'n': 'KIRTI NAGAR', 'properties': {'mag': 2}, 'lati': 77.1351, 'longi': 28.6405}, {'n': 'NARAINA', 'properties': {'mag': 1}, 'lati': 77.1378, 'longi': 28.6336}, {'n': 'ALIPUR', 'properties': {'mag': 3}, 'lati': 77.1391, 'longi': 28.799}, {'n': 'SAMAYPURBADLI', 'properties': {'mag': 0}, 'lati': 77.1422, 'longi': 28.7252}, {'n': 'SUBHASH PLACE', 'properties': {'mag': 2}, 'lati': 77.1441, 'longi': 28.689}, {'n': 'INDERPURI', 'properties': {'mag': 1}, 'lati': 77.145, 'longi': 28.6308}, {'n': 'MAURYA ENCLAVE', 'properties': {'mag': 1}, 'lati': 77.146, 'longi': 28.7004}, {'n': 'MOTI NAGAR', 'properties': {'mag': 4}, 'lati': 77.1466, 'longi': 28.6601}, {'n': 'FATEHPUR BERI', 'properties': {'mag': 3}, 'lati': 77.1511, 'longi': 28.4655}, {'n': 'VASANT KUNJ NORTH', 'properties': {'mag': 1}, 'lati': 77.1523, 'longi': 28.5349}, {'n': 'VASANT KUNJ SOUTH', 'properties': {'mag': 0}, 'lati': 77.1524, 'longi': 28.5349}, {'n': 'SWARUP NAGAR', 'properties': {'mag': 1}, 'lati': 77.1562, 'longi': 28.7584}, {'n': 'SHALIMAR BAGH', 'properties': {'mag': 2}, 'lati': 77.1571, 'longi': 28.7168}, {'n': 'PATEL NAGAR', 'properties': {'mag': 1}, 'lati': 77.1582, 'longi': 28.6524}, {'n': 'RANJIT NAGAR', 'properties': {'mag': 1}, 'lati': 77.1587, 'longi': 28.6475}, {'n': 'KESHAV PURAM', 'properties': {'mag': 1}, 'lati': 77.1598, 'longi': 28.6842}, {'n': 'MAHENDRA PARK', 'properties': {'mag': 1}, 'lati': 77.1642, 'longi': 28.7258}, {'n': 'BHALSWA DAIRY', 'properties': {'mag': 1}, 'lati': 77.1657, 'longi': 28.7429}, {'n': 'VASANT VIHAR', 'properties': {'mag': 0}, 'lati': 77.1693, 'longi': 28.558}, {'n': 'ANAND PARBAT', 'properties': {'mag': 2}, 'lati': 77.1738, 'longi': 28.66}, {'n': 'ASHOK VIHAR', 'properties': {'mag': 2}, 'lati': 77.1743, 'longi': 28.6924}, {'n': 'JAHANGIR PURI', 'properties': {'mag': 1}, 'lati': 77.1749, 'longi': 28.7336}, {'n': 'ADRASH NAGAR', 'properties': {'mag': 1}, 'lati': 77.1753, 'longi': 28.7098}, {'n': 'BHARAT NAGAR', 'properties': {'mag': 1}, 'lati': 77.1785, 'longi': 28.6806}, {'n': 'SOUTH CAMPUS', 'properties': {'mag': 2}, 'lati': 77.179, 'longi': 28.5705}, {'n': 'MEHRAULI', 'properties': {'mag': 3}, 'lati': 77.1802, 'longi': 28.5215}, {'n': 'PARSHAD NAGAR', 'properties': {'mag': 1}, 'lati': 77.1805, 'longi': 28.6478}, {'n': 'RAJINDER NAGAR', 'properties': {'mag': 1}, 'lati': 77.1828, 'longi': 28.635}, {'n': 'SARAI ROHILLA', 'properties': {'mag': 0}, 'lati': 77.1837, 'longi': 28.6684}, {'n': 'GULABIBAGH', 'properties': {'mag': 0}, 'lati': 77.1926, 'longi': 28.67}, {'n': 'KAROL BAGH', 'properties': {'mag': 1}, 'lati': 77.1932, 'longi': 28.6526}, {'n': 'D.B.G ROAD', 'properties': {'mag': 1}, 'lati': 77.1933, 'longi': 28.6526}, {'n': 'MODEL TOWN', 'properties': {'mag': 1}, 'lati': 77.1937, 'longi': 28.7026}, {'n': 'CHANAKYAPURI', 'properties': {'mag': 1}, 'lati': 77.1961, 'longi': 28.6034}, {'n': 'BURARI', 'properties': {'mag': 1}, 'lati': 77.1974, 'longi': 28.7366}, {'n': 'SAFDARJUNG ENCLAVE', 'properties': {'mag': 0}, 'lati': 77.1986, 'longi': 28.5585}, {'n': 'SAROJINI NAGAR', 'properties': {'mag': 0}, 'lati': 77.1991, 'longi': 28.5745}, {'n': 'ROOP NAGAR', 'properties': {'mag': 2}, 'lati': 77.2026, 'longi': 28.685}, {'n': 'MANDIR MARG', 'properties': {'mag': 4}, 'lati': 77.2032, 'longi': 28.6386}, {'n': 'MALVIYA NAGAR', 'properties': {'mag': 4}, 'lati': 77.2042, 'longi': 28.5299}, {'n': 'SAFDARJUNG ENCLAVE', 'properties': {'mag': 0}, 'lati': 77.2049, 'longi': 28.5693}, {'n': 'MAURICE NAGAR', 'properties': {'mag': 1}, 'lati': 77.2065, 'longi': 28.6925}, {'n': 'SUBZIMANDI', 'properties': {'mag': 2}, 'lati': 77.2077, 'longi': 28.6692}, {'n': 'BARA HINDU RAO', 'properties': {'mag': 2}, 'lati': 77.2085, 'longi': 28.6654}, {'n': 'HAUZ KHAS', 'properties': {'mag': 0}, 'lati': 77.2085, 'longi': 28.5494}, {'n': 'MUKHERJI NAGAR', 'properties': {'mag': 1}, 'lati': 77.2086, 'longi': 28.7002}, {'n': 'PAHARGANJ', 'properties': {'mag': 2}, 'lati': 77.2093, 'longi': 28.6458}, {'n': 'SADAR BAZAR', 'properties': {'mag': 0}, 'lati': 77.2112, 'longi': 28.654}, {'n': 'TUGLAK ROAD', 'properties': {'mag': 1}, 'lati': 77.2112, 'longi': 28.5983}, {'n': 'PARLIAMENT STREET', 'properties': {'mag': 2}, 'lati': 77.2137, 'longi': 28.6247}, {'n': 'NEB SARAI', 'properties': {'mag': 1}, 'lati': 77.2143, 'longi': 28.4989}, {'n': 'CONNAUGHT PLACE', 'properties': {'mag': 1}, 'lati': 77.2143, 'longi': 28.63}, {'n': 'NABI KARIM', 'properties': {'mag': 0}, 'lati': 77.2175, 'longi': 28.6498}, {'n': 'LAHORI GATE', 'properties': {'mag': 2}, 'lati': 77.2188, 'longi': 28.6556}, {'n': 'CIVIL LINES', 'properties': {'mag': 1}, 'lati': 77.2215, 'longi': 28.6885}, {'n': 'TIMARPUR', 'properties': {'mag': 2}, 'lati': 77.2242, 'longi': 28.7072}, {'n': 'BARAKHAMBA ROAD', 'properties': {'mag': 4}, 'lati': 77.225, 'longi': 28.6309}, {'n': 'KOTALA MUBARAK PUR', 'properties': {'mag': 2}, 'lati': 77.2251, 'longi': 28.5759}, {'n': 'HAUZQAZI', 'properties': {'mag': 1}, 'lati': 77.2255, 'longi': 28.6434}, {'n': 'KASHMERE GATE', 'properties': {'mag': 1}, 'lati': 77.2262, 'longi': 28.6664}, {'n': 'KAMLA MARKET', 'properties': {'mag': 0}, 'lati': 77.2262, 'longi': 28.643}, {'n': 'SAKET', 'properties': {'mag': 0}, 'lati': 77.2272, 'longi': 28.5288}, {'n': 'KASHMERE GATE', 'properties': {'mag': 1}, 'lati': 77.2315, 'longi': 28.6625}, {'n': 'GREATER KAILASH', 'properties': {'mag': 0}, 'lati': 77.2328, 'longi': 28.5541}, {'n': 'DEFENCE COLONY', 'properties': {'mag': 1}, 'lati': 77.2334, 'longi': 28.5647}, {'n': 'JAMA MASJID', 'properties': {'mag': 0}, 'lati': 77.2336, 'longi': 28.6528}, {'n': 'PRASHANT VIHAR', 'properties': {'mag': 2}, 'lati': 77.2337, 'longi': 28.6042}, {'n': 'TILAK MARG', 'properties': {'mag': 2}, 'lati': 77.2354, 'longi': 28.6182}, {'n': 'CHANDNI MAHAL', 'properties': {'mag': 1}, 'lati': 77.2361, 'longi': 28.6436}, {'n': 'LODHI COLONY', 'properties': {'mag': 0}, 'lati': 77.2405, 'longi': 28.5874}, {'n': 'LAJPAT NAGAR', 'properties': {'mag': 0}, 'lati': 77.2405, 'longi': 28.5684}, {'n': 'DARYA GANJ', 'properties': {'mag': 0}, 'lati': 77.2406, 'longi': 28.6419}, {'n': 'AMAR COLONY', 'properties': {'mag': 4}, 'lati': 77.2409, 'longi': 28.5591}, {'n': 'SANGAM VIHAR', 'properties': {'mag': 0}, 'lati': 77.243, 'longi': 28.5096}, {'n': 'H. N. DIN', 'properties': {'mag': 0}, 'lati': 77.2442, 'longi': 28.5924}, {'n': 'I.P. ESTATE', 'properties': {'mag': 2}, 'lati': 77.2472, 'longi': 28.6274}, {'n': 'CHITRANJAN PARK', 'properties': {'mag': 1}, 'lati': 77.2492, 'longi': 28.5363}, {'n': 'KHAJURIKHAS', 'properties': {'mag': 0}, 'lati': 77.2561, 'longi': 28.7111}, {'n': 'SONIA VIHAR', 'properties': {'mag': 2}, 'lati': 77.2561, 'longi': 28.7113}, {'n': 'KALKAJI', 'properties': {'mag': 0}, 'lati': 77.2564, 'longi': 28.5473}, {'n': 'KALKAJI', 'properties': {'mag': 0}, 'lati': 77.2574, 'longi': 28.5332}, {'n': 'SUNLIGHT COLONY', 'properties': {'mag': 4}, 'lati': 77.2602, 'longi': 28.5784}, {'n': 'NEW USMANPUR', 'properties': {'mag': 0}, 'lati': 77.2621, 'longi': 28.672}, {'n': 'BHAJANPURI', 'properties': {'mag': 1}, 'lati': 77.2644, 'longi': 28.7013}, {'n': 'GOVIND PURI', 'properties': {'mag': 1}, 'lati': 77.2653, 'longi': 28.5307}, {'n': 'GANDHI NAGAR', 'properties': {'mag': 0}, 'lati': 77.2673, 'longi': 28.6596}, {'n': 'NEW FRIENDS COLONY', 'properties': {'mag': 2}, 'lati': 77.2676, 'longi': 28.5623}, {'n': 'SEELAMPUR', 'properties': {'mag': 1}, 'lati': 77.2686, 'longi': 28.6743}, {'n': 'SHAKARPUR', 'properties': {'mag': 0}, 'lati': 77.2703, 'longi': 28.6378}, {'n': 'ZAFRABAD', 'properties': {'mag': 0}, 'lati': 77.273, 'longi': 28.6791}, {'n': 'KARAWAL NAGAR', 'properties': {'mag': 2}, 'lati': 77.2745, 'longi': 28.7328}, {'n': 'OKHLA', 'properties': {'mag': 2}, 'lati': 77.2746, 'longi': 28.5268}, {'n': 'WELCOME', 'properties': {'mag': 0}, 'lati': 77.2748, 'longi': 28.6734}, {'n': 'GEETA COLONY', 'properties': {'mag': 0}, 'lati': 77.2764, 'longi': 28.6554}, {'n': 'KRISHNA NAGAR', 'properties': {'mag': 2}, 'lati': 77.2807, 'longi': 28.667}, {'n': 'GOKULPURI', 'properties': {'mag': 1}, 'lati': 77.2808, 'longi': 28.7022}, {'n': 'SARITA VIHAR', 'properties': {'mag': 0}, 'lati': 77.282, 'longi': 28.5405}, {'n': 'JAGATPURI', 'properties': {'mag': 2}, 'lati': 77.2839, 'longi': 28.6436}, {'n': 'SHAHDARA', 'properties': {'mag': 1}, 'lati': 77.2852, 'longi': 28.6742}, {'n': 'PULPRAHLAD PUR', 'properties': {'mag': 1}, 'lati': 77.291, 'longi': 28.5016}, {'n': 'JYOTI NAGAR', 'properties': {'mag': 2}, 'lati': 77.2917, 'longi': 28.6961}, {'n': 'FARASH BAZAR', 'properties': {'mag': 2}, 'lati': 77.2922, 'longi': 28.6688}, {'n': 'JAMIA NAGAR', 'properties': {'mag': 2}, 'lati': 77.2924, 'longi': 28.5621}, {'n': 'ANANDVIHAR', 'properties': {'mag': 2}, 'lati': 77.2937, 'longi': 28.6534}, {'n': 'PREETVIHAR', 'properties': {'mag': 0}, 'lati': 77.2953, 'longi': 28.6385}, {'n': 'MANSAROVAR PARK', 'properties': {'mag': 2}, 'lati': 77.2986, 'longi': 28.6828}, {'n': 'PANDAV NAGAR', 'properties': {'mag': 2}, 'lati': 77.3026, 'longi': 28.6204}, {'n': 'BADAR PUR', 'properties': {'mag': 1}, 'lati': 77.3036, 'longi': 28.4938}, {'n': 'MAYURVIHAR', 'properties': {'mag': 0}, 'lati': 77.3037, 'longi': 28.6073}, {'n': 'MADHUVIHAR', 'properties': {'mag': 1}, 'lati': 77.3061, 'longi': 28.6254}, {'n': 'MANDAWALI', 'properties': {'mag': 1}, 'lati': 77.3061, 'longi': 28.6254}, {'n': 'SARITA VIHAR', 'properties': {'mag': 0}, 'lati': 77.3062, 'longi': 28.523}, {'n': 'VIVEKVIHAR', 'properties': {'mag': 0}, 'lati': 77.3066, 'longi': 28.6668}, {'n': 'NANDNAGARI', 'properties': {'mag': 2}, 'lati': 77.3082, 'longi': 28.6985}, {'n': 'NEW ASHOK NAGAR', 'properties': {'mag': 4}, 'lati': 77.3118, 'longi': 28.5982}, {'n': 'ANANDVIHAR', 'properties': {'mag': 2}, 'lati': 77.3131, 'longi': 28.656}, {'n': 'G.T.B. ENCLAVE', 'properties': {'mag': 0}, 'lati': 77.316, 'longi': 28.685}, {'n': 'SEEMAPURI', 'properties': {'mag': 0}, 'lati': 77.3165, 'longi': 28.6781}, {'n': 'KALYANPURI', 'properties': {'mag': 0}, 'lati': 77.3171, 'longi': 28.6136}, {'n': 'HARSH VIHAR', 'properties': {'mag': 1}, 'lati': 77.3185, 'longi': 28.706}, {'n': 'GHAZIPUR', 'properties': {'mag': 0}, 'lati': 77.3327, 'longi': 28.6249}]\n"
     ]
    }
   ],
   "source": [
    "import numpy as np\n",
    "import matplotlib.pyplot as plt\n",
    "import pandas as pd\n",
    "\n",
    "\n",
    "X = cr.iloc[0:166, 0].values\n",
    "y1 = cr.iloc[:, 10].values\n",
    "y2 = cr.iloc[:, 11].values\n",
    "y = pridiction\n",
    "places = cr[\"localities\"].values\n",
    "new_array= []\n",
    "for i in range(0, 166):\n",
    "    str = places[i]+\", Delhi, India\"\n",
    "    new_array.append(str)\n",
    "\n",
    "\n",
    "lati = y2\n",
    "longi = y1\n",
    "\n",
    "ar = []\n",
    "   \n",
    "for i in range(0, 166):\n",
    "    y1[i] = round(y1[i], 4)\n",
    "    y2[i] = round(y2[i], 4)\n",
    "\n",
    "    o = {  \"n\": places[i],\n",
    "        \n",
    "           'mag': y[i],                 \n",
    "            'lati': y1[i], \n",
    "            'longi': y2[i]\n",
    "           \n",
    "            \n",
    "        }\n",
    "    ar.append(o)\n",
    "print(ar)\n"
   ]
  },
  {
   "cell_type": "code",
   "execution_count": 32,
   "metadata": {},
   "outputs": [
    {
     "data": {
      "text/html": [
       "<div>\n",
       "<style scoped>\n",
       "    .dataframe tbody tr th:only-of-type {\n",
       "        vertical-align: middle;\n",
       "    }\n",
       "\n",
       "    .dataframe tbody tr th {\n",
       "        vertical-align: top;\n",
       "    }\n",
       "\n",
       "    .dataframe thead th {\n",
       "        text-align: right;\n",
       "    }\n",
       "</style>\n",
       "<table border=\"1\" class=\"dataframe\">\n",
       "  <thead>\n",
       "    <tr style=\"text-align: right;\">\n",
       "      <th></th>\n",
       "      <th>lati</th>\n",
       "      <th>longi</th>\n",
       "      <th>n</th>\n",
       "      <th>properties</th>\n",
       "    </tr>\n",
       "  </thead>\n",
       "  <tbody>\n",
       "    <tr>\n",
       "      <th>0</th>\n",
       "      <td>76.9156</td>\n",
       "      <td>28.5957</td>\n",
       "      <td>JAFFARPUR KALAN</td>\n",
       "      <td>{'mag': 3}</td>\n",
       "    </tr>\n",
       "    <tr>\n",
       "      <th>1</th>\n",
       "      <td>76.9608</td>\n",
       "      <td>28.6704</td>\n",
       "      <td>MUNDKA</td>\n",
       "      <td>{'mag': 3}</td>\n",
       "    </tr>\n",
       "    <tr>\n",
       "      <th>2</th>\n",
       "      <td>76.9668</td>\n",
       "      <td>28.6287</td>\n",
       "      <td>BABA HARI DAS NAGAR</td>\n",
       "      <td>{'mag': 3}</td>\n",
       "    </tr>\n",
       "    <tr>\n",
       "      <th>3</th>\n",
       "      <td>76.9827</td>\n",
       "      <td>28.6098</td>\n",
       "      <td>NAJAFGARH</td>\n",
       "      <td>{'mag': 1}</td>\n",
       "    </tr>\n",
       "    <tr>\n",
       "      <th>4</th>\n",
       "      <td>76.9947</td>\n",
       "      <td>28.5869</td>\n",
       "      <td>CHHAWLA</td>\n",
       "      <td>{'mag': 3}</td>\n",
       "    </tr>\n",
       "  </tbody>\n",
       "</table>\n",
       "</div>"
      ],
      "text/plain": [
       "      lati    longi                    n  properties\n",
       "0  76.9156  28.5957      JAFFARPUR KALAN  {'mag': 3}\n",
       "1  76.9608  28.6704               MUNDKA  {'mag': 3}\n",
       "2  76.9668  28.6287  BABA HARI DAS NAGAR  {'mag': 3}\n",
       "3  76.9827  28.6098            NAJAFGARH  {'mag': 1}\n",
       "4  76.9947  28.5869              CHHAWLA  {'mag': 3}"
      ]
     },
     "execution_count": 32,
     "metadata": {},
     "output_type": "execute_result"
    }
   ],
   "source": [
    "loc=pd.DataFrame.from_dict(ar)\n",
    "loc.head()"
   ]
  },
  {
   "cell_type": "code",
   "execution_count": 33,
   "metadata": {},
   "outputs": [
    {
     "ename": "ProgrammingError",
     "evalue": "(mysql.connector.errors.ProgrammingError) Failed processing pyformat-parameters; Python 'dict' cannot be converted to a MySQL type [SQL: 'INSERT INTO final (lati, longi, n, properties) VALUES (%(lati)s, %(longi)s, %(n)s, %(properties)s)'] [parameters: ({'lati': 76.9156, 'longi': 28.5957, 'n': 'JAFFARPUR KALAN', 'properties': {'mag': 3}}, {'lati': 76.9608, 'longi': 28.6704, 'n': 'MUNDKA', 'properties': {'mag': 3}}, {'lati': 76.9668, 'longi': 28.6287, 'n': 'BABA HARI DAS NAGAR', 'properties': {'mag': 3}}, {'lati': 76.9827, 'longi': 28.6098, 'n': 'NAJAFGARH', 'properties': {'mag': 1}}, {'lati': 76.9947, 'longi': 28.5869, 'n': 'CHHAWLA', 'properties': {'mag': 3}}, {'lati': 77.0036, 'longi': 28.7258, 'n': 'KANJHAWALA', 'properties': {'mag': 3}}, {'lati': 77.0156, 'longi': 28.6037, 'n': 'DWARKA NORTH', 'properties': {'mag': 3}}, {'lati': 77.0228, 'longi': 28.8066, 'n': 'BAWANA', 'properties': {'mag': 3}}  ... displaying 10 of 166 total bound parameter sets ...  {'lati': 77.3185, 'longi': 28.706, 'n': 'HARSH VIHAR', 'properties': {'mag': 1}}, {'lati': 77.3327, 'longi': 28.6249, 'n': 'GHAZIPUR', 'properties': {'mag': 0}})] (Background on this error at: http://sqlalche.me/e/f405)",
     "output_type": "error",
     "traceback": [
      "\u001b[0;31m---------------------------------------------------------------------------\u001b[0m",
      "\u001b[0;31mAttributeError\u001b[0m                            Traceback (most recent call last)",
      "\u001b[0;32m~/anaconda3/lib/python3.6/site-packages/mysql/connector/conversion.py\u001b[0m in \u001b[0;36mto_mysql\u001b[0;34m(self, value)\u001b[0m\n\u001b[1;32m    178\u001b[0m         \u001b[0;32mtry\u001b[0m\u001b[0;34m:\u001b[0m\u001b[0;34m\u001b[0m\u001b[0m\n\u001b[0;32m--> 179\u001b[0;31m             \u001b[0;32mreturn\u001b[0m \u001b[0mgetattr\u001b[0m\u001b[0;34m(\u001b[0m\u001b[0mself\u001b[0m\u001b[0;34m,\u001b[0m \u001b[0;34m\"_{0}_to_mysql\"\u001b[0m\u001b[0;34m.\u001b[0m\u001b[0mformat\u001b[0m\u001b[0;34m(\u001b[0m\u001b[0mtype_name\u001b[0m\u001b[0;34m)\u001b[0m\u001b[0;34m)\u001b[0m\u001b[0;34m(\u001b[0m\u001b[0mvalue\u001b[0m\u001b[0;34m)\u001b[0m\u001b[0;34m\u001b[0m\u001b[0m\n\u001b[0m\u001b[1;32m    180\u001b[0m         \u001b[0;32mexcept\u001b[0m \u001b[0mAttributeError\u001b[0m\u001b[0;34m:\u001b[0m\u001b[0;34m\u001b[0m\u001b[0m\n",
      "\u001b[0;31mAttributeError\u001b[0m: 'MySQLConverter' object has no attribute '_dict_to_mysql'",
      "\nDuring handling of the above exception, another exception occurred:\n",
      "\u001b[0;31mTypeError\u001b[0m                                 Traceback (most recent call last)",
      "\u001b[0;32m~/anaconda3/lib/python3.6/site-packages/mysql/connector/cursor.py\u001b[0m in \u001b[0;36m_process_params_dict\u001b[0;34m(self, params)\u001b[0m\n\u001b[1;32m    394\u001b[0m                 \u001b[0mconv\u001b[0m \u001b[0;34m=\u001b[0m \u001b[0mvalue\u001b[0m\u001b[0;34m\u001b[0m\u001b[0m\n\u001b[0;32m--> 395\u001b[0;31m                 \u001b[0mconv\u001b[0m \u001b[0;34m=\u001b[0m \u001b[0mto_mysql\u001b[0m\u001b[0;34m(\u001b[0m\u001b[0mconv\u001b[0m\u001b[0;34m)\u001b[0m\u001b[0;34m\u001b[0m\u001b[0m\n\u001b[0m\u001b[1;32m    396\u001b[0m                 \u001b[0mconv\u001b[0m \u001b[0;34m=\u001b[0m \u001b[0mescape\u001b[0m\u001b[0;34m(\u001b[0m\u001b[0mconv\u001b[0m\u001b[0;34m)\u001b[0m\u001b[0;34m\u001b[0m\u001b[0m\n",
      "\u001b[0;32m~/anaconda3/lib/python3.6/site-packages/mysql/connector/conversion.py\u001b[0m in \u001b[0;36mto_mysql\u001b[0;34m(self, value)\u001b[0m\n\u001b[1;32m    181\u001b[0m             raise TypeError(\"Python '{0}' cannot be converted to a \"\n\u001b[0;32m--> 182\u001b[0;31m                             \"MySQL type\".format(type_name))\n\u001b[0m\u001b[1;32m    183\u001b[0m \u001b[0;34m\u001b[0m\u001b[0m\n",
      "\u001b[0;31mTypeError\u001b[0m: Python 'dict' cannot be converted to a MySQL type",
      "\nDuring handling of the above exception, another exception occurred:\n",
      "\u001b[0;31mProgrammingError\u001b[0m                          Traceback (most recent call last)",
      "\u001b[0;32m~/anaconda3/lib/python3.6/site-packages/sqlalchemy/engine/base.py\u001b[0m in \u001b[0;36m_execute_context\u001b[0;34m(self, dialect, constructor, statement, parameters, *args)\u001b[0m\n\u001b[1;32m   1169\u001b[0m                         \u001b[0mparameters\u001b[0m\u001b[0;34m,\u001b[0m\u001b[0;34m\u001b[0m\u001b[0m\n\u001b[0;32m-> 1170\u001b[0;31m                         context)\n\u001b[0m\u001b[1;32m   1171\u001b[0m             \u001b[0;32melif\u001b[0m \u001b[0;32mnot\u001b[0m \u001b[0mparameters\u001b[0m \u001b[0;32mand\u001b[0m \u001b[0mcontext\u001b[0m\u001b[0;34m.\u001b[0m\u001b[0mno_parameters\u001b[0m\u001b[0;34m:\u001b[0m\u001b[0;34m\u001b[0m\u001b[0m\n",
      "\u001b[0;32m~/anaconda3/lib/python3.6/site-packages/sqlalchemy/engine/default.py\u001b[0m in \u001b[0;36mdo_executemany\u001b[0;34m(self, cursor, statement, parameters, context)\u001b[0m\n\u001b[1;32m    503\u001b[0m     \u001b[0;32mdef\u001b[0m \u001b[0mdo_executemany\u001b[0m\u001b[0;34m(\u001b[0m\u001b[0mself\u001b[0m\u001b[0;34m,\u001b[0m \u001b[0mcursor\u001b[0m\u001b[0;34m,\u001b[0m \u001b[0mstatement\u001b[0m\u001b[0;34m,\u001b[0m \u001b[0mparameters\u001b[0m\u001b[0;34m,\u001b[0m \u001b[0mcontext\u001b[0m\u001b[0;34m=\u001b[0m\u001b[0;32mNone\u001b[0m\u001b[0;34m)\u001b[0m\u001b[0;34m:\u001b[0m\u001b[0;34m\u001b[0m\u001b[0m\n\u001b[0;32m--> 504\u001b[0;31m         \u001b[0mcursor\u001b[0m\u001b[0;34m.\u001b[0m\u001b[0mexecutemany\u001b[0m\u001b[0;34m(\u001b[0m\u001b[0mstatement\u001b[0m\u001b[0;34m,\u001b[0m \u001b[0mparameters\u001b[0m\u001b[0;34m)\u001b[0m\u001b[0;34m\u001b[0m\u001b[0m\n\u001b[0m\u001b[1;32m    505\u001b[0m \u001b[0;34m\u001b[0m\u001b[0m\n",
      "\u001b[0;32m~/anaconda3/lib/python3.6/site-packages/mysql/connector/cursor.py\u001b[0m in \u001b[0;36mexecutemany\u001b[0;34m(self, operation, seq_params)\u001b[0m\n\u001b[1;32m    651\u001b[0m                 \u001b[0;32mreturn\u001b[0m\u001b[0;34m\u001b[0m\u001b[0m\n\u001b[0;32m--> 652\u001b[0;31m             \u001b[0mstmt\u001b[0m \u001b[0;34m=\u001b[0m \u001b[0mself\u001b[0m\u001b[0;34m.\u001b[0m\u001b[0m_batch_insert\u001b[0m\u001b[0;34m(\u001b[0m\u001b[0moperation\u001b[0m\u001b[0;34m,\u001b[0m \u001b[0mseq_params\u001b[0m\u001b[0;34m)\u001b[0m\u001b[0;34m\u001b[0m\u001b[0m\n\u001b[0m\u001b[1;32m    653\u001b[0m             \u001b[0;32mif\u001b[0m \u001b[0mstmt\u001b[0m \u001b[0;32mis\u001b[0m \u001b[0;32mnot\u001b[0m \u001b[0;32mNone\u001b[0m\u001b[0;34m:\u001b[0m\u001b[0;34m\u001b[0m\u001b[0m\n",
      "\u001b[0;32m~/anaconda3/lib/python3.6/site-packages/mysql/connector/cursor.py\u001b[0m in \u001b[0;36m_batch_insert\u001b[0;34m(self, operation, seq_params)\u001b[0m\n\u001b[1;32m    590\u001b[0m                     tmp = _bytestr_format_dict(\n\u001b[0;32m--> 591\u001b[0;31m                         tmp, self._process_params_dict(params))\n\u001b[0m\u001b[1;32m    592\u001b[0m                 \u001b[0;32melse\u001b[0m\u001b[0;34m:\u001b[0m\u001b[0;34m\u001b[0m\u001b[0m\n",
      "\u001b[0;32m~/anaconda3/lib/python3.6/site-packages/mysql/connector/cursor.py\u001b[0m in \u001b[0;36m_process_params_dict\u001b[0;34m(self, params)\u001b[0m\n\u001b[1;32m    403\u001b[0m             raise errors.ProgrammingError(\n\u001b[0;32m--> 404\u001b[0;31m                 \"Failed processing pyformat-parameters; %s\" % err)\n\u001b[0m\u001b[1;32m    405\u001b[0m         \u001b[0;32melse\u001b[0m\u001b[0;34m:\u001b[0m\u001b[0;34m\u001b[0m\u001b[0m\n",
      "\u001b[0;31mProgrammingError\u001b[0m: Failed processing pyformat-parameters; Python 'dict' cannot be converted to a MySQL type",
      "\nThe above exception was the direct cause of the following exception:\n",
      "\u001b[0;31mProgrammingError\u001b[0m                          Traceback (most recent call last)",
      "\u001b[0;32m<ipython-input-33-5b438940bc6b>\u001b[0m in \u001b[0;36m<module>\u001b[0;34m()\u001b[0m\n\u001b[0;32m----> 1\u001b[0;31m \u001b[0mloc\u001b[0m\u001b[0;34m.\u001b[0m\u001b[0mto_sql\u001b[0m\u001b[0;34m(\u001b[0m\u001b[0;34m'final'\u001b[0m\u001b[0;34m,\u001b[0m \u001b[0mcon\u001b[0m\u001b[0;34m=\u001b[0m\u001b[0mdatabase_connection\u001b[0m\u001b[0;34m,\u001b[0m \u001b[0mif_exists\u001b[0m\u001b[0;34m=\u001b[0m\u001b[0;34m'replace'\u001b[0m\u001b[0;34m,\u001b[0m\u001b[0mchunksize\u001b[0m\u001b[0;34m=\u001b[0m\u001b[0;36m1000\u001b[0m\u001b[0;34m,\u001b[0m\u001b[0mindex\u001b[0m\u001b[0;34m=\u001b[0m\u001b[0;32mFalse\u001b[0m\u001b[0;34m)\u001b[0m\u001b[0;34m\u001b[0m\u001b[0m\n\u001b[0m",
      "\u001b[0;32m~/anaconda3/lib/python3.6/site-packages/pandas/core/generic.py\u001b[0m in \u001b[0;36mto_sql\u001b[0;34m(self, name, con, schema, if_exists, index, index_label, chunksize, dtype, method)\u001b[0m\n\u001b[1;32m   2529\u001b[0m         sql.to_sql(self, name, con, schema=schema, if_exists=if_exists,\n\u001b[1;32m   2530\u001b[0m                    \u001b[0mindex\u001b[0m\u001b[0;34m=\u001b[0m\u001b[0mindex\u001b[0m\u001b[0;34m,\u001b[0m \u001b[0mindex_label\u001b[0m\u001b[0;34m=\u001b[0m\u001b[0mindex_label\u001b[0m\u001b[0;34m,\u001b[0m \u001b[0mchunksize\u001b[0m\u001b[0;34m=\u001b[0m\u001b[0mchunksize\u001b[0m\u001b[0;34m,\u001b[0m\u001b[0;34m\u001b[0m\u001b[0m\n\u001b[0;32m-> 2531\u001b[0;31m                    dtype=dtype, method=method)\n\u001b[0m\u001b[1;32m   2532\u001b[0m \u001b[0;34m\u001b[0m\u001b[0m\n\u001b[1;32m   2533\u001b[0m     def to_pickle(self, path, compression='infer',\n",
      "\u001b[0;32m~/anaconda3/lib/python3.6/site-packages/pandas/io/sql.py\u001b[0m in \u001b[0;36mto_sql\u001b[0;34m(frame, name, con, schema, if_exists, index, index_label, chunksize, dtype, method)\u001b[0m\n\u001b[1;32m    458\u001b[0m     pandas_sql.to_sql(frame, name, if_exists=if_exists, index=index,\n\u001b[1;32m    459\u001b[0m                       \u001b[0mindex_label\u001b[0m\u001b[0;34m=\u001b[0m\u001b[0mindex_label\u001b[0m\u001b[0;34m,\u001b[0m \u001b[0mschema\u001b[0m\u001b[0;34m=\u001b[0m\u001b[0mschema\u001b[0m\u001b[0;34m,\u001b[0m\u001b[0;34m\u001b[0m\u001b[0m\n\u001b[0;32m--> 460\u001b[0;31m                       chunksize=chunksize, dtype=dtype, method=method)\n\u001b[0m\u001b[1;32m    461\u001b[0m \u001b[0;34m\u001b[0m\u001b[0m\n\u001b[1;32m    462\u001b[0m \u001b[0;34m\u001b[0m\u001b[0m\n",
      "\u001b[0;32m~/anaconda3/lib/python3.6/site-packages/pandas/io/sql.py\u001b[0m in \u001b[0;36mto_sql\u001b[0;34m(self, frame, name, if_exists, index, index_label, schema, chunksize, dtype, method)\u001b[0m\n\u001b[1;32m   1172\u001b[0m                          schema=schema, dtype=dtype)\n\u001b[1;32m   1173\u001b[0m         \u001b[0mtable\u001b[0m\u001b[0;34m.\u001b[0m\u001b[0mcreate\u001b[0m\u001b[0;34m(\u001b[0m\u001b[0;34m)\u001b[0m\u001b[0;34m\u001b[0m\u001b[0m\n\u001b[0;32m-> 1174\u001b[0;31m         \u001b[0mtable\u001b[0m\u001b[0;34m.\u001b[0m\u001b[0minsert\u001b[0m\u001b[0;34m(\u001b[0m\u001b[0mchunksize\u001b[0m\u001b[0;34m,\u001b[0m \u001b[0mmethod\u001b[0m\u001b[0;34m=\u001b[0m\u001b[0mmethod\u001b[0m\u001b[0;34m)\u001b[0m\u001b[0;34m\u001b[0m\u001b[0m\n\u001b[0m\u001b[1;32m   1175\u001b[0m         \u001b[0;32mif\u001b[0m \u001b[0;34m(\u001b[0m\u001b[0;32mnot\u001b[0m \u001b[0mname\u001b[0m\u001b[0;34m.\u001b[0m\u001b[0misdigit\u001b[0m\u001b[0;34m(\u001b[0m\u001b[0;34m)\u001b[0m \u001b[0;32mand\u001b[0m \u001b[0;32mnot\u001b[0m \u001b[0mname\u001b[0m\u001b[0;34m.\u001b[0m\u001b[0mislower\u001b[0m\u001b[0;34m(\u001b[0m\u001b[0;34m)\u001b[0m\u001b[0;34m)\u001b[0m\u001b[0;34m:\u001b[0m\u001b[0;34m\u001b[0m\u001b[0m\n\u001b[1;32m   1176\u001b[0m             \u001b[0;31m# check for potentially case sensitivity issues (GH7815)\u001b[0m\u001b[0;34m\u001b[0m\u001b[0;34m\u001b[0m\u001b[0m\n",
      "\u001b[0;32m~/anaconda3/lib/python3.6/site-packages/pandas/io/sql.py\u001b[0m in \u001b[0;36minsert\u001b[0;34m(self, chunksize, method)\u001b[0m\n\u001b[1;32m    684\u001b[0m \u001b[0;34m\u001b[0m\u001b[0m\n\u001b[1;32m    685\u001b[0m                 \u001b[0mchunk_iter\u001b[0m \u001b[0;34m=\u001b[0m \u001b[0mzip\u001b[0m\u001b[0;34m(\u001b[0m\u001b[0;34m*\u001b[0m\u001b[0;34m[\u001b[0m\u001b[0marr\u001b[0m\u001b[0;34m[\u001b[0m\u001b[0mstart_i\u001b[0m\u001b[0;34m:\u001b[0m\u001b[0mend_i\u001b[0m\u001b[0;34m]\u001b[0m \u001b[0;32mfor\u001b[0m \u001b[0marr\u001b[0m \u001b[0;32min\u001b[0m \u001b[0mdata_list\u001b[0m\u001b[0;34m]\u001b[0m\u001b[0;34m)\u001b[0m\u001b[0;34m\u001b[0m\u001b[0m\n\u001b[0;32m--> 686\u001b[0;31m                 \u001b[0mexec_insert\u001b[0m\u001b[0;34m(\u001b[0m\u001b[0mconn\u001b[0m\u001b[0;34m,\u001b[0m \u001b[0mkeys\u001b[0m\u001b[0;34m,\u001b[0m \u001b[0mchunk_iter\u001b[0m\u001b[0;34m)\u001b[0m\u001b[0;34m\u001b[0m\u001b[0m\n\u001b[0m\u001b[1;32m    687\u001b[0m \u001b[0;34m\u001b[0m\u001b[0m\n\u001b[1;32m    688\u001b[0m     def _query_iterator(self, result, chunksize, columns, coerce_float=True,\n",
      "\u001b[0;32m~/anaconda3/lib/python3.6/site-packages/pandas/io/sql.py\u001b[0m in \u001b[0;36m_execute_insert\u001b[0;34m(self, conn, keys, data_iter)\u001b[0m\n\u001b[1;32m    597\u001b[0m         \"\"\"\n\u001b[1;32m    598\u001b[0m         \u001b[0mdata\u001b[0m \u001b[0;34m=\u001b[0m \u001b[0;34m[\u001b[0m\u001b[0mdict\u001b[0m\u001b[0;34m(\u001b[0m\u001b[0mzip\u001b[0m\u001b[0;34m(\u001b[0m\u001b[0mkeys\u001b[0m\u001b[0;34m,\u001b[0m \u001b[0mrow\u001b[0m\u001b[0;34m)\u001b[0m\u001b[0;34m)\u001b[0m \u001b[0;32mfor\u001b[0m \u001b[0mrow\u001b[0m \u001b[0;32min\u001b[0m \u001b[0mdata_iter\u001b[0m\u001b[0;34m]\u001b[0m\u001b[0;34m\u001b[0m\u001b[0m\n\u001b[0;32m--> 599\u001b[0;31m         \u001b[0mconn\u001b[0m\u001b[0;34m.\u001b[0m\u001b[0mexecute\u001b[0m\u001b[0;34m(\u001b[0m\u001b[0mself\u001b[0m\u001b[0;34m.\u001b[0m\u001b[0mtable\u001b[0m\u001b[0;34m.\u001b[0m\u001b[0minsert\u001b[0m\u001b[0;34m(\u001b[0m\u001b[0;34m)\u001b[0m\u001b[0;34m,\u001b[0m \u001b[0mdata\u001b[0m\u001b[0;34m)\u001b[0m\u001b[0;34m\u001b[0m\u001b[0m\n\u001b[0m\u001b[1;32m    600\u001b[0m \u001b[0;34m\u001b[0m\u001b[0m\n\u001b[1;32m    601\u001b[0m     \u001b[0;32mdef\u001b[0m \u001b[0m_execute_insert_multi\u001b[0m\u001b[0;34m(\u001b[0m\u001b[0mself\u001b[0m\u001b[0;34m,\u001b[0m \u001b[0mconn\u001b[0m\u001b[0;34m,\u001b[0m \u001b[0mkeys\u001b[0m\u001b[0;34m,\u001b[0m \u001b[0mdata_iter\u001b[0m\u001b[0;34m)\u001b[0m\u001b[0;34m:\u001b[0m\u001b[0;34m\u001b[0m\u001b[0m\n",
      "\u001b[0;32m~/anaconda3/lib/python3.6/site-packages/sqlalchemy/engine/base.py\u001b[0m in \u001b[0;36mexecute\u001b[0;34m(self, object, *multiparams, **params)\u001b[0m\n\u001b[1;32m    946\u001b[0m             \u001b[0;32mraise\u001b[0m \u001b[0mexc\u001b[0m\u001b[0;34m.\u001b[0m\u001b[0mObjectNotExecutableError\u001b[0m\u001b[0;34m(\u001b[0m\u001b[0mobject\u001b[0m\u001b[0;34m)\u001b[0m\u001b[0;34m\u001b[0m\u001b[0m\n\u001b[1;32m    947\u001b[0m         \u001b[0;32melse\u001b[0m\u001b[0;34m:\u001b[0m\u001b[0;34m\u001b[0m\u001b[0m\n\u001b[0;32m--> 948\u001b[0;31m             \u001b[0;32mreturn\u001b[0m \u001b[0mmeth\u001b[0m\u001b[0;34m(\u001b[0m\u001b[0mself\u001b[0m\u001b[0;34m,\u001b[0m \u001b[0mmultiparams\u001b[0m\u001b[0;34m,\u001b[0m \u001b[0mparams\u001b[0m\u001b[0;34m)\u001b[0m\u001b[0;34m\u001b[0m\u001b[0m\n\u001b[0m\u001b[1;32m    949\u001b[0m \u001b[0;34m\u001b[0m\u001b[0m\n\u001b[1;32m    950\u001b[0m     \u001b[0;32mdef\u001b[0m \u001b[0m_execute_function\u001b[0m\u001b[0;34m(\u001b[0m\u001b[0mself\u001b[0m\u001b[0;34m,\u001b[0m \u001b[0mfunc\u001b[0m\u001b[0;34m,\u001b[0m \u001b[0mmultiparams\u001b[0m\u001b[0;34m,\u001b[0m \u001b[0mparams\u001b[0m\u001b[0;34m)\u001b[0m\u001b[0;34m:\u001b[0m\u001b[0;34m\u001b[0m\u001b[0m\n",
      "\u001b[0;32m~/anaconda3/lib/python3.6/site-packages/sqlalchemy/sql/elements.py\u001b[0m in \u001b[0;36m_execute_on_connection\u001b[0;34m(self, connection, multiparams, params)\u001b[0m\n\u001b[1;32m    267\u001b[0m     \u001b[0;32mdef\u001b[0m \u001b[0m_execute_on_connection\u001b[0m\u001b[0;34m(\u001b[0m\u001b[0mself\u001b[0m\u001b[0;34m,\u001b[0m \u001b[0mconnection\u001b[0m\u001b[0;34m,\u001b[0m \u001b[0mmultiparams\u001b[0m\u001b[0;34m,\u001b[0m \u001b[0mparams\u001b[0m\u001b[0;34m)\u001b[0m\u001b[0;34m:\u001b[0m\u001b[0;34m\u001b[0m\u001b[0m\n\u001b[1;32m    268\u001b[0m         \u001b[0;32mif\u001b[0m \u001b[0mself\u001b[0m\u001b[0;34m.\u001b[0m\u001b[0msupports_execution\u001b[0m\u001b[0;34m:\u001b[0m\u001b[0;34m\u001b[0m\u001b[0m\n\u001b[0;32m--> 269\u001b[0;31m             \u001b[0;32mreturn\u001b[0m \u001b[0mconnection\u001b[0m\u001b[0;34m.\u001b[0m\u001b[0m_execute_clauseelement\u001b[0m\u001b[0;34m(\u001b[0m\u001b[0mself\u001b[0m\u001b[0;34m,\u001b[0m \u001b[0mmultiparams\u001b[0m\u001b[0;34m,\u001b[0m \u001b[0mparams\u001b[0m\u001b[0;34m)\u001b[0m\u001b[0;34m\u001b[0m\u001b[0m\n\u001b[0m\u001b[1;32m    270\u001b[0m         \u001b[0;32melse\u001b[0m\u001b[0;34m:\u001b[0m\u001b[0;34m\u001b[0m\u001b[0m\n\u001b[1;32m    271\u001b[0m             \u001b[0;32mraise\u001b[0m \u001b[0mexc\u001b[0m\u001b[0;34m.\u001b[0m\u001b[0mObjectNotExecutableError\u001b[0m\u001b[0;34m(\u001b[0m\u001b[0mself\u001b[0m\u001b[0;34m)\u001b[0m\u001b[0;34m\u001b[0m\u001b[0m\n",
      "\u001b[0;32m~/anaconda3/lib/python3.6/site-packages/sqlalchemy/engine/base.py\u001b[0m in \u001b[0;36m_execute_clauseelement\u001b[0;34m(self, elem, multiparams, params)\u001b[0m\n\u001b[1;32m   1058\u001b[0m             \u001b[0mcompiled_sql\u001b[0m\u001b[0;34m,\u001b[0m\u001b[0;34m\u001b[0m\u001b[0m\n\u001b[1;32m   1059\u001b[0m             \u001b[0mdistilled_params\u001b[0m\u001b[0;34m,\u001b[0m\u001b[0;34m\u001b[0m\u001b[0m\n\u001b[0;32m-> 1060\u001b[0;31m             \u001b[0mcompiled_sql\u001b[0m\u001b[0;34m,\u001b[0m \u001b[0mdistilled_params\u001b[0m\u001b[0;34m\u001b[0m\u001b[0m\n\u001b[0m\u001b[1;32m   1061\u001b[0m         )\n\u001b[1;32m   1062\u001b[0m         \u001b[0;32mif\u001b[0m \u001b[0mself\u001b[0m\u001b[0;34m.\u001b[0m\u001b[0m_has_events\u001b[0m \u001b[0;32mor\u001b[0m \u001b[0mself\u001b[0m\u001b[0;34m.\u001b[0m\u001b[0mengine\u001b[0m\u001b[0;34m.\u001b[0m\u001b[0m_has_events\u001b[0m\u001b[0;34m:\u001b[0m\u001b[0;34m\u001b[0m\u001b[0m\n",
      "\u001b[0;32m~/anaconda3/lib/python3.6/site-packages/sqlalchemy/engine/base.py\u001b[0m in \u001b[0;36m_execute_context\u001b[0;34m(self, dialect, constructor, statement, parameters, *args)\u001b[0m\n\u001b[1;32m   1198\u001b[0m                 \u001b[0mparameters\u001b[0m\u001b[0;34m,\u001b[0m\u001b[0;34m\u001b[0m\u001b[0m\n\u001b[1;32m   1199\u001b[0m                 \u001b[0mcursor\u001b[0m\u001b[0;34m,\u001b[0m\u001b[0;34m\u001b[0m\u001b[0m\n\u001b[0;32m-> 1200\u001b[0;31m                 context)\n\u001b[0m\u001b[1;32m   1201\u001b[0m \u001b[0;34m\u001b[0m\u001b[0m\n\u001b[1;32m   1202\u001b[0m         \u001b[0;32mif\u001b[0m \u001b[0mself\u001b[0m\u001b[0;34m.\u001b[0m\u001b[0m_has_events\u001b[0m \u001b[0;32mor\u001b[0m \u001b[0mself\u001b[0m\u001b[0;34m.\u001b[0m\u001b[0mengine\u001b[0m\u001b[0;34m.\u001b[0m\u001b[0m_has_events\u001b[0m\u001b[0;34m:\u001b[0m\u001b[0;34m\u001b[0m\u001b[0m\n",
      "\u001b[0;32m~/anaconda3/lib/python3.6/site-packages/sqlalchemy/engine/base.py\u001b[0m in \u001b[0;36m_handle_dbapi_exception\u001b[0;34m(self, e, statement, parameters, cursor, context)\u001b[0m\n\u001b[1;32m   1411\u001b[0m                 util.raise_from_cause(\n\u001b[1;32m   1412\u001b[0m                     \u001b[0msqlalchemy_exception\u001b[0m\u001b[0;34m,\u001b[0m\u001b[0;34m\u001b[0m\u001b[0m\n\u001b[0;32m-> 1413\u001b[0;31m                     \u001b[0mexc_info\u001b[0m\u001b[0;34m\u001b[0m\u001b[0m\n\u001b[0m\u001b[1;32m   1414\u001b[0m                 )\n\u001b[1;32m   1415\u001b[0m             \u001b[0;32melse\u001b[0m\u001b[0;34m:\u001b[0m\u001b[0;34m\u001b[0m\u001b[0m\n",
      "\u001b[0;32m~/anaconda3/lib/python3.6/site-packages/sqlalchemy/util/compat.py\u001b[0m in \u001b[0;36mraise_from_cause\u001b[0;34m(exception, exc_info)\u001b[0m\n\u001b[1;32m    201\u001b[0m     \u001b[0mexc_type\u001b[0m\u001b[0;34m,\u001b[0m \u001b[0mexc_value\u001b[0m\u001b[0;34m,\u001b[0m \u001b[0mexc_tb\u001b[0m \u001b[0;34m=\u001b[0m \u001b[0mexc_info\u001b[0m\u001b[0;34m\u001b[0m\u001b[0m\n\u001b[1;32m    202\u001b[0m     \u001b[0mcause\u001b[0m \u001b[0;34m=\u001b[0m \u001b[0mexc_value\u001b[0m \u001b[0;32mif\u001b[0m \u001b[0mexc_value\u001b[0m \u001b[0;32mis\u001b[0m \u001b[0;32mnot\u001b[0m \u001b[0mexception\u001b[0m \u001b[0;32melse\u001b[0m \u001b[0;32mNone\u001b[0m\u001b[0;34m\u001b[0m\u001b[0m\n\u001b[0;32m--> 203\u001b[0;31m     \u001b[0mreraise\u001b[0m\u001b[0;34m(\u001b[0m\u001b[0mtype\u001b[0m\u001b[0;34m(\u001b[0m\u001b[0mexception\u001b[0m\u001b[0;34m)\u001b[0m\u001b[0;34m,\u001b[0m \u001b[0mexception\u001b[0m\u001b[0;34m,\u001b[0m \u001b[0mtb\u001b[0m\u001b[0;34m=\u001b[0m\u001b[0mexc_tb\u001b[0m\u001b[0;34m,\u001b[0m \u001b[0mcause\u001b[0m\u001b[0;34m=\u001b[0m\u001b[0mcause\u001b[0m\u001b[0;34m)\u001b[0m\u001b[0;34m\u001b[0m\u001b[0m\n\u001b[0m\u001b[1;32m    204\u001b[0m \u001b[0;34m\u001b[0m\u001b[0m\n\u001b[1;32m    205\u001b[0m \u001b[0;32mif\u001b[0m \u001b[0mpy3k\u001b[0m\u001b[0;34m:\u001b[0m\u001b[0;34m\u001b[0m\u001b[0m\n",
      "\u001b[0;32m~/anaconda3/lib/python3.6/site-packages/sqlalchemy/util/compat.py\u001b[0m in \u001b[0;36mreraise\u001b[0;34m(tp, value, tb, cause)\u001b[0m\n\u001b[1;32m    184\u001b[0m             \u001b[0mvalue\u001b[0m\u001b[0;34m.\u001b[0m\u001b[0m__cause__\u001b[0m \u001b[0;34m=\u001b[0m \u001b[0mcause\u001b[0m\u001b[0;34m\u001b[0m\u001b[0m\n\u001b[1;32m    185\u001b[0m         \u001b[0;32mif\u001b[0m \u001b[0mvalue\u001b[0m\u001b[0;34m.\u001b[0m\u001b[0m__traceback__\u001b[0m \u001b[0;32mis\u001b[0m \u001b[0;32mnot\u001b[0m \u001b[0mtb\u001b[0m\u001b[0;34m:\u001b[0m\u001b[0;34m\u001b[0m\u001b[0m\n\u001b[0;32m--> 186\u001b[0;31m             \u001b[0;32mraise\u001b[0m \u001b[0mvalue\u001b[0m\u001b[0;34m.\u001b[0m\u001b[0mwith_traceback\u001b[0m\u001b[0;34m(\u001b[0m\u001b[0mtb\u001b[0m\u001b[0;34m)\u001b[0m\u001b[0;34m\u001b[0m\u001b[0m\n\u001b[0m\u001b[1;32m    187\u001b[0m         \u001b[0;32mraise\u001b[0m \u001b[0mvalue\u001b[0m\u001b[0;34m\u001b[0m\u001b[0m\n\u001b[1;32m    188\u001b[0m \u001b[0;34m\u001b[0m\u001b[0m\n",
      "\u001b[0;32m~/anaconda3/lib/python3.6/site-packages/sqlalchemy/engine/base.py\u001b[0m in \u001b[0;36m_execute_context\u001b[0;34m(self, dialect, constructor, statement, parameters, *args)\u001b[0m\n\u001b[1;32m   1168\u001b[0m                         \u001b[0mstatement\u001b[0m\u001b[0;34m,\u001b[0m\u001b[0;34m\u001b[0m\u001b[0m\n\u001b[1;32m   1169\u001b[0m                         \u001b[0mparameters\u001b[0m\u001b[0;34m,\u001b[0m\u001b[0;34m\u001b[0m\u001b[0m\n\u001b[0;32m-> 1170\u001b[0;31m                         context)\n\u001b[0m\u001b[1;32m   1171\u001b[0m             \u001b[0;32melif\u001b[0m \u001b[0;32mnot\u001b[0m \u001b[0mparameters\u001b[0m \u001b[0;32mand\u001b[0m \u001b[0mcontext\u001b[0m\u001b[0;34m.\u001b[0m\u001b[0mno_parameters\u001b[0m\u001b[0;34m:\u001b[0m\u001b[0;34m\u001b[0m\u001b[0m\n\u001b[1;32m   1172\u001b[0m                 \u001b[0;32mif\u001b[0m \u001b[0mself\u001b[0m\u001b[0;34m.\u001b[0m\u001b[0mdialect\u001b[0m\u001b[0;34m.\u001b[0m\u001b[0m_has_events\u001b[0m\u001b[0;34m:\u001b[0m\u001b[0;34m\u001b[0m\u001b[0m\n",
      "\u001b[0;32m~/anaconda3/lib/python3.6/site-packages/sqlalchemy/engine/default.py\u001b[0m in \u001b[0;36mdo_executemany\u001b[0;34m(self, cursor, statement, parameters, context)\u001b[0m\n\u001b[1;32m    502\u001b[0m \u001b[0;34m\u001b[0m\u001b[0m\n\u001b[1;32m    503\u001b[0m     \u001b[0;32mdef\u001b[0m \u001b[0mdo_executemany\u001b[0m\u001b[0;34m(\u001b[0m\u001b[0mself\u001b[0m\u001b[0;34m,\u001b[0m \u001b[0mcursor\u001b[0m\u001b[0;34m,\u001b[0m \u001b[0mstatement\u001b[0m\u001b[0;34m,\u001b[0m \u001b[0mparameters\u001b[0m\u001b[0;34m,\u001b[0m \u001b[0mcontext\u001b[0m\u001b[0;34m=\u001b[0m\u001b[0;32mNone\u001b[0m\u001b[0;34m)\u001b[0m\u001b[0;34m:\u001b[0m\u001b[0;34m\u001b[0m\u001b[0m\n\u001b[0;32m--> 504\u001b[0;31m         \u001b[0mcursor\u001b[0m\u001b[0;34m.\u001b[0m\u001b[0mexecutemany\u001b[0m\u001b[0;34m(\u001b[0m\u001b[0mstatement\u001b[0m\u001b[0;34m,\u001b[0m \u001b[0mparameters\u001b[0m\u001b[0;34m)\u001b[0m\u001b[0;34m\u001b[0m\u001b[0m\n\u001b[0m\u001b[1;32m    505\u001b[0m \u001b[0;34m\u001b[0m\u001b[0m\n\u001b[1;32m    506\u001b[0m     \u001b[0;32mdef\u001b[0m \u001b[0mdo_execute\u001b[0m\u001b[0;34m(\u001b[0m\u001b[0mself\u001b[0m\u001b[0;34m,\u001b[0m \u001b[0mcursor\u001b[0m\u001b[0;34m,\u001b[0m \u001b[0mstatement\u001b[0m\u001b[0;34m,\u001b[0m \u001b[0mparameters\u001b[0m\u001b[0;34m,\u001b[0m \u001b[0mcontext\u001b[0m\u001b[0;34m=\u001b[0m\u001b[0;32mNone\u001b[0m\u001b[0;34m)\u001b[0m\u001b[0;34m:\u001b[0m\u001b[0;34m\u001b[0m\u001b[0m\n",
      "\u001b[0;32m~/anaconda3/lib/python3.6/site-packages/mysql/connector/cursor.py\u001b[0m in \u001b[0;36mexecutemany\u001b[0;34m(self, operation, seq_params)\u001b[0m\n\u001b[1;32m    650\u001b[0m                 \u001b[0mself\u001b[0m\u001b[0;34m.\u001b[0m\u001b[0m_rowcount\u001b[0m \u001b[0;34m=\u001b[0m \u001b[0;36m0\u001b[0m\u001b[0;34m\u001b[0m\u001b[0m\n\u001b[1;32m    651\u001b[0m                 \u001b[0;32mreturn\u001b[0m\u001b[0;34m\u001b[0m\u001b[0m\n\u001b[0;32m--> 652\u001b[0;31m             \u001b[0mstmt\u001b[0m \u001b[0;34m=\u001b[0m \u001b[0mself\u001b[0m\u001b[0;34m.\u001b[0m\u001b[0m_batch_insert\u001b[0m\u001b[0;34m(\u001b[0m\u001b[0moperation\u001b[0m\u001b[0;34m,\u001b[0m \u001b[0mseq_params\u001b[0m\u001b[0;34m)\u001b[0m\u001b[0;34m\u001b[0m\u001b[0m\n\u001b[0m\u001b[1;32m    653\u001b[0m             \u001b[0;32mif\u001b[0m \u001b[0mstmt\u001b[0m \u001b[0;32mis\u001b[0m \u001b[0;32mnot\u001b[0m \u001b[0;32mNone\u001b[0m\u001b[0;34m:\u001b[0m\u001b[0;34m\u001b[0m\u001b[0m\n\u001b[1;32m    654\u001b[0m                 \u001b[0;32mreturn\u001b[0m \u001b[0mself\u001b[0m\u001b[0;34m.\u001b[0m\u001b[0mexecute\u001b[0m\u001b[0;34m(\u001b[0m\u001b[0mstmt\u001b[0m\u001b[0;34m)\u001b[0m\u001b[0;34m\u001b[0m\u001b[0m\n",
      "\u001b[0;32m~/anaconda3/lib/python3.6/site-packages/mysql/connector/cursor.py\u001b[0m in \u001b[0;36m_batch_insert\u001b[0;34m(self, operation, seq_params)\u001b[0m\n\u001b[1;32m    589\u001b[0m                 \u001b[0;32mif\u001b[0m \u001b[0misinstance\u001b[0m\u001b[0;34m(\u001b[0m\u001b[0mparams\u001b[0m\u001b[0;34m,\u001b[0m \u001b[0mdict\u001b[0m\u001b[0;34m)\u001b[0m\u001b[0;34m:\u001b[0m\u001b[0;34m\u001b[0m\u001b[0m\n\u001b[1;32m    590\u001b[0m                     tmp = _bytestr_format_dict(\n\u001b[0;32m--> 591\u001b[0;31m                         tmp, self._process_params_dict(params))\n\u001b[0m\u001b[1;32m    592\u001b[0m                 \u001b[0;32melse\u001b[0m\u001b[0;34m:\u001b[0m\u001b[0;34m\u001b[0m\u001b[0m\n\u001b[1;32m    593\u001b[0m                     \u001b[0mpsub\u001b[0m \u001b[0;34m=\u001b[0m \u001b[0m_ParamSubstitutor\u001b[0m\u001b[0;34m(\u001b[0m\u001b[0mself\u001b[0m\u001b[0;34m.\u001b[0m\u001b[0m_process_params\u001b[0m\u001b[0;34m(\u001b[0m\u001b[0mparams\u001b[0m\u001b[0;34m)\u001b[0m\u001b[0;34m)\u001b[0m\u001b[0;34m\u001b[0m\u001b[0m\n",
      "\u001b[0;32m~/anaconda3/lib/python3.6/site-packages/mysql/connector/cursor.py\u001b[0m in \u001b[0;36m_process_params_dict\u001b[0;34m(self, params)\u001b[0m\n\u001b[1;32m    402\u001b[0m         \u001b[0;32mexcept\u001b[0m \u001b[0mException\u001b[0m \u001b[0;32mas\u001b[0m \u001b[0merr\u001b[0m\u001b[0;34m:\u001b[0m\u001b[0;34m\u001b[0m\u001b[0m\n\u001b[1;32m    403\u001b[0m             raise errors.ProgrammingError(\n\u001b[0;32m--> 404\u001b[0;31m                 \"Failed processing pyformat-parameters; %s\" % err)\n\u001b[0m\u001b[1;32m    405\u001b[0m         \u001b[0;32melse\u001b[0m\u001b[0;34m:\u001b[0m\u001b[0;34m\u001b[0m\u001b[0m\n\u001b[1;32m    406\u001b[0m             \u001b[0;32mreturn\u001b[0m \u001b[0mres\u001b[0m\u001b[0;34m\u001b[0m\u001b[0m\n",
      "\u001b[0;31mProgrammingError\u001b[0m: (mysql.connector.errors.ProgrammingError) Failed processing pyformat-parameters; Python 'dict' cannot be converted to a MySQL type [SQL: 'INSERT INTO final (lati, longi, n, properties) VALUES (%(lati)s, %(longi)s, %(n)s, %(properties)s)'] [parameters: ({'lati': 76.9156, 'longi': 28.5957, 'n': 'JAFFARPUR KALAN', 'properties': {'mag': 3}}, {'lati': 76.9608, 'longi': 28.6704, 'n': 'MUNDKA', 'properties': {'mag': 3}}, {'lati': 76.9668, 'longi': 28.6287, 'n': 'BABA HARI DAS NAGAR', 'properties': {'mag': 3}}, {'lati': 76.9827, 'longi': 28.6098, 'n': 'NAJAFGARH', 'properties': {'mag': 1}}, {'lati': 76.9947, 'longi': 28.5869, 'n': 'CHHAWLA', 'properties': {'mag': 3}}, {'lati': 77.0036, 'longi': 28.7258, 'n': 'KANJHAWALA', 'properties': {'mag': 3}}, {'lati': 77.0156, 'longi': 28.6037, 'n': 'DWARKA NORTH', 'properties': {'mag': 3}}, {'lati': 77.0228, 'longi': 28.8066, 'n': 'BAWANA', 'properties': {'mag': 3}}  ... displaying 10 of 166 total bound parameter sets ...  {'lati': 77.3185, 'longi': 28.706, 'n': 'HARSH VIHAR', 'properties': {'mag': 1}}, {'lati': 77.3327, 'longi': 28.6249, 'n': 'GHAZIPUR', 'properties': {'mag': 0}})] (Background on this error at: http://sqlalche.me/e/f405)"
     ]
    }
   ],
   "source": [
    "loc.to_sql('final', con=database_connection, if_exists='replace',chunksize=1000,index=False)\n"
   ]
  }
 ],
 "metadata": {
  "kernelspec": {
   "display_name": "Python 3",
   "language": "python",
   "name": "python3"
  },
  "language_info": {
   "codemirror_mode": {
    "name": "ipython",
    "version": 3
   },
   "file_extension": ".py",
   "mimetype": "text/x-python",
   "name": "python",
   "nbconvert_exporter": "python",
   "pygments_lexer": "ipython3",
   "version": "3.6.5"
  }
 },
 "nbformat": 4,
 "nbformat_minor": 2
}
