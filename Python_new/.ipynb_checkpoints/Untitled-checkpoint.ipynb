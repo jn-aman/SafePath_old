{
 "cells": [
  {
   "cell_type": "code",
   "execution_count": null,
   "metadata": {},
   "outputs": [],
   "source": [
    "import pandas as pd\n",
    "file_name=\"vocab.xlsx\"\n",
    "xl_file = pd.ExcelFile(file_name)\n",
    "\n",
    "\n",
    "data = pd.read_excel(file_name, sheet_name='Sheet1')\n",
    "# dat.dropna(subset=[col_list])  # col_list is a list of column names to consider for nan values.\n"
   ]
  }
 ],
 "metadata": {
  "kernelspec": {
   "display_name": "Python 3",
   "language": "python",
   "name": "python3"
  },
  "language_info": {
   "codemirror_mode": {
    "name": "ipython",
    "version": 3
   },
   "file_extension": ".py",
   "mimetype": "text/x-python",
   "name": "python",
   "nbconvert_exporter": "python",
   "pygments_lexer": "ipython3",
   "version": "3.6.5"
  }
 },
 "nbformat": 4,
 "nbformat_minor": 2
}
